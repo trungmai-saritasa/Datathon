{
 "cells": [
  {
   "cell_type": "code",
   "execution_count": 451,
   "metadata": {},
   "outputs": [],
   "source": [
    "import pandas as pd\n",
    "import numpy as np\n",
    "from sklearn.linear_model import LinearRegression as lr\n",
    "from sklearn.cluster import KMeans\n",
    "import matplotlib.pyplot as plt\n",
    "from sklearn import metrics\n",
    "import plotly.express as px\n",
    "from sklearn.model_selection import train_test_split, KFold, RepeatedStratifiedKFold, GridSearchCV\n",
    "import plotly.graph_objects as go"
   ]
  },
  {
   "cell_type": "code",
   "execution_count": 452,
   "metadata": {},
   "outputs": [
    {
     "data": {
      "text/html": [
       "<div>\n",
       "<style scoped>\n",
       "    .dataframe tbody tr th:only-of-type {\n",
       "        vertical-align: middle;\n",
       "    }\n",
       "\n",
       "    .dataframe tbody tr th {\n",
       "        vertical-align: top;\n",
       "    }\n",
       "\n",
       "    .dataframe thead th {\n",
       "        text-align: right;\n",
       "    }\n",
       "</style>\n",
       "<table border=\"1\" class=\"dataframe\">\n",
       "  <thead>\n",
       "    <tr style=\"text-align: right;\">\n",
       "      <th></th>\n",
       "      <th>order_id</th>\n",
       "      <th>order_date</th>\n",
       "      <th>ship_date</th>\n",
       "      <th>ship_mode</th>\n",
       "      <th>customer_name</th>\n",
       "      <th>segment</th>\n",
       "      <th>state</th>\n",
       "      <th>country</th>\n",
       "      <th>market</th>\n",
       "      <th>region</th>\n",
       "      <th>product_id</th>\n",
       "      <th>category</th>\n",
       "      <th>sub_category</th>\n",
       "      <th>product_name</th>\n",
       "      <th>sales</th>\n",
       "      <th>quantity</th>\n",
       "      <th>discount</th>\n",
       "      <th>profit</th>\n",
       "      <th>shipping_cost</th>\n",
       "      <th>order_priority</th>\n",
       "    </tr>\n",
       "  </thead>\n",
       "  <tbody>\n",
       "    <tr>\n",
       "      <th>0</th>\n",
       "      <td>AG-2011-2040</td>\n",
       "      <td>2011-01-01 00:00:00</td>\n",
       "      <td>2011-06-01 00:00:00</td>\n",
       "      <td>Standard Class</td>\n",
       "      <td>Toby Braunhardt</td>\n",
       "      <td>Consumer</td>\n",
       "      <td>Constantine</td>\n",
       "      <td>Algeria</td>\n",
       "      <td>Africa</td>\n",
       "      <td>Africa</td>\n",
       "      <td>OFF-TEN-10000025</td>\n",
       "      <td>Office Supplies</td>\n",
       "      <td>Storage</td>\n",
       "      <td>Tenex Lockers, Blue</td>\n",
       "      <td>408</td>\n",
       "      <td>2</td>\n",
       "      <td>0.0</td>\n",
       "      <td>106.140</td>\n",
       "      <td>35.46</td>\n",
       "      <td>Medium</td>\n",
       "    </tr>\n",
       "    <tr>\n",
       "      <th>1</th>\n",
       "      <td>IN-2011-47883</td>\n",
       "      <td>2011-01-01 00:00:00</td>\n",
       "      <td>2011-08-01 00:00:00</td>\n",
       "      <td>Standard Class</td>\n",
       "      <td>Joseph Holt</td>\n",
       "      <td>Consumer</td>\n",
       "      <td>New South Wales</td>\n",
       "      <td>Australia</td>\n",
       "      <td>APAC</td>\n",
       "      <td>Oceania</td>\n",
       "      <td>OFF-SU-10000618</td>\n",
       "      <td>Office Supplies</td>\n",
       "      <td>Supplies</td>\n",
       "      <td>Acme Trimmer, High Speed</td>\n",
       "      <td>120</td>\n",
       "      <td>3</td>\n",
       "      <td>0.1</td>\n",
       "      <td>36.036</td>\n",
       "      <td>9.72</td>\n",
       "      <td>Medium</td>\n",
       "    </tr>\n",
       "    <tr>\n",
       "      <th>2</th>\n",
       "      <td>HU-2011-1220</td>\n",
       "      <td>2011-01-01 00:00:00</td>\n",
       "      <td>2011-05-01 00:00:00</td>\n",
       "      <td>Second Class</td>\n",
       "      <td>Annie Thurman</td>\n",
       "      <td>Consumer</td>\n",
       "      <td>Budapest</td>\n",
       "      <td>Hungary</td>\n",
       "      <td>EMEA</td>\n",
       "      <td>EMEA</td>\n",
       "      <td>OFF-TEN-10001585</td>\n",
       "      <td>Office Supplies</td>\n",
       "      <td>Storage</td>\n",
       "      <td>Tenex Box, Single Width</td>\n",
       "      <td>66</td>\n",
       "      <td>4</td>\n",
       "      <td>0.0</td>\n",
       "      <td>29.640</td>\n",
       "      <td>8.17</td>\n",
       "      <td>High</td>\n",
       "    </tr>\n",
       "  </tbody>\n",
       "</table>\n",
       "</div>"
      ],
      "text/plain": [
       "        order_id           order_date            ship_date       ship_mode  \\\n",
       "0   AG-2011-2040  2011-01-01 00:00:00  2011-06-01 00:00:00  Standard Class   \n",
       "1  IN-2011-47883  2011-01-01 00:00:00  2011-08-01 00:00:00  Standard Class   \n",
       "2   HU-2011-1220  2011-01-01 00:00:00  2011-05-01 00:00:00    Second Class   \n",
       "\n",
       "     customer_name   segment            state    country  market   region  \\\n",
       "0  Toby Braunhardt  Consumer      Constantine    Algeria  Africa   Africa   \n",
       "1      Joseph Holt  Consumer  New South Wales  Australia    APAC  Oceania   \n",
       "2    Annie Thurman  Consumer         Budapest    Hungary    EMEA     EMEA   \n",
       "\n",
       "         product_id         category sub_category              product_name  \\\n",
       "0  OFF-TEN-10000025  Office Supplies      Storage       Tenex Lockers, Blue   \n",
       "1   OFF-SU-10000618  Office Supplies     Supplies  Acme Trimmer, High Speed   \n",
       "2  OFF-TEN-10001585  Office Supplies      Storage   Tenex Box, Single Width   \n",
       "\n",
       "   sales  quantity  discount   profit  shipping_cost order_priority  \n",
       "0    408         2       0.0  106.140          35.46         Medium  \n",
       "1    120         3       0.1   36.036           9.72         Medium  \n",
       "2     66         4       0.0   29.640           8.17           High  "
      ]
     },
     "execution_count": 452,
     "metadata": {},
     "output_type": "execute_result"
    }
   ],
   "source": [
    "df = pd.read_excel(\"./app_build/MDSInc_sales.xlsx\")\n",
    "df.head(3)"
   ]
  },
  {
   "cell_type": "code",
   "execution_count": 453,
   "metadata": {},
   "outputs": [
    {
     "data": {
      "text/html": [
       "<div>\n",
       "<style scoped>\n",
       "    .dataframe tbody tr th:only-of-type {\n",
       "        vertical-align: middle;\n",
       "    }\n",
       "\n",
       "    .dataframe tbody tr th {\n",
       "        vertical-align: top;\n",
       "    }\n",
       "\n",
       "    .dataframe thead th {\n",
       "        text-align: right;\n",
       "    }\n",
       "</style>\n",
       "<table border=\"1\" class=\"dataframe\">\n",
       "  <thead>\n",
       "    <tr style=\"text-align: right;\">\n",
       "      <th></th>\n",
       "      <th>customer_name</th>\n",
       "      <th>sales</th>\n",
       "      <th>quantity</th>\n",
       "      <th>discount</th>\n",
       "      <th>profit</th>\n",
       "      <th>shipping_cost</th>\n",
       "    </tr>\n",
       "  </thead>\n",
       "  <tbody>\n",
       "    <tr>\n",
       "      <th>0</th>\n",
       "      <td>Aaron Bergman</td>\n",
       "      <td>18025</td>\n",
       "      <td>220</td>\n",
       "      <td>6.820</td>\n",
       "      <td>3102.58380</td>\n",
       "      <td>2570.39</td>\n",
       "    </tr>\n",
       "    <tr>\n",
       "      <th>1</th>\n",
       "      <td>Aaron Hawkins</td>\n",
       "      <td>17352</td>\n",
       "      <td>198</td>\n",
       "      <td>8.412</td>\n",
       "      <td>1452.88504</td>\n",
       "      <td>1832.44</td>\n",
       "    </tr>\n",
       "    <tr>\n",
       "      <th>2</th>\n",
       "      <td>Aaron Smayling</td>\n",
       "      <td>5657</td>\n",
       "      <td>106</td>\n",
       "      <td>1.520</td>\n",
       "      <td>619.16020</td>\n",
       "      <td>559.95</td>\n",
       "    </tr>\n",
       "    <tr>\n",
       "      <th>3</th>\n",
       "      <td>Adam Bellavance</td>\n",
       "      <td>13691</td>\n",
       "      <td>153</td>\n",
       "      <td>4.690</td>\n",
       "      <td>3616.55450</td>\n",
       "      <td>1386.70</td>\n",
       "    </tr>\n",
       "    <tr>\n",
       "      <th>4</th>\n",
       "      <td>Adam Hart</td>\n",
       "      <td>13176</td>\n",
       "      <td>180</td>\n",
       "      <td>4.932</td>\n",
       "      <td>473.36682</td>\n",
       "      <td>1142.53</td>\n",
       "    </tr>\n",
       "  </tbody>\n",
       "</table>\n",
       "</div>"
      ],
      "text/plain": [
       "     customer_name  sales  quantity  discount      profit  shipping_cost\n",
       "0    Aaron Bergman  18025       220     6.820  3102.58380        2570.39\n",
       "1    Aaron Hawkins  17352       198     8.412  1452.88504        1832.44\n",
       "2   Aaron Smayling   5657       106     1.520   619.16020         559.95\n",
       "3  Adam Bellavance  13691       153     4.690  3616.55450        1386.70\n",
       "4        Adam Hart  13176       180     4.932   473.36682        1142.53"
      ]
     },
     "execution_count": 453,
     "metadata": {},
     "output_type": "execute_result"
    }
   ],
   "source": [
    "cleaned_df = df.groupby(\"customer_name\").sum().reset_index()\n",
    "cleaned_df.head()"
   ]
  },
  {
   "cell_type": "code",
   "execution_count": 454,
   "metadata": {},
   "outputs": [
    {
     "data": {
      "text/plain": [
       "array([[1.80250000e+04, 2.20000000e+02, 6.82000000e+00, 3.10258380e+03,\n",
       "        2.57039000e+03],\n",
       "       [1.73520000e+04, 1.98000000e+02, 8.41200000e+00, 1.45288504e+03,\n",
       "        1.83244000e+03],\n",
       "       [5.65700000e+03, 1.06000000e+02, 1.52000000e+00, 6.19160200e+02,\n",
       "        5.59950000e+02],\n",
       "       [1.36910000e+04, 1.53000000e+02, 4.69000000e+00, 3.61655450e+03,\n",
       "        1.38670000e+03],\n",
       "       [1.31760000e+04, 1.80000000e+02, 4.93200000e+00, 4.73366820e+02,\n",
       "        1.14253000e+03]])"
      ]
     },
     "execution_count": 454,
     "metadata": {},
     "output_type": "execute_result"
    }
   ],
   "source": [
    "new_df = cleaned_df.drop(\"customer_name\", axis=1).to_numpy()\n",
    "new_df[:5]"
   ]
  },
  {
   "cell_type": "code",
   "execution_count": 455,
   "metadata": {},
   "outputs": [],
   "source": [
    "sum_distances = []\n",
    "K = range(1,15)\n",
    "for k in K:\n",
    "  k_mean = KMeans(n_clusters=k)\n",
    "  k_mean.fit(new_df)\n",
    "  sum_distances.append(k_mean.inertia_)"
   ]
  },
  {
   "cell_type": "code",
   "execution_count": 478,
   "metadata": {},
   "outputs": [
    {
     "data": {
      "text/plain": [
       "Text(0.5, 1.0, 'Elbow method')"
      ]
     },
     "execution_count": 478,
     "metadata": {},
     "output_type": "execute_result"
    },
    {
     "data": {
      "image/png": "[encoded data removed]",
      "text/plain": [
       "<Figure size 640x480 with 1 Axes>"
      ]
     },
     "metadata": {},
     "output_type": "display_data"
    }
   ],
   "source": [
    "plt.plot(K, sum_distances, 'bx-')\n",
    "plt.xlabel(\"Number of clusters\")\n",
    "plt.ylabel(\"Inertia value\")\n",
    "plt.title(\"Elbow method\", fontsize=14)"
   ]
  },
  {
   "cell_type": "code",
   "execution_count": 476,
   "metadata": {},
   "outputs": [
    {
     "name": "stdout",
     "output_type": "stream",
     "text": [
      "Silhouette score 0.5393925270060999\n"
     ]
    }
   ],
   "source": [
    "k_mean_2 = KMeans(n_clusters=2)\n",
    "model = k_mean_2.fit(new_df)\n",
    "result = k_mean_2.labels_\n",
    "\n",
    "print('Silhouette score', metrics.silhouette_score(new_df, result, metric='euclidean'))"
   ]
  },
  {
   "cell_type": "code",
   "execution_count": 479,
   "metadata": {},
   "outputs": [
    {
     "data": {
      "image/png": "[encoded data removed]",
      "text/plain": [
       "<Figure size 640x480 with 1 Axes>"
      ]
     },
     "metadata": {},
     "output_type": "display_data"
    }
   ],
   "source": [
    "obj = {\n",
    "    \"sales\": 0,\n",
    "    \"quantity\": 1,\n",
    "    \"discount\": 2,\n",
    "    \"profit\": 3,\n",
    "    \"shipping_cost\": 4,\n",
    "}\n",
    "column = obj[\"profit\"]\n",
    "\n",
    "plt.scatter(\n",
    "    new_df[result == 0, 0], new_df[result == 0, column],\n",
    "    c='lightgreen',\n",
    "    marker='s', edgecolor='black',\n",
    "    label='Segmentation 1'\n",
    ")\n",
    "plt.scatter(\n",
    "    new_df[result == 1, 0], new_df[result == 1, column],\n",
    "    c='orange',\n",
    "    marker='o', edgecolor='black',\n",
    "    label='Segmentation 2'\n",
    ")\n",
    "plt.scatter(\n",
    "    model.cluster_centers_[:, 0], model.cluster_centers_[:, column],\n",
    "    s=250, marker='*',\n",
    "    c='red', edgecolor='black',\n",
    "    label='Centroids'\n",
    ")\n",
    "\n",
    "plt.legend(scatterpoints=1)\n",
    "plt.xlabel(\"Sales\")\n",
    "plt.ylabel(\"Profits\")\n",
    "plt.title(\"Customer Segmentation\", fontsize=14)\n",
    "plt.grid()"
   ]
  },
  {
   "attachments": {},
   "cell_type": "markdown",
   "metadata": {},
   "source": [
    "---"
   ]
  },
  {
   "cell_type": "code",
   "execution_count": 460,
   "metadata": {},
   "outputs": [
    {
     "data": {
      "text/html": [
       "<div>\n",
       "<style scoped>\n",
       "    .dataframe tbody tr th:only-of-type {\n",
       "        vertical-align: middle;\n",
       "    }\n",
       "\n",
       "    .dataframe tbody tr th {\n",
       "        vertical-align: top;\n",
       "    }\n",
       "\n",
       "    .dataframe thead th {\n",
       "        text-align: right;\n",
       "    }\n",
       "</style>\n",
       "<table border=\"1\" class=\"dataframe\">\n",
       "  <thead>\n",
       "    <tr style=\"text-align: right;\">\n",
       "      <th></th>\n",
       "      <th>sales</th>\n",
       "      <th>quantity</th>\n",
       "      <th>discount</th>\n",
       "      <th>profit</th>\n",
       "      <th>shipping_cost</th>\n",
       "    </tr>\n",
       "  </thead>\n",
       "  <tbody>\n",
       "    <tr>\n",
       "      <th>0</th>\n",
       "      <td>808</td>\n",
       "      <td>19</td>\n",
       "      <td>0.80</td>\n",
       "      <td>198.8730</td>\n",
       "      <td>64.67</td>\n",
       "    </tr>\n",
       "    <tr>\n",
       "      <th>1</th>\n",
       "      <td>2457</td>\n",
       "      <td>54</td>\n",
       "      <td>1.35</td>\n",
       "      <td>603.4736</td>\n",
       "      <td>342.17</td>\n",
       "    </tr>\n",
       "    <tr>\n",
       "      <th>2</th>\n",
       "      <td>12567</td>\n",
       "      <td>177</td>\n",
       "      <td>5.94</td>\n",
       "      <td>1905.1539</td>\n",
       "      <td>1328.16</td>\n",
       "    </tr>\n",
       "  </tbody>\n",
       "</table>\n",
       "</div>"
      ],
      "text/plain": [
       "   sales  quantity  discount     profit  shipping_cost\n",
       "0    808        19      0.80   198.8730          64.67\n",
       "1   2457        54      1.35   603.4736         342.17\n",
       "2  12567       177      5.94  1905.1539        1328.16"
      ]
     },
     "execution_count": 460,
     "metadata": {},
     "output_type": "execute_result"
    }
   ],
   "source": [
    "linear_df = df.groupby(\"order_date\").sum().reset_index()\n",
    "linear_df = linear_df.drop(\"order_date\", axis=1)\n",
    "linear_df.head(3)"
   ]
  },
  {
   "cell_type": "code",
   "execution_count": 461,
   "metadata": {},
   "outputs": [
    {
     "data": {
      "text/plain": [
       "((1069, 4), (1069,))"
      ]
     },
     "execution_count": 461,
     "metadata": {},
     "output_type": "execute_result"
    }
   ],
   "source": [
    "y = linear_df.iloc[:, 0]\n",
    "X = linear_df.iloc[:, 1:]\n",
    "X.shape, y.shape"
   ]
  },
  {
   "cell_type": "code",
   "execution_count": 462,
   "metadata": {},
   "outputs": [
    {
     "data": {
      "text/plain": [
       "((855, 4), (855,), (214, 4), (214,))"
      ]
     },
     "execution_count": 462,
     "metadata": {},
     "output_type": "execute_result"
    }
   ],
   "source": [
    "X_train, X_test, y_train, y_test = train_test_split(X, y, test_size=0.2, shuffle=True, random_state=42)\n",
    "X_train.shape, y_train.shape, X_test.shape, y_test.shape"
   ]
  },
  {
   "cell_type": "code",
   "execution_count": 463,
   "metadata": {},
   "outputs": [
    {
     "name": "stderr",
     "output_type": "stream",
     "text": [
      "/opt/homebrew/Caskroom/miniconda/base/envs/min_ds-env/lib/python3.8/site-packages/sklearn/model_selection/_split.py:666: UserWarning:\n",
      "\n",
      "The least populated class in y has only 1 members, which is less than n_splits=2.\n",
      "\n",
      "/opt/homebrew/Caskroom/miniconda/base/envs/min_ds-env/lib/python3.8/site-packages/sklearn/model_selection/_split.py:666: UserWarning:\n",
      "\n",
      "The least populated class in y has only 1 members, which is less than n_splits=2.\n",
      "\n",
      "/opt/homebrew/Caskroom/miniconda/base/envs/min_ds-env/lib/python3.8/site-packages/sklearn/model_selection/_split.py:666: UserWarning:\n",
      "\n",
      "The least populated class in y has only 1 members, which is less than n_splits=2.\n",
      "\n",
      "/opt/homebrew/Caskroom/miniconda/base/envs/min_ds-env/lib/python3.8/site-packages/sklearn/model_selection/_split.py:666: UserWarning:\n",
      "\n",
      "The least populated class in y has only 1 members, which is less than n_splits=2.\n",
      "\n",
      "/opt/homebrew/Caskroom/miniconda/base/envs/min_ds-env/lib/python3.8/site-packages/sklearn/model_selection/_split.py:666: UserWarning:\n",
      "\n",
      "The least populated class in y has only 1 members, which is less than n_splits=2.\n",
      "\n",
      "/opt/homebrew/Caskroom/miniconda/base/envs/min_ds-env/lib/python3.8/site-packages/sklearn/model_selection/_split.py:666: UserWarning:\n",
      "\n",
      "The least populated class in y has only 1 members, which is less than n_splits=2.\n",
      "\n",
      "/opt/homebrew/Caskroom/miniconda/base/envs/min_ds-env/lib/python3.8/site-packages/sklearn/model_selection/_split.py:666: UserWarning:\n",
      "\n",
      "The least populated class in y has only 1 members, which is less than n_splits=2.\n",
      "\n",
      "/opt/homebrew/Caskroom/miniconda/base/envs/min_ds-env/lib/python3.8/site-packages/sklearn/model_selection/_split.py:666: UserWarning:\n",
      "\n",
      "The least populated class in y has only 1 members, which is less than n_splits=2.\n",
      "\n",
      "/opt/homebrew/Caskroom/miniconda/base/envs/min_ds-env/lib/python3.8/site-packages/sklearn/model_selection/_split.py:666: UserWarning:\n",
      "\n",
      "The least populated class in y has only 1 members, which is less than n_splits=2.\n",
      "\n",
      "/opt/homebrew/Caskroom/miniconda/base/envs/min_ds-env/lib/python3.8/site-packages/sklearn/model_selection/_split.py:666: UserWarning:\n",
      "\n",
      "The least populated class in y has only 1 members, which is less than n_splits=2.\n",
      "\n",
      "/opt/homebrew/Caskroom/miniconda/base/envs/min_ds-env/lib/python3.8/site-packages/sklearn/metrics/cluster/_supervised.py:58: UserWarning:\n",
      "\n",
      "Clustering metrics expects discrete values but received multiclass values for label, and continuous values for target\n",
      "\n",
      "/opt/homebrew/Caskroom/miniconda/base/envs/min_ds-env/lib/python3.8/site-packages/sklearn/metrics/cluster/_supervised.py:58: UserWarning:\n",
      "\n",
      "Clustering metrics expects discrete values but received multiclass values for label, and continuous values for target\n",
      "\n",
      "/opt/homebrew/Caskroom/miniconda/base/envs/min_ds-env/lib/python3.8/site-packages/sklearn/metrics/cluster/_supervised.py:58: UserWarning:\n",
      "\n",
      "Clustering metrics expects discrete values but received multiclass values for label, and continuous values for target\n",
      "\n",
      "/opt/homebrew/Caskroom/miniconda/base/envs/min_ds-env/lib/python3.8/site-packages/sklearn/metrics/cluster/_supervised.py:58: UserWarning:\n",
      "\n",
      "Clustering metrics expects discrete values but received multiclass values for label, and continuous values for target\n",
      "\n",
      "/opt/homebrew/Caskroom/miniconda/base/envs/min_ds-env/lib/python3.8/site-packages/sklearn/metrics/cluster/_supervised.py:58: UserWarning:\n",
      "\n",
      "Clustering metrics expects discrete values but received multiclass values for label, and continuous values for target\n",
      "\n",
      "/opt/homebrew/Caskroom/miniconda/base/envs/min_ds-env/lib/python3.8/site-packages/sklearn/metrics/cluster/_supervised.py:58: UserWarning:\n",
      "\n",
      "Clustering metrics expects discrete values but received multiclass values for label, and continuous values for target\n",
      "\n",
      "/opt/homebrew/Caskroom/miniconda/base/envs/min_ds-env/lib/python3.8/site-packages/sklearn/metrics/cluster/_supervised.py:58: UserWarning:\n",
      "\n",
      "Clustering metrics expects discrete values but received multiclass values for label, and continuous values for target\n",
      "\n",
      "/opt/homebrew/Caskroom/miniconda/base/envs/min_ds-env/lib/python3.8/site-packages/sklearn/metrics/cluster/_supervised.py:58: UserWarning:\n",
      "\n",
      "Clustering metrics expects discrete values but received multiclass values for label, and continuous values for target\n",
      "\n",
      "/opt/homebrew/Caskroom/miniconda/base/envs/min_ds-env/lib/python3.8/site-packages/sklearn/metrics/cluster/_supervised.py:58: UserWarning:\n",
      "\n",
      "Clustering metrics expects discrete values but received multiclass values for label, and continuous values for target\n",
      "\n",
      "/opt/homebrew/Caskroom/miniconda/base/envs/min_ds-env/lib/python3.8/site-packages/sklearn/metrics/cluster/_supervised.py:58: UserWarning:\n",
      "\n",
      "Clustering metrics expects discrete values but received multiclass values for label, and continuous values for target\n",
      "\n",
      "/opt/homebrew/Caskroom/miniconda/base/envs/min_ds-env/lib/python3.8/site-packages/sklearn/metrics/cluster/_supervised.py:58: UserWarning:\n",
      "\n",
      "Clustering metrics expects discrete values but received multiclass values for label, and continuous values for target\n",
      "\n",
      "/opt/homebrew/Caskroom/miniconda/base/envs/min_ds-env/lib/python3.8/site-packages/sklearn/metrics/cluster/_supervised.py:58: UserWarning:\n",
      "\n",
      "Clustering metrics expects discrete values but received multiclass values for label, and continuous values for target\n",
      "\n",
      "/opt/homebrew/Caskroom/miniconda/base/envs/min_ds-env/lib/python3.8/site-packages/sklearn/metrics/cluster/_supervised.py:58: UserWarning:\n",
      "\n",
      "Clustering metrics expects discrete values but received multiclass values for label, and continuous values for target\n",
      "\n",
      "/opt/homebrew/Caskroom/miniconda/base/envs/min_ds-env/lib/python3.8/site-packages/sklearn/metrics/cluster/_supervised.py:58: UserWarning:\n",
      "\n",
      "Clustering metrics expects discrete values but received multiclass values for label, and continuous values for target\n",
      "\n",
      "/opt/homebrew/Caskroom/miniconda/base/envs/min_ds-env/lib/python3.8/site-packages/sklearn/metrics/cluster/_supervised.py:58: UserWarning:\n",
      "\n",
      "Clustering metrics expects discrete values but received multiclass values for label, and continuous values for target\n",
      "\n",
      "/opt/homebrew/Caskroom/miniconda/base/envs/min_ds-env/lib/python3.8/site-packages/sklearn/metrics/cluster/_supervised.py:58: UserWarning:\n",
      "\n",
      "Clustering metrics expects discrete values but received multiclass values for label, and continuous values for target\n",
      "\n",
      "/opt/homebrew/Caskroom/miniconda/base/envs/min_ds-env/lib/python3.8/site-packages/sklearn/metrics/cluster/_supervised.py:58: UserWarning:\n",
      "\n",
      "Clustering metrics expects discrete values but received multiclass values for label, and continuous values for target\n",
      "\n",
      "/opt/homebrew/Caskroom/miniconda/base/envs/min_ds-env/lib/python3.8/site-packages/sklearn/metrics/cluster/_supervised.py:58: UserWarning:\n",
      "\n",
      "Clustering metrics expects discrete values but received multiclass values for label, and continuous values for target\n",
      "\n",
      "/opt/homebrew/Caskroom/miniconda/base/envs/min_ds-env/lib/python3.8/site-packages/sklearn/metrics/cluster/_supervised.py:58: UserWarning:\n",
      "\n",
      "Clustering metrics expects discrete values but received multiclass values for label, and continuous values for target\n",
      "\n",
      "/opt/homebrew/Caskroom/miniconda/base/envs/min_ds-env/lib/python3.8/site-packages/sklearn/metrics/cluster/_supervised.py:58: UserWarning:\n",
      "\n",
      "Clustering metrics expects discrete values but received multiclass values for label, and continuous values for target\n",
      "\n",
      "/opt/homebrew/Caskroom/miniconda/base/envs/min_ds-env/lib/python3.8/site-packages/sklearn/metrics/cluster/_supervised.py:58: UserWarning:\n",
      "\n",
      "Clustering metrics expects discrete values but received multiclass values for label, and continuous values for target\n",
      "\n",
      "/opt/homebrew/Caskroom/miniconda/base/envs/min_ds-env/lib/python3.8/site-packages/sklearn/metrics/cluster/_supervised.py:58: UserWarning:\n",
      "\n",
      "Clustering metrics expects discrete values but received multiclass values for label, and continuous values for target\n",
      "\n",
      "/opt/homebrew/Caskroom/miniconda/base/envs/min_ds-env/lib/python3.8/site-packages/sklearn/metrics/cluster/_supervised.py:58: UserWarning:\n",
      "\n",
      "Clustering metrics expects discrete values but received multiclass values for label, and continuous values for target\n",
      "\n",
      "/opt/homebrew/Caskroom/miniconda/base/envs/min_ds-env/lib/python3.8/site-packages/sklearn/metrics/cluster/_supervised.py:58: UserWarning:\n",
      "\n",
      "Clustering metrics expects discrete values but received multiclass values for label, and continuous values for target\n",
      "\n",
      "/opt/homebrew/Caskroom/miniconda/base/envs/min_ds-env/lib/python3.8/site-packages/sklearn/metrics/cluster/_supervised.py:58: UserWarning:\n",
      "\n",
      "Clustering metrics expects discrete values but received multiclass values for label, and continuous values for target\n",
      "\n",
      "/opt/homebrew/Caskroom/miniconda/base/envs/min_ds-env/lib/python3.8/site-packages/sklearn/metrics/cluster/_supervised.py:58: UserWarning:\n",
      "\n",
      "Clustering metrics expects discrete values but received multiclass values for label, and continuous values for target\n",
      "\n",
      "/opt/homebrew/Caskroom/miniconda/base/envs/min_ds-env/lib/python3.8/site-packages/sklearn/metrics/cluster/_supervised.py:58: UserWarning:\n",
      "\n",
      "Clustering metrics expects discrete values but received multiclass values for label, and continuous values for target\n",
      "\n",
      "/opt/homebrew/Caskroom/miniconda/base/envs/min_ds-env/lib/python3.8/site-packages/sklearn/metrics/cluster/_supervised.py:58: UserWarning:\n",
      "\n",
      "Clustering metrics expects discrete values but received multiclass values for label, and continuous values for target\n",
      "\n",
      "/opt/homebrew/Caskroom/miniconda/base/envs/min_ds-env/lib/python3.8/site-packages/sklearn/metrics/cluster/_supervised.py:58: UserWarning:\n",
      "\n",
      "Clustering metrics expects discrete values but received multiclass values for label, and continuous values for target\n",
      "\n",
      "/opt/homebrew/Caskroom/miniconda/base/envs/min_ds-env/lib/python3.8/site-packages/sklearn/metrics/cluster/_supervised.py:58: UserWarning:\n",
      "\n",
      "Clustering metrics expects discrete values but received multiclass values for label, and continuous values for target\n",
      "\n",
      "/opt/homebrew/Caskroom/miniconda/base/envs/min_ds-env/lib/python3.8/site-packages/sklearn/metrics/cluster/_supervised.py:58: UserWarning:\n",
      "\n",
      "Clustering metrics expects discrete values but received multiclass values for label, and continuous values for target\n",
      "\n",
      "/opt/homebrew/Caskroom/miniconda/base/envs/min_ds-env/lib/python3.8/site-packages/sklearn/metrics/cluster/_supervised.py:58: UserWarning:\n",
      "\n",
      "Clustering metrics expects discrete values but received multiclass values for label, and continuous values for target\n",
      "\n",
      "/opt/homebrew/Caskroom/miniconda/base/envs/min_ds-env/lib/python3.8/site-packages/sklearn/metrics/cluster/_supervised.py:58: UserWarning:\n",
      "\n",
      "Clustering metrics expects discrete values but received multiclass values for label, and continuous values for target\n",
      "\n",
      "/opt/homebrew/Caskroom/miniconda/base/envs/min_ds-env/lib/python3.8/site-packages/sklearn/metrics/cluster/_supervised.py:58: UserWarning:\n",
      "\n",
      "Clustering metrics expects discrete values but received multiclass values for label, and continuous values for target\n",
      "\n",
      "/opt/homebrew/Caskroom/miniconda/base/envs/min_ds-env/lib/python3.8/site-packages/sklearn/metrics/cluster/_supervised.py:58: UserWarning:\n",
      "\n",
      "Clustering metrics expects discrete values but received multiclass values for label, and continuous values for target\n",
      "\n",
      "/opt/homebrew/Caskroom/miniconda/base/envs/min_ds-env/lib/python3.8/site-packages/sklearn/metrics/cluster/_supervised.py:58: UserWarning:\n",
      "\n",
      "Clustering metrics expects discrete values but received multiclass values for label, and continuous values for target\n",
      "\n",
      "/opt/homebrew/Caskroom/miniconda/base/envs/min_ds-env/lib/python3.8/site-packages/sklearn/metrics/cluster/_supervised.py:58: UserWarning:\n",
      "\n",
      "Clustering metrics expects discrete values but received multiclass values for label, and continuous values for target\n",
      "\n",
      "/opt/homebrew/Caskroom/miniconda/base/envs/min_ds-env/lib/python3.8/site-packages/sklearn/metrics/cluster/_supervised.py:58: UserWarning:\n",
      "\n",
      "Clustering metrics expects discrete values but received multiclass values for label, and continuous values for target\n",
      "\n",
      "/opt/homebrew/Caskroom/miniconda/base/envs/min_ds-env/lib/python3.8/site-packages/sklearn/metrics/cluster/_supervised.py:58: UserWarning:\n",
      "\n",
      "Clustering metrics expects discrete values but received multiclass values for label, and continuous values for target\n",
      "\n",
      "/opt/homebrew/Caskroom/miniconda/base/envs/min_ds-env/lib/python3.8/site-packages/sklearn/metrics/cluster/_supervised.py:58: UserWarning:\n",
      "\n",
      "Clustering metrics expects discrete values but received multiclass values for label, and continuous values for target\n",
      "\n",
      "/opt/homebrew/Caskroom/miniconda/base/envs/min_ds-env/lib/python3.8/site-packages/sklearn/metrics/cluster/_supervised.py:58: UserWarning:\n",
      "\n",
      "Clustering metrics expects discrete values but received multiclass values for label, and continuous values for target\n",
      "\n",
      "/opt/homebrew/Caskroom/miniconda/base/envs/min_ds-env/lib/python3.8/site-packages/sklearn/metrics/cluster/_supervised.py:58: UserWarning:\n",
      "\n",
      "Clustering metrics expects discrete values but received multiclass values for label, and continuous values for target\n",
      "\n",
      "/opt/homebrew/Caskroom/miniconda/base/envs/min_ds-env/lib/python3.8/site-packages/sklearn/metrics/cluster/_supervised.py:58: UserWarning:\n",
      "\n",
      "Clustering metrics expects discrete values but received multiclass values for label, and continuous values for target\n",
      "\n",
      "/opt/homebrew/Caskroom/miniconda/base/envs/min_ds-env/lib/python3.8/site-packages/sklearn/metrics/cluster/_supervised.py:58: UserWarning:\n",
      "\n",
      "Clustering metrics expects discrete values but received multiclass values for label, and continuous values for target\n",
      "\n",
      "/opt/homebrew/Caskroom/miniconda/base/envs/min_ds-env/lib/python3.8/site-packages/sklearn/metrics/cluster/_supervised.py:58: UserWarning:\n",
      "\n",
      "Clustering metrics expects discrete values but received multiclass values for label, and continuous values for target\n",
      "\n",
      "/opt/homebrew/Caskroom/miniconda/base/envs/min_ds-env/lib/python3.8/site-packages/sklearn/metrics/cluster/_supervised.py:58: UserWarning:\n",
      "\n",
      "Clustering metrics expects discrete values but received multiclass values for label, and continuous values for target\n",
      "\n",
      "/opt/homebrew/Caskroom/miniconda/base/envs/min_ds-env/lib/python3.8/site-packages/sklearn/metrics/cluster/_supervised.py:58: UserWarning:\n",
      "\n",
      "Clustering metrics expects discrete values but received multiclass values for label, and continuous values for target\n",
      "\n",
      "/opt/homebrew/Caskroom/miniconda/base/envs/min_ds-env/lib/python3.8/site-packages/sklearn/metrics/cluster/_supervised.py:58: UserWarning:\n",
      "\n",
      "Clustering metrics expects discrete values but received multiclass values for label, and continuous values for target\n",
      "\n",
      "/opt/homebrew/Caskroom/miniconda/base/envs/min_ds-env/lib/python3.8/site-packages/sklearn/metrics/cluster/_supervised.py:58: UserWarning:\n",
      "\n",
      "Clustering metrics expects discrete values but received multiclass values for label, and continuous values for target\n",
      "\n",
      "/opt/homebrew/Caskroom/miniconda/base/envs/min_ds-env/lib/python3.8/site-packages/sklearn/metrics/cluster/_supervised.py:58: UserWarning:\n",
      "\n",
      "Clustering metrics expects discrete values but received multiclass values for label, and continuous values for target\n",
      "\n",
      "/opt/homebrew/Caskroom/miniconda/base/envs/min_ds-env/lib/python3.8/site-packages/sklearn/metrics/cluster/_supervised.py:58: UserWarning:\n",
      "\n",
      "Clustering metrics expects discrete values but received multiclass values for label, and continuous values for target\n",
      "\n",
      "/opt/homebrew/Caskroom/miniconda/base/envs/min_ds-env/lib/python3.8/site-packages/sklearn/metrics/cluster/_supervised.py:58: UserWarning:\n",
      "\n",
      "Clustering metrics expects discrete values but received multiclass values for label, and continuous values for target\n",
      "\n",
      "/opt/homebrew/Caskroom/miniconda/base/envs/min_ds-env/lib/python3.8/site-packages/sklearn/metrics/cluster/_supervised.py:58: UserWarning:\n",
      "\n",
      "Clustering metrics expects discrete values but received multiclass values for label, and continuous values for target\n",
      "\n",
      "/opt/homebrew/Caskroom/miniconda/base/envs/min_ds-env/lib/python3.8/site-packages/sklearn/metrics/cluster/_supervised.py:58: UserWarning:\n",
      "\n",
      "Clustering metrics expects discrete values but received multiclass values for label, and continuous values for target\n",
      "\n",
      "/opt/homebrew/Caskroom/miniconda/base/envs/min_ds-env/lib/python3.8/site-packages/sklearn/metrics/cluster/_supervised.py:58: UserWarning:\n",
      "\n",
      "Clustering metrics expects discrete values but received multiclass values for label, and continuous values for target\n",
      "\n",
      "/opt/homebrew/Caskroom/miniconda/base/envs/min_ds-env/lib/python3.8/site-packages/sklearn/metrics/cluster/_supervised.py:58: UserWarning:\n",
      "\n",
      "Clustering metrics expects discrete values but received multiclass values for label, and continuous values for target\n",
      "\n",
      "/opt/homebrew/Caskroom/miniconda/base/envs/min_ds-env/lib/python3.8/site-packages/sklearn/metrics/cluster/_supervised.py:58: UserWarning:\n",
      "\n",
      "Clustering metrics expects discrete values but received multiclass values for label, and continuous values for target\n",
      "\n",
      "/opt/homebrew/Caskroom/miniconda/base/envs/min_ds-env/lib/python3.8/site-packages/sklearn/metrics/cluster/_supervised.py:58: UserWarning:\n",
      "\n",
      "Clustering metrics expects discrete values but received multiclass values for label, and continuous values for target\n",
      "\n",
      "/opt/homebrew/Caskroom/miniconda/base/envs/min_ds-env/lib/python3.8/site-packages/sklearn/metrics/cluster/_supervised.py:58: UserWarning:\n",
      "\n",
      "Clustering metrics expects discrete values but received multiclass values for label, and continuous values for target\n",
      "\n",
      "/opt/homebrew/Caskroom/miniconda/base/envs/min_ds-env/lib/python3.8/site-packages/sklearn/metrics/cluster/_supervised.py:58: UserWarning:\n",
      "\n",
      "Clustering metrics expects discrete values but received multiclass values for label, and continuous values for target\n",
      "\n",
      "/opt/homebrew/Caskroom/miniconda/base/envs/min_ds-env/lib/python3.8/site-packages/sklearn/metrics/cluster/_supervised.py:58: UserWarning:\n",
      "\n",
      "Clustering metrics expects discrete values but received multiclass values for label, and continuous values for target\n",
      "\n",
      "/opt/homebrew/Caskroom/miniconda/base/envs/min_ds-env/lib/python3.8/site-packages/sklearn/metrics/cluster/_supervised.py:58: UserWarning:\n",
      "\n",
      "Clustering metrics expects discrete values but received multiclass values for label, and continuous values for target\n",
      "\n",
      "/opt/homebrew/Caskroom/miniconda/base/envs/min_ds-env/lib/python3.8/site-packages/sklearn/metrics/cluster/_supervised.py:58: UserWarning:\n",
      "\n",
      "Clustering metrics expects discrete values but received multiclass values for label, and continuous values for target\n",
      "\n",
      "/opt/homebrew/Caskroom/miniconda/base/envs/min_ds-env/lib/python3.8/site-packages/sklearn/metrics/cluster/_supervised.py:58: UserWarning:\n",
      "\n",
      "Clustering metrics expects discrete values but received multiclass values for label, and continuous values for target\n",
      "\n",
      "/opt/homebrew/Caskroom/miniconda/base/envs/min_ds-env/lib/python3.8/site-packages/sklearn/metrics/cluster/_supervised.py:58: UserWarning:\n",
      "\n",
      "Clustering metrics expects discrete values but received multiclass values for label, and continuous values for target\n",
      "\n",
      "/opt/homebrew/Caskroom/miniconda/base/envs/min_ds-env/lib/python3.8/site-packages/sklearn/metrics/cluster/_supervised.py:58: UserWarning:\n",
      "\n",
      "Clustering metrics expects discrete values but received multiclass values for label, and continuous values for target\n",
      "\n",
      "/opt/homebrew/Caskroom/miniconda/base/envs/min_ds-env/lib/python3.8/site-packages/sklearn/metrics/cluster/_supervised.py:58: UserWarning:\n",
      "\n",
      "Clustering metrics expects discrete values but received multiclass values for label, and continuous values for target\n",
      "\n",
      "/opt/homebrew/Caskroom/miniconda/base/envs/min_ds-env/lib/python3.8/site-packages/sklearn/metrics/cluster/_supervised.py:58: UserWarning:\n",
      "\n",
      "Clustering metrics expects discrete values but received multiclass values for label, and continuous values for target\n",
      "\n",
      "/opt/homebrew/Caskroom/miniconda/base/envs/min_ds-env/lib/python3.8/site-packages/sklearn/metrics/cluster/_supervised.py:58: UserWarning:\n",
      "\n",
      "Clustering metrics expects discrete values but received multiclass values for label, and continuous values for target\n",
      "\n",
      "/opt/homebrew/Caskroom/miniconda/base/envs/min_ds-env/lib/python3.8/site-packages/sklearn/metrics/cluster/_supervised.py:58: UserWarning:\n",
      "\n",
      "Clustering metrics expects discrete values but received multiclass values for label, and continuous values for target\n",
      "\n",
      "/opt/homebrew/Caskroom/miniconda/base/envs/min_ds-env/lib/python3.8/site-packages/sklearn/metrics/cluster/_supervised.py:58: UserWarning:\n",
      "\n",
      "Clustering metrics expects discrete values but received multiclass values for label, and continuous values for target\n",
      "\n",
      "/opt/homebrew/Caskroom/miniconda/base/envs/min_ds-env/lib/python3.8/site-packages/sklearn/metrics/cluster/_supervised.py:58: UserWarning:\n",
      "\n",
      "Clustering metrics expects discrete values but received multiclass values for label, and continuous values for target\n",
      "\n",
      "/opt/homebrew/Caskroom/miniconda/base/envs/min_ds-env/lib/python3.8/site-packages/sklearn/metrics/cluster/_supervised.py:58: UserWarning:\n",
      "\n",
      "Clustering metrics expects discrete values but received multiclass values for label, and continuous values for target\n",
      "\n",
      "/opt/homebrew/Caskroom/miniconda/base/envs/min_ds-env/lib/python3.8/site-packages/sklearn/metrics/cluster/_supervised.py:58: UserWarning:\n",
      "\n",
      "Clustering metrics expects discrete values but received multiclass values for label, and continuous values for target\n",
      "\n",
      "/opt/homebrew/Caskroom/miniconda/base/envs/min_ds-env/lib/python3.8/site-packages/sklearn/metrics/cluster/_supervised.py:58: UserWarning:\n",
      "\n",
      "Clustering metrics expects discrete values but received multiclass values for label, and continuous values for target\n",
      "\n",
      "/opt/homebrew/Caskroom/miniconda/base/envs/min_ds-env/lib/python3.8/site-packages/sklearn/metrics/cluster/_supervised.py:58: UserWarning:\n",
      "\n",
      "Clustering metrics expects discrete values but received multiclass values for label, and continuous values for target\n",
      "\n",
      "/opt/homebrew/Caskroom/miniconda/base/envs/min_ds-env/lib/python3.8/site-packages/sklearn/metrics/cluster/_supervised.py:58: UserWarning:\n",
      "\n",
      "Clustering metrics expects discrete values but received multiclass values for label, and continuous values for target\n",
      "\n",
      "/opt/homebrew/Caskroom/miniconda/base/envs/min_ds-env/lib/python3.8/site-packages/sklearn/metrics/cluster/_supervised.py:58: UserWarning:\n",
      "\n",
      "Clustering metrics expects discrete values but received multiclass values for label, and continuous values for target\n",
      "\n",
      "/opt/homebrew/Caskroom/miniconda/base/envs/min_ds-env/lib/python3.8/site-packages/sklearn/metrics/cluster/_supervised.py:58: UserWarning:\n",
      "\n",
      "Clustering metrics expects discrete values but received multiclass values for label, and continuous values for target\n",
      "\n",
      "/opt/homebrew/Caskroom/miniconda/base/envs/min_ds-env/lib/python3.8/site-packages/sklearn/metrics/cluster/_supervised.py:58: UserWarning:\n",
      "\n",
      "Clustering metrics expects discrete values but received multiclass values for label, and continuous values for target\n",
      "\n",
      "/opt/homebrew/Caskroom/miniconda/base/envs/min_ds-env/lib/python3.8/site-packages/sklearn/metrics/cluster/_supervised.py:58: UserWarning:\n",
      "\n",
      "Clustering metrics expects discrete values but received multiclass values for label, and continuous values for target\n",
      "\n",
      "/opt/homebrew/Caskroom/miniconda/base/envs/min_ds-env/lib/python3.8/site-packages/sklearn/metrics/cluster/_supervised.py:58: UserWarning:\n",
      "\n",
      "Clustering metrics expects discrete values but received multiclass values for label, and continuous values for target\n",
      "\n",
      "/opt/homebrew/Caskroom/miniconda/base/envs/min_ds-env/lib/python3.8/site-packages/sklearn/metrics/cluster/_supervised.py:58: UserWarning:\n",
      "\n",
      "Clustering metrics expects discrete values but received multiclass values for label, and continuous values for target\n",
      "\n",
      "/opt/homebrew/Caskroom/miniconda/base/envs/min_ds-env/lib/python3.8/site-packages/sklearn/metrics/cluster/_supervised.py:58: UserWarning:\n",
      "\n",
      "Clustering metrics expects discrete values but received multiclass values for label, and continuous values for target\n",
      "\n",
      "/opt/homebrew/Caskroom/miniconda/base/envs/min_ds-env/lib/python3.8/site-packages/sklearn/metrics/cluster/_supervised.py:58: UserWarning:\n",
      "\n",
      "Clustering metrics expects discrete values but received multiclass values for label, and continuous values for target\n",
      "\n",
      "/opt/homebrew/Caskroom/miniconda/base/envs/min_ds-env/lib/python3.8/site-packages/sklearn/metrics/cluster/_supervised.py:58: UserWarning:\n",
      "\n",
      "Clustering metrics expects discrete values but received multiclass values for label, and continuous values for target\n",
      "\n",
      "/opt/homebrew/Caskroom/miniconda/base/envs/min_ds-env/lib/python3.8/site-packages/sklearn/metrics/cluster/_supervised.py:58: UserWarning:\n",
      "\n",
      "Clustering metrics expects discrete values but received multiclass values for label, and continuous values for target\n",
      "\n",
      "/opt/homebrew/Caskroom/miniconda/base/envs/min_ds-env/lib/python3.8/site-packages/sklearn/metrics/cluster/_supervised.py:58: UserWarning:\n",
      "\n",
      "Clustering metrics expects discrete values but received multiclass values for label, and continuous values for target\n",
      "\n",
      "/opt/homebrew/Caskroom/miniconda/base/envs/min_ds-env/lib/python3.8/site-packages/sklearn/metrics/cluster/_supervised.py:58: UserWarning:\n",
      "\n",
      "Clustering metrics expects discrete values but received multiclass values for label, and continuous values for target\n",
      "\n",
      "/opt/homebrew/Caskroom/miniconda/base/envs/min_ds-env/lib/python3.8/site-packages/sklearn/metrics/cluster/_supervised.py:58: UserWarning:\n",
      "\n",
      "Clustering metrics expects discrete values but received multiclass values for label, and continuous values for target\n",
      "\n",
      "/opt/homebrew/Caskroom/miniconda/base/envs/min_ds-env/lib/python3.8/site-packages/sklearn/metrics/cluster/_supervised.py:58: UserWarning:\n",
      "\n",
      "Clustering metrics expects discrete values but received multiclass values for label, and continuous values for target\n",
      "\n",
      "/opt/homebrew/Caskroom/miniconda/base/envs/min_ds-env/lib/python3.8/site-packages/sklearn/metrics/cluster/_supervised.py:58: UserWarning:\n",
      "\n",
      "Clustering metrics expects discrete values but received multiclass values for label, and continuous values for target\n",
      "\n",
      "/opt/homebrew/Caskroom/miniconda/base/envs/min_ds-env/lib/python3.8/site-packages/sklearn/metrics/cluster/_supervised.py:58: UserWarning:\n",
      "\n",
      "Clustering metrics expects discrete values but received multiclass values for label, and continuous values for target\n",
      "\n",
      "/opt/homebrew/Caskroom/miniconda/base/envs/min_ds-env/lib/python3.8/site-packages/sklearn/metrics/cluster/_supervised.py:58: UserWarning:\n",
      "\n",
      "Clustering metrics expects discrete values but received multiclass values for label, and continuous values for target\n",
      "\n",
      "/opt/homebrew/Caskroom/miniconda/base/envs/min_ds-env/lib/python3.8/site-packages/sklearn/metrics/cluster/_supervised.py:58: UserWarning:\n",
      "\n",
      "Clustering metrics expects discrete values but received multiclass values for label, and continuous values for target\n",
      "\n",
      "/opt/homebrew/Caskroom/miniconda/base/envs/min_ds-env/lib/python3.8/site-packages/sklearn/metrics/cluster/_supervised.py:58: UserWarning:\n",
      "\n",
      "Clustering metrics expects discrete values but received multiclass values for label, and continuous values for target\n",
      "\n",
      "/opt/homebrew/Caskroom/miniconda/base/envs/min_ds-env/lib/python3.8/site-packages/sklearn/metrics/cluster/_supervised.py:58: UserWarning:\n",
      "\n",
      "Clustering metrics expects discrete values but received multiclass values for label, and continuous values for target\n",
      "\n",
      "/opt/homebrew/Caskroom/miniconda/base/envs/min_ds-env/lib/python3.8/site-packages/sklearn/metrics/cluster/_supervised.py:58: UserWarning:\n",
      "\n",
      "Clustering metrics expects discrete values but received multiclass values for label, and continuous values for target\n",
      "\n",
      "/opt/homebrew/Caskroom/miniconda/base/envs/min_ds-env/lib/python3.8/site-packages/sklearn/metrics/cluster/_supervised.py:58: UserWarning:\n",
      "\n",
      "Clustering metrics expects discrete values but received multiclass values for label, and continuous values for target\n",
      "\n",
      "/opt/homebrew/Caskroom/miniconda/base/envs/min_ds-env/lib/python3.8/site-packages/sklearn/metrics/cluster/_supervised.py:58: UserWarning:\n",
      "\n",
      "Clustering metrics expects discrete values but received multiclass values for label, and continuous values for target\n",
      "\n",
      "/opt/homebrew/Caskroom/miniconda/base/envs/min_ds-env/lib/python3.8/site-packages/sklearn/metrics/cluster/_supervised.py:58: UserWarning:\n",
      "\n",
      "Clustering metrics expects discrete values but received multiclass values for label, and continuous values for target\n",
      "\n",
      "/opt/homebrew/Caskroom/miniconda/base/envs/min_ds-env/lib/python3.8/site-packages/sklearn/metrics/cluster/_supervised.py:58: UserWarning:\n",
      "\n",
      "Clustering metrics expects discrete values but received multiclass values for label, and continuous values for target\n",
      "\n",
      "/opt/homebrew/Caskroom/miniconda/base/envs/min_ds-env/lib/python3.8/site-packages/sklearn/metrics/cluster/_supervised.py:58: UserWarning:\n",
      "\n",
      "Clustering metrics expects discrete values but received multiclass values for label, and continuous values for target\n",
      "\n",
      "/opt/homebrew/Caskroom/miniconda/base/envs/min_ds-env/lib/python3.8/site-packages/sklearn/metrics/cluster/_supervised.py:58: UserWarning:\n",
      "\n",
      "Clustering metrics expects discrete values but received multiclass values for label, and continuous values for target\n",
      "\n",
      "/opt/homebrew/Caskroom/miniconda/base/envs/min_ds-env/lib/python3.8/site-packages/sklearn/metrics/cluster/_supervised.py:58: UserWarning:\n",
      "\n",
      "Clustering metrics expects discrete values but received multiclass values for label, and continuous values for target\n",
      "\n",
      "/opt/homebrew/Caskroom/miniconda/base/envs/min_ds-env/lib/python3.8/site-packages/sklearn/metrics/cluster/_supervised.py:58: UserWarning:\n",
      "\n",
      "Clustering metrics expects discrete values but received multiclass values for label, and continuous values for target\n",
      "\n",
      "/opt/homebrew/Caskroom/miniconda/base/envs/min_ds-env/lib/python3.8/site-packages/sklearn/metrics/cluster/_supervised.py:58: UserWarning:\n",
      "\n",
      "Clustering metrics expects discrete values but received multiclass values for label, and continuous values for target\n",
      "\n",
      "/opt/homebrew/Caskroom/miniconda/base/envs/min_ds-env/lib/python3.8/site-packages/sklearn/metrics/cluster/_supervised.py:58: UserWarning:\n",
      "\n",
      "Clustering metrics expects discrete values but received multiclass values for label, and continuous values for target\n",
      "\n",
      "/opt/homebrew/Caskroom/miniconda/base/envs/min_ds-env/lib/python3.8/site-packages/sklearn/metrics/cluster/_supervised.py:58: UserWarning:\n",
      "\n",
      "Clustering metrics expects discrete values but received multiclass values for label, and continuous values for target\n",
      "\n",
      "/opt/homebrew/Caskroom/miniconda/base/envs/min_ds-env/lib/python3.8/site-packages/sklearn/metrics/cluster/_supervised.py:58: UserWarning:\n",
      "\n",
      "Clustering metrics expects discrete values but received multiclass values for label, and continuous values for target\n",
      "\n",
      "/opt/homebrew/Caskroom/miniconda/base/envs/min_ds-env/lib/python3.8/site-packages/sklearn/metrics/cluster/_supervised.py:58: UserWarning:\n",
      "\n",
      "Clustering metrics expects discrete values but received multiclass values for label, and continuous values for target\n",
      "\n",
      "/opt/homebrew/Caskroom/miniconda/base/envs/min_ds-env/lib/python3.8/site-packages/sklearn/metrics/cluster/_supervised.py:58: UserWarning:\n",
      "\n",
      "Clustering metrics expects discrete values but received multiclass values for label, and continuous values for target\n",
      "\n",
      "/opt/homebrew/Caskroom/miniconda/base/envs/min_ds-env/lib/python3.8/site-packages/sklearn/metrics/cluster/_supervised.py:58: UserWarning:\n",
      "\n",
      "Clustering metrics expects discrete values but received multiclass values for label, and continuous values for target\n",
      "\n",
      "/opt/homebrew/Caskroom/miniconda/base/envs/min_ds-env/lib/python3.8/site-packages/sklearn/metrics/cluster/_supervised.py:58: UserWarning:\n",
      "\n",
      "Clustering metrics expects discrete values but received multiclass values for label, and continuous values for target\n",
      "\n",
      "/opt/homebrew/Caskroom/miniconda/base/envs/min_ds-env/lib/python3.8/site-packages/sklearn/metrics/cluster/_supervised.py:58: UserWarning:\n",
      "\n",
      "Clustering metrics expects discrete values but received multiclass values for label, and continuous values for target\n",
      "\n",
      "/opt/homebrew/Caskroom/miniconda/base/envs/min_ds-env/lib/python3.8/site-packages/sklearn/metrics/cluster/_supervised.py:58: UserWarning:\n",
      "\n",
      "Clustering metrics expects discrete values but received multiclass values for label, and continuous values for target\n",
      "\n",
      "/opt/homebrew/Caskroom/miniconda/base/envs/min_ds-env/lib/python3.8/site-packages/sklearn/metrics/cluster/_supervised.py:58: UserWarning:\n",
      "\n",
      "Clustering metrics expects discrete values but received multiclass values for label, and continuous values for target\n",
      "\n",
      "/opt/homebrew/Caskroom/miniconda/base/envs/min_ds-env/lib/python3.8/site-packages/sklearn/metrics/cluster/_supervised.py:58: UserWarning:\n",
      "\n",
      "Clustering metrics expects discrete values but received multiclass values for label, and continuous values for target\n",
      "\n",
      "/opt/homebrew/Caskroom/miniconda/base/envs/min_ds-env/lib/python3.8/site-packages/sklearn/metrics/cluster/_supervised.py:58: UserWarning:\n",
      "\n",
      "Clustering metrics expects discrete values but received multiclass values for label, and continuous values for target\n",
      "\n",
      "/opt/homebrew/Caskroom/miniconda/base/envs/min_ds-env/lib/python3.8/site-packages/sklearn/metrics/cluster/_supervised.py:58: UserWarning:\n",
      "\n",
      "Clustering metrics expects discrete values but received multiclass values for label, and continuous values for target\n",
      "\n",
      "/opt/homebrew/Caskroom/miniconda/base/envs/min_ds-env/lib/python3.8/site-packages/sklearn/metrics/cluster/_supervised.py:58: UserWarning:\n",
      "\n",
      "Clustering metrics expects discrete values but received multiclass values for label, and continuous values for target\n",
      "\n",
      "/opt/homebrew/Caskroom/miniconda/base/envs/min_ds-env/lib/python3.8/site-packages/sklearn/metrics/cluster/_supervised.py:58: UserWarning:\n",
      "\n",
      "Clustering metrics expects discrete values but received multiclass values for label, and continuous values for target\n",
      "\n",
      "/opt/homebrew/Caskroom/miniconda/base/envs/min_ds-env/lib/python3.8/site-packages/sklearn/metrics/cluster/_supervised.py:58: UserWarning:\n",
      "\n",
      "Clustering metrics expects discrete values but received multiclass values for label, and continuous values for target\n",
      "\n",
      "/opt/homebrew/Caskroom/miniconda/base/envs/min_ds-env/lib/python3.8/site-packages/sklearn/metrics/cluster/_supervised.py:58: UserWarning:\n",
      "\n",
      "Clustering metrics expects discrete values but received multiclass values for label, and continuous values for target\n",
      "\n",
      "/opt/homebrew/Caskroom/miniconda/base/envs/min_ds-env/lib/python3.8/site-packages/sklearn/metrics/cluster/_supervised.py:58: UserWarning:\n",
      "\n",
      "Clustering metrics expects discrete values but received multiclass values for label, and continuous values for target\n",
      "\n",
      "/opt/homebrew/Caskroom/miniconda/base/envs/min_ds-env/lib/python3.8/site-packages/sklearn/metrics/cluster/_supervised.py:58: UserWarning:\n",
      "\n",
      "Clustering metrics expects discrete values but received multiclass values for label, and continuous values for target\n",
      "\n",
      "/opt/homebrew/Caskroom/miniconda/base/envs/min_ds-env/lib/python3.8/site-packages/sklearn/metrics/cluster/_supervised.py:58: UserWarning:\n",
      "\n",
      "Clustering metrics expects discrete values but received multiclass values for label, and continuous values for target\n",
      "\n",
      "/opt/homebrew/Caskroom/miniconda/base/envs/min_ds-env/lib/python3.8/site-packages/sklearn/metrics/cluster/_supervised.py:58: UserWarning:\n",
      "\n",
      "Clustering metrics expects discrete values but received multiclass values for label, and continuous values for target\n",
      "\n",
      "/opt/homebrew/Caskroom/miniconda/base/envs/min_ds-env/lib/python3.8/site-packages/sklearn/metrics/cluster/_supervised.py:58: UserWarning:\n",
      "\n",
      "Clustering metrics expects discrete values but received multiclass values for label, and continuous values for target\n",
      "\n",
      "/opt/homebrew/Caskroom/miniconda/base/envs/min_ds-env/lib/python3.8/site-packages/sklearn/metrics/cluster/_supervised.py:58: UserWarning:\n",
      "\n",
      "Clustering metrics expects discrete values but received multiclass values for label, and continuous values for target\n",
      "\n",
      "/opt/homebrew/Caskroom/miniconda/base/envs/min_ds-env/lib/python3.8/site-packages/sklearn/metrics/cluster/_supervised.py:58: UserWarning:\n",
      "\n",
      "Clustering metrics expects discrete values but received multiclass values for label, and continuous values for target\n",
      "\n",
      "/opt/homebrew/Caskroom/miniconda/base/envs/min_ds-env/lib/python3.8/site-packages/sklearn/metrics/cluster/_supervised.py:58: UserWarning:\n",
      "\n",
      "Clustering metrics expects discrete values but received multiclass values for label, and continuous values for target\n",
      "\n",
      "/opt/homebrew/Caskroom/miniconda/base/envs/min_ds-env/lib/python3.8/site-packages/sklearn/metrics/cluster/_supervised.py:58: UserWarning:\n",
      "\n",
      "Clustering metrics expects discrete values but received multiclass values for label, and continuous values for target\n",
      "\n",
      "/opt/homebrew/Caskroom/miniconda/base/envs/min_ds-env/lib/python3.8/site-packages/sklearn/metrics/cluster/_supervised.py:58: UserWarning:\n",
      "\n",
      "Clustering metrics expects discrete values but received multiclass values for label, and continuous values for target\n",
      "\n",
      "/opt/homebrew/Caskroom/miniconda/base/envs/min_ds-env/lib/python3.8/site-packages/sklearn/metrics/cluster/_supervised.py:58: UserWarning:\n",
      "\n",
      "Clustering metrics expects discrete values but received multiclass values for label, and continuous values for target\n",
      "\n",
      "/opt/homebrew/Caskroom/miniconda/base/envs/min_ds-env/lib/python3.8/site-packages/sklearn/metrics/cluster/_supervised.py:58: UserWarning:\n",
      "\n",
      "Clustering metrics expects discrete values but received multiclass values for label, and continuous values for target\n",
      "\n",
      "/opt/homebrew/Caskroom/miniconda/base/envs/min_ds-env/lib/python3.8/site-packages/sklearn/metrics/cluster/_supervised.py:58: UserWarning:\n",
      "\n",
      "Clustering metrics expects discrete values but received multiclass values for label, and continuous values for target\n",
      "\n",
      "/opt/homebrew/Caskroom/miniconda/base/envs/min_ds-env/lib/python3.8/site-packages/sklearn/metrics/cluster/_supervised.py:58: UserWarning:\n",
      "\n",
      "Clustering metrics expects discrete values but received multiclass values for label, and continuous values for target\n",
      "\n",
      "/opt/homebrew/Caskroom/miniconda/base/envs/min_ds-env/lib/python3.8/site-packages/sklearn/metrics/cluster/_supervised.py:58: UserWarning:\n",
      "\n",
      "Clustering metrics expects discrete values but received multiclass values for label, and continuous values for target\n",
      "\n",
      "/opt/homebrew/Caskroom/miniconda/base/envs/min_ds-env/lib/python3.8/site-packages/sklearn/metrics/cluster/_supervised.py:58: UserWarning:\n",
      "\n",
      "Clustering metrics expects discrete values but received multiclass values for label, and continuous values for target\n",
      "\n",
      "/opt/homebrew/Caskroom/miniconda/base/envs/min_ds-env/lib/python3.8/site-packages/sklearn/metrics/cluster/_supervised.py:58: UserWarning:\n",
      "\n",
      "Clustering metrics expects discrete values but received multiclass values for label, and continuous values for target\n",
      "\n",
      "/opt/homebrew/Caskroom/miniconda/base/envs/min_ds-env/lib/python3.8/site-packages/sklearn/metrics/cluster/_supervised.py:58: UserWarning:\n",
      "\n",
      "Clustering metrics expects discrete values but received multiclass values for label, and continuous values for target\n",
      "\n",
      "/opt/homebrew/Caskroom/miniconda/base/envs/min_ds-env/lib/python3.8/site-packages/sklearn/metrics/cluster/_supervised.py:58: UserWarning:\n",
      "\n",
      "Clustering metrics expects discrete values but received multiclass values for label, and continuous values for target\n",
      "\n",
      "/opt/homebrew/Caskroom/miniconda/base/envs/min_ds-env/lib/python3.8/site-packages/sklearn/metrics/cluster/_supervised.py:58: UserWarning:\n",
      "\n",
      "Clustering metrics expects discrete values but received multiclass values for label, and continuous values for target\n",
      "\n",
      "/opt/homebrew/Caskroom/miniconda/base/envs/min_ds-env/lib/python3.8/site-packages/sklearn/metrics/cluster/_supervised.py:58: UserWarning:\n",
      "\n",
      "Clustering metrics expects discrete values but received multiclass values for label, and continuous values for target\n",
      "\n",
      "/opt/homebrew/Caskroom/miniconda/base/envs/min_ds-env/lib/python3.8/site-packages/sklearn/metrics/cluster/_supervised.py:58: UserWarning:\n",
      "\n",
      "Clustering metrics expects discrete values but received multiclass values for label, and continuous values for target\n",
      "\n",
      "/opt/homebrew/Caskroom/miniconda/base/envs/min_ds-env/lib/python3.8/site-packages/sklearn/metrics/cluster/_supervised.py:58: UserWarning:\n",
      "\n",
      "Clustering metrics expects discrete values but received multiclass values for label, and continuous values for target\n",
      "\n",
      "/opt/homebrew/Caskroom/miniconda/base/envs/min_ds-env/lib/python3.8/site-packages/sklearn/metrics/cluster/_supervised.py:58: UserWarning:\n",
      "\n",
      "Clustering metrics expects discrete values but received multiclass values for label, and continuous values for target\n",
      "\n",
      "/opt/homebrew/Caskroom/miniconda/base/envs/min_ds-env/lib/python3.8/site-packages/sklearn/metrics/cluster/_supervised.py:58: UserWarning:\n",
      "\n",
      "Clustering metrics expects discrete values but received multiclass values for label, and continuous values for target\n",
      "\n",
      "/opt/homebrew/Caskroom/miniconda/base/envs/min_ds-env/lib/python3.8/site-packages/sklearn/metrics/cluster/_supervised.py:58: UserWarning:\n",
      "\n",
      "Clustering metrics expects discrete values but received multiclass values for label, and continuous values for target\n",
      "\n",
      "/opt/homebrew/Caskroom/miniconda/base/envs/min_ds-env/lib/python3.8/site-packages/sklearn/metrics/cluster/_supervised.py:58: UserWarning:\n",
      "\n",
      "Clustering metrics expects discrete values but received multiclass values for label, and continuous values for target\n",
      "\n",
      "/opt/homebrew/Caskroom/miniconda/base/envs/min_ds-env/lib/python3.8/site-packages/sklearn/metrics/cluster/_supervised.py:58: UserWarning:\n",
      "\n",
      "Clustering metrics expects discrete values but received multiclass values for label, and continuous values for target\n",
      "\n",
      "/opt/homebrew/Caskroom/miniconda/base/envs/min_ds-env/lib/python3.8/site-packages/sklearn/metrics/cluster/_supervised.py:58: UserWarning:\n",
      "\n",
      "Clustering metrics expects discrete values but received multiclass values for label, and continuous values for target\n",
      "\n",
      "/opt/homebrew/Caskroom/miniconda/base/envs/min_ds-env/lib/python3.8/site-packages/sklearn/metrics/cluster/_supervised.py:58: UserWarning:\n",
      "\n",
      "Clustering metrics expects discrete values but received multiclass values for label, and continuous values for target\n",
      "\n",
      "/opt/homebrew/Caskroom/miniconda/base/envs/min_ds-env/lib/python3.8/site-packages/sklearn/metrics/cluster/_supervised.py:58: UserWarning:\n",
      "\n",
      "Clustering metrics expects discrete values but received multiclass values for label, and continuous values for target\n",
      "\n",
      "/opt/homebrew/Caskroom/miniconda/base/envs/min_ds-env/lib/python3.8/site-packages/sklearn/metrics/cluster/_supervised.py:58: UserWarning:\n",
      "\n",
      "Clustering metrics expects discrete values but received multiclass values for label, and continuous values for target\n",
      "\n",
      "/opt/homebrew/Caskroom/miniconda/base/envs/min_ds-env/lib/python3.8/site-packages/sklearn/metrics/cluster/_supervised.py:58: UserWarning:\n",
      "\n",
      "Clustering metrics expects discrete values but received multiclass values for label, and continuous values for target\n",
      "\n",
      "/opt/homebrew/Caskroom/miniconda/base/envs/min_ds-env/lib/python3.8/site-packages/sklearn/metrics/cluster/_supervised.py:58: UserWarning:\n",
      "\n",
      "Clustering metrics expects discrete values but received multiclass values for label, and continuous values for target\n",
      "\n",
      "/opt/homebrew/Caskroom/miniconda/base/envs/min_ds-env/lib/python3.8/site-packages/sklearn/metrics/cluster/_supervised.py:58: UserWarning:\n",
      "\n",
      "Clustering metrics expects discrete values but received multiclass values for label, and continuous values for target\n",
      "\n",
      "/opt/homebrew/Caskroom/miniconda/base/envs/min_ds-env/lib/python3.8/site-packages/sklearn/metrics/cluster/_supervised.py:58: UserWarning:\n",
      "\n",
      "Clustering metrics expects discrete values but received multiclass values for label, and continuous values for target\n",
      "\n"
     ]
    },
    {
     "data": {
      "text/plain": [
       "GridSearchCV(cv=RepeatedStratifiedKFold(n_repeats=10, n_splits=2, random_state=None),\n",
       "             estimator=LinearRegression(),\n",
       "             param_grid={'fit_intercept': [True, False], 'n_jobs': [1, -1],\n",
       "                         'positive': [True, False]},\n",
       "             scoring='completeness_score')"
      ]
     },
     "execution_count": 463,
     "metadata": {},
     "output_type": "execute_result"
    }
   ],
   "source": [
    "cv = RepeatedStratifiedKFold(n_splits=2, n_repeats=10)\n",
    "linear_grid = {'positive': [True,False], \n",
    "                'fit_intercept': [True, False], \n",
    "                'n_jobs': [1, -1]}\n",
    "linear = GridSearchCV( lr(), param_grid=linear_grid,\n",
    "                          cv=cv, \n",
    "                          scoring='completeness_score', \n",
    "                          verbose=0)\n",
    "linear.fit(X_train, y_train)"
   ]
  },
  {
   "cell_type": "code",
   "execution_count": 464,
   "metadata": {},
   "outputs": [
    {
     "name": "stdout",
     "output_type": "stream",
     "text": [
      "MSE of biased model: 5373883.030949747\n",
      "MAE of biased model: 1270.4962113865342\n",
      "Model score: 0.832616299600448\n"
     ]
    }
   ],
   "source": [
    "model2 = lr(**linear.best_params_).fit(X_train, y_train)\n",
    "pred = model2.predict(X_test)\n",
    "result2 = pd.DataFrame(pred, columns=['sales'], index=X_test.index)\n",
    "print('MSE of biased model:', metrics.mean_squared_error(y_test, pred))\n",
    "print('MAE of biased model:', metrics.mean_absolute_error(y_test, pred))\n",
    "print('Model score:', model2.score(X_test, y_test))"
   ]
  },
  {
   "cell_type": "code",
   "execution_count": 465,
   "metadata": {},
   "outputs": [
    {
     "data": {
      "application/vnd.plotly.v1+json": {
       "config": {
        "plotlyServerURL": "https://plot.ly"
       },
       "data": [
        {
         "marker": {
          "color": "green"
         },
         "mode": "markers",
         "name": "test",
         "type": "scatter",
         "x": [
          708,
          215,
          882,
          88,
          842,
          139,
          86,
          486,
          635,
          604,
          141,
          685,
          660,
          260,
          964,
          51,
          684,
          107,
          994,
          354,
          192,
          306,
          703,
          413,
          1000,
          361,
          547,
          298,
          901,
          351,
          405,
          265,
          467,
          889,
          440,
          1019,
          31,
          485,
          442,
          70,
          620,
          980,
          231,
          675,
          998,
          739,
          1024,
          199,
          807,
          536,
          894,
          798,
          420,
          810,
          336,
          969,
          575,
          365,
          756,
          750,
          462,
          113,
          516,
          292,
          514,
          478,
          332,
          773,
          968,
          59,
          664,
          273,
          697,
          853,
          286,
          23,
          184,
          940,
          479,
          495,
          825,
          334,
          342,
          109,
          1063,
          694,
          174,
          767,
          678,
          355,
          668,
          371,
          350,
          49,
          504,
          737,
          309,
          76,
          10,
          531,
          545,
          976,
          796,
          736,
          210,
          1021,
          972,
          523,
          96,
          83,
          785,
          312,
          567,
          753,
          244,
          991,
          398,
          178,
          692,
          717,
          599,
          450,
          936,
          581,
          657,
          247,
          101,
          617,
          661,
          616,
          552,
          78,
          428,
          168,
          290,
          158,
          425,
          39,
          30,
          755,
          136,
          54,
          327,
          280,
          525,
          289,
          218,
          3,
          294,
          237,
          992,
          822,
          721,
          296,
          900,
          58,
          63,
          754,
          453,
          100,
          494,
          318,
          208,
          243,
          477,
          875,
          887,
          539,
          913,
          198,
          66,
          275,
          67,
          1029,
          12,
          1068,
          506,
          541,
          299,
          593,
          695,
          305,
          319,
          344,
          920,
          464,
          714,
          817,
          457,
          997,
          629,
          2,
          584,
          1047,
          903,
          881,
          790,
          902,
          566,
          1010,
          449,
          959,
          941,
          359,
          611,
          490,
          780,
          328,
          1040,
          451,
          602,
          650,
          582,
          277
         ],
         "y": [
          10680,
          4382,
          856,
          8099,
          1192,
          1657,
          9530,
          9139,
          156,
          30115,
          511,
          7689,
          11177,
          10523,
          16550,
          3725,
          7977,
          4108,
          8333,
          2498,
          2078,
          445,
          1383,
          5184,
          7615,
          8290,
          7017,
          10954,
          10444,
          12467,
          11004,
          11845,
          6252,
          2946,
          1939,
          3310,
          8660,
          99,
          2028,
          1799,
          24,
          14817,
          4078,
          4138,
          43,
          6087,
          8638,
          5918,
          3983,
          3828,
          7918,
          4633,
          4576,
          5867,
          10811,
          11950,
          8386,
          9789,
          14719,
          9832,
          4814,
          10175,
          10738,
          11612,
          6844,
          2440,
          19052,
          9670,
          16824,
          135,
          24525,
          11957,
          16071,
          3046,
          9507,
          4502,
          16797,
          7346,
          14006,
          10347,
          5629,
          6756,
          3029,
          5474,
          7905,
          4863,
          2618,
          7021,
          1291,
          9007,
          2288,
          1058,
          20783,
          2998,
          194,
          3563,
          11975,
          38,
          14118,
          9334,
          1241,
          9289,
          23864,
          3498,
          4020,
          1493,
          7037,
          15133,
          367,
          9873,
          8570,
          22434,
          631,
          11805,
          6297,
          3899,
          16261,
          7133,
          23851,
          11011,
          4540,
          6027,
          15353,
          4969,
          5123,
          3484,
          11579,
          4891,
          962,
          6273,
          5409,
          11287,
          3512,
          6683,
          20912,
          2086,
          46,
          1926,
          814,
          3077,
          4660,
          2596,
          5795,
          9368,
          15082,
          7365,
          96,
          2586,
          7286,
          3935,
          9659,
          331,
          90,
          1995,
          8480,
          3,
          3772,
          3666,
          25619,
          13282,
          7603,
          3972,
          11699,
          2456,
          3906,
          21570,
          10915,
          7756,
          9423,
          8731,
          17180,
          693,
          1556,
          4605,
          7712,
          14179,
          8747,
          8160,
          9885,
          6544,
          412,
          1204,
          7506,
          10820,
          8678,
          6628,
          6140,
          3658,
          9431,
          1916,
          12479,
          12567,
          9296,
          14291,
          8069,
          5316,
          3861,
          17361,
          3971,
          10124,
          9799,
          2104,
          1591,
          2432,
          2136,
          14350,
          9345,
          18218,
          12018,
          1156,
          5538,
          4767,
          5670,
          10978
         ]
        },
        {
         "marker": {
          "color": "red"
         },
         "mode": "markers",
         "name": "predict",
         "type": "scatter",
         "x": [
          708,
          215,
          882,
          88,
          842,
          139,
          86,
          486,
          635,
          604,
          141,
          685,
          660,
          260,
          964,
          51,
          684,
          107,
          994,
          354,
          192,
          306,
          703,
          413,
          1000,
          361,
          547,
          298,
          901,
          351,
          405,
          265,
          467,
          889,
          440,
          1019,
          31,
          485,
          442,
          70,
          620,
          980,
          231,
          675,
          998,
          739,
          1024,
          199,
          807,
          536,
          894,
          798,
          420,
          810,
          336,
          969,
          575,
          365,
          756,
          750,
          462,
          113,
          516,
          292,
          514,
          478,
          332,
          773,
          968,
          59,
          664,
          273,
          697,
          853,
          286,
          23,
          184,
          940,
          479,
          495,
          825,
          334,
          342,
          109,
          1063,
          694,
          174,
          767,
          678,
          355,
          668,
          371,
          350,
          49,
          504,
          737,
          309,
          76,
          10,
          531,
          545,
          976,
          796,
          736,
          210,
          1021,
          972,
          523,
          96,
          83,
          785,
          312,
          567,
          753,
          244,
          991,
          398,
          178,
          692,
          717,
          599,
          450,
          936,
          581,
          657,
          247,
          101,
          617,
          661,
          616,
          552,
          78,
          428,
          168,
          290,
          158,
          425,
          39,
          30,
          755,
          136,
          54,
          327,
          280,
          525,
          289,
          218,
          3,
          294,
          237,
          992,
          822,
          721,
          296,
          900,
          58,
          63,
          754,
          453,
          100,
          494,
          318,
          208,
          243,
          477,
          875,
          887,
          539,
          913,
          198,
          66,
          275,
          67,
          1029,
          12,
          1068,
          506,
          541,
          299,
          593,
          695,
          305,
          319,
          344,
          920,
          464,
          714,
          817,
          457,
          997,
          629,
          2,
          584,
          1047,
          903,
          881,
          790,
          902,
          566,
          1010,
          449,
          959,
          941,
          359,
          611,
          490,
          780,
          328,
          1040,
          451,
          602,
          650,
          582,
          277
         ],
         "y": [
          10713.962567639726,
          5405.67708765603,
          1202.3413727397883,
          9169.190409656034,
          1696.9751700055135,
          1575.0210446593248,
          8910.138059860315,
          12619.448831609621,
          260.6395035321145,
          5118.17259486744,
          469.27303810749515,
          6729.97813593719,
          9465.033382528314,
          9882.082146436134,
          22588.7980839187,
          4159.241113857327,
          9665.51131030604,
          4300.352363841154,
          8844.237179963353,
          2928.103541937427,
          1931.5794012459505,
          597.5881112569139,
          1522.397444471574,
          5833.199695905388,
          5436.992989415589,
          11334.868330146577,
          8720.91041732422,
          11167.129669218217,
          13172.643247325675,
          9611.086951299354,
          8884.430618310122,
          9596.407194122157,
          6360.847802577813,
          3269.5935577663877,
          2744.4560569320224,
          4817.121040351357,
          9113.209072848784,
          2.03891318474237,
          3159.9058726027747,
          1992.4186315277339,
          77.51793140755117,
          14344.968205417577,
          4706.8761765379395,
          4111.8853994826995,
          10.752187990950617,
          6859.016608775988,
          7949.294629683417,
          4554.855713630361,
          5388.216199700792,
          3984.6812124459375,
          3946.4751709268526,
          7381.1485426603695,
          6180.248898172638,
          5006.061376319041,
          7362.923172389788,
          12590.279009579575,
          9139.679090109932,
          12350.954388408893,
          13682.942889227792,
          10172.802126098144,
          5974.825546564845,
          11578.62900453461,
          11038.213190465278,
          11098.94277519446,
          6485.7233120855235,
          2445.41188594075,
          16268.643515668064,
          7196.0328601989395,
          14903.716228505291,
          171.6440028078814,
          25520.894424220256,
          12766.45378113649,
          18449.752530051104,
          1713.112642809588,
          10222.623082621129,
          3825.9238511389663,
          15672.26378563817,
          5306.744666907722,
          12263.864925966036,
          7849.057501991272,
          6585.551197939831,
          9721.734407881844,
          2787.5512321891442,
          5964.172921631739,
          10270.469963584448,
          3195.8430259530155,
          3995.2117819471287,
          9171.839150432672,
          2369.035040224752,
          10757.660180892253,
          2932.2181899783614,
          349.1835439902506,
          23994.412682343405,
          3205.5465607551855,
          159.80282246320752,
          3446.729701189868,
          12416.780822158416,
          -19.26945337615284,
          14246.28123489975,
          8207.631830371534,
          357.6016668520618,
          10868.15961550902,
          25069.035226959073,
          4298.012757452567,
          3764.8035729758326,
          2166.3339428626814,
          5432.196460710162,
          14932.382197052006,
          607.0659998445794,
          7215.763814549632,
          11356.984784973512,
          21042.35090697033,
          1148.7625012487274,
          10032.120741283974,
          5729.485948420566,
          6797.155670392396,
          16756.92714524958,
          8036.7610293273265,
          28396.35724610678,
          9446.378993625873,
          5608.927973346039,
          6478.710950327349,
          13229.277817537662,
          8682.578601521502,
          6214.981904728275,
          4142.7183141849655,
          9993.82393448312,
          6124.435400016478,
          1238.5953587051163,
          6975.4688398842545,
          5040.051964710495,
          10721.073179780908,
          2973.285086431481,
          7148.55111437918,
          19303.91851602422,
          1763.0751422871447,
          19.06082803917039,
          2927.8958593055536,
          872.99954952747,
          3807.0942285082906,
          5548.085490674143,
          3525.075493546403,
          4832.1100833382525,
          7694.156680892166,
          13402.66270229637,
          8897.199243566483,
          18.763759221099576,
          4046.778510701921,
          6318.795295758362,
          5365.346516519231,
          7467.728774516719,
          371.3364438039801,
          104.41392786310368,
          2721.508843128659,
          10379.55407033756,
          -56.91522544450354,
          3354.205072494104,
          4448.040704112848,
          27753.778455598353,
          14727.138406986347,
          6624.385669607838,
          4103.35754253464,
          16406.28442101636,
          1441.2123081595212,
          3772.9518647096716,
          18596.022952935265,
          11639.77544892566,
          8919.42464919663,
          5689.181695931086,
          9080.132990323295,
          16071.424796109499,
          737.5703018687783,
          2883.1977602070515,
          2871.6529704664545,
          8022.247446238821,
          14511.514807890895,
          11197.576864437433,
          7030.779202509593,
          12484.046918978436,
          6452.748844094027,
          303.39683950428014,
          971.5421516193364,
          9211.431319900677,
          13877.842413112377,
          7410.015622452801,
          8720.760489907785,
          6585.226852718752,
          5786.161953967784,
          9930.949243899347,
          2992.7342930015325,
          13872.660348455194,
          12853.047701391419,
          8868.12225294165,
          12553.504954827362,
          6679.3342143715745,
          5175.072740446526,
          4785.44089113799,
          12481.37897743548,
          3881.551748489268,
          12374.503942296458,
          11279.729149458773,
          1429.6904381533209,
          993.6066225916313,
          2614.023643093651,
          4256.044167951223,
          12636.319564490073,
          9452.717216611232,
          21296.334065568903,
          11086.385386906702,
          1017.75581824552,
          5469.012761011952,
          4682.945935522229,
          6558.0510581735125,
          11912.128191693217
         ]
        }
       ],
       "layout": {
        "legend": {
         "font": {
          "color": "black",
          "family": "sans-serif",
          "size": 12
         },
         "traceorder": "normal",
         "x": 0,
         "y": 1
        },
        "showlegend": true,
        "template": {
         "data": {
          "bar": [
           {
            "error_x": {
             "color": "#2a3f5f"
            },
            "error_y": {
             "color": "#2a3f5f"
            },
            "marker": {
             "line": {
              "color": "#E5ECF6",
              "width": 0.5
             },
             "pattern": {
              "fillmode": "overlay",
              "size": 10,
              "solidity": 0.2
             }
            },
            "type": "bar"
           }
          ],
          "barpolar": [
           {
            "marker": {
             "line": {
              "color": "#E5ECF6",
              "width": 0.5
             },
             "pattern": {
              "fillmode": "overlay",
              "size": 10,
              "solidity": 0.2
             }
            },
            "type": "barpolar"
           }
          ],
          "carpet": [
           {
            "aaxis": {
             "endlinecolor": "#2a3f5f",
             "gridcolor": "white",
             "linecolor": "white",
             "minorgridcolor": "white",
             "startlinecolor": "#2a3f5f"
            },
            "baxis": {
             "endlinecolor": "#2a3f5f",
             "gridcolor": "white",
             "linecolor": "white",
             "minorgridcolor": "white",
             "startlinecolor": "#2a3f5f"
            },
            "type": "carpet"
           }
          ],
          "choropleth": [
           {
            "colorbar": {
             "outlinewidth": 0,
             "ticks": ""
            },
            "type": "choropleth"
           }
          ],
          "contour": [
           {
            "colorbar": {
             "outlinewidth": 0,
             "ticks": ""
            },
            "colorscale": [
             [
              0,
              "#0d0887"
             ],
             [
              0.1111111111111111,
              "#46039f"
             ],
             [
              0.2222222222222222,
              "#7201a8"
             ],
             [
              0.3333333333333333,
              "#9c179e"
             ],
             [
              0.4444444444444444,
              "#bd3786"
             ],
             [
              0.5555555555555556,
              "#d8576b"
             ],
             [
              0.6666666666666666,
              "#ed7953"
             ],
             [
              0.7777777777777778,
              "#fb9f3a"
             ],
             [
              0.8888888888888888,
              "#fdca26"
             ],
             [
              1,
              "#f0f921"
             ]
            ],
            "type": "contour"
           }
          ],
          "contourcarpet": [
           {
            "colorbar": {
             "outlinewidth": 0,
             "ticks": ""
            },
            "type": "contourcarpet"
           }
          ],
          "heatmap": [
           {
            "colorbar": {
             "outlinewidth": 0,
             "ticks": ""
            },
            "colorscale": [
             [
              0,
              "#0d0887"
             ],
             [
              0.1111111111111111,
              "#46039f"
             ],
             [
              0.2222222222222222,
              "#7201a8"
             ],
             [
              0.3333333333333333,
              "#9c179e"
             ],
             [
              0.4444444444444444,
              "#bd3786"
             ],
             [
              0.5555555555555556,
              "#d8576b"
             ],
             [
              0.6666666666666666,
              "#ed7953"
             ],
             [
              0.7777777777777778,
              "#fb9f3a"
             ],
             [
              0.8888888888888888,
              "#fdca26"
             ],
             [
              1,
              "#f0f921"
             ]
            ],
            "type": "heatmap"
           }
          ],
          "heatmapgl": [
           {
            "colorbar": {
             "outlinewidth": 0,
             "ticks": ""
            },
            "colorscale": [
             [
              0,
              "#0d0887"
             ],
             [
              0.1111111111111111,
              "#46039f"
             ],
             [
              0.2222222222222222,
              "#7201a8"
             ],
             [
              0.3333333333333333,
              "#9c179e"
             ],
             [
              0.4444444444444444,
              "#bd3786"
             ],
             [
              0.5555555555555556,
              "#d8576b"
             ],
             [
              0.6666666666666666,
              "#ed7953"
             ],
             [
              0.7777777777777778,
              "#fb9f3a"
             ],
             [
              0.8888888888888888,
              "#fdca26"
             ],
             [
              1,
              "#f0f921"
             ]
            ],
            "type": "heatmapgl"
           }
          ],
          "histogram": [
           {
            "marker": {
             "pattern": {
              "fillmode": "overlay",
              "size": 10,
              "solidity": 0.2
             }
            },
            "type": "histogram"
           }
          ],
          "histogram2d": [
           {
            "colorbar": {
             "outlinewidth": 0,
             "ticks": ""
            },
            "colorscale": [
             [
              0,
              "#0d0887"
             ],
             [
              0.1111111111111111,
              "#46039f"
             ],
             [
              0.2222222222222222,
              "#7201a8"
             ],
             [
              0.3333333333333333,
              "#9c179e"
             ],
             [
              0.4444444444444444,
              "#bd3786"
             ],
             [
              0.5555555555555556,
              "#d8576b"
             ],
             [
              0.6666666666666666,
              "#ed7953"
             ],
             [
              0.7777777777777778,
              "#fb9f3a"
             ],
             [
              0.8888888888888888,
              "#fdca26"
             ],
             [
              1,
              "#f0f921"
             ]
            ],
            "type": "histogram2d"
           }
          ],
          "histogram2dcontour": [
           {
            "colorbar": {
             "outlinewidth": 0,
             "ticks": ""
            },
            "colorscale": [
             [
              0,
              "#0d0887"
             ],
             [
              0.1111111111111111,
              "#46039f"
             ],
             [
              0.2222222222222222,
              "#7201a8"
             ],
             [
              0.3333333333333333,
              "#9c179e"
             ],
             [
              0.4444444444444444,
              "#bd3786"
             ],
             [
              0.5555555555555556,
              "#d8576b"
             ],
             [
              0.6666666666666666,
              "#ed7953"
             ],
             [
              0.7777777777777778,
              "#fb9f3a"
             ],
             [
              0.8888888888888888,
              "#fdca26"
             ],
             [
              1,
              "#f0f921"
             ]
            ],
            "type": "histogram2dcontour"
           }
          ],
          "mesh3d": [
           {
            "colorbar": {
             "outlinewidth": 0,
             "ticks": ""
            },
            "type": "mesh3d"
           }
          ],
          "parcoords": [
           {
            "line": {
             "colorbar": {
              "outlinewidth": 0,
              "ticks": ""
             }
            },
            "type": "parcoords"
           }
          ],
          "pie": [
           {
            "automargin": true,
            "type": "pie"
           }
          ],
          "scatter": [
           {
            "fillpattern": {
             "fillmode": "overlay",
             "size": 10,
             "solidity": 0.2
            },
            "type": "scatter"
           }
          ],
          "scatter3d": [
           {
            "line": {
             "colorbar": {
              "outlinewidth": 0,
              "ticks": ""
             }
            },
            "marker": {
             "colorbar": {
              "outlinewidth": 0,
              "ticks": ""
             }
            },
            "type": "scatter3d"
           }
          ],
          "scattercarpet": [
           {
            "marker": {
             "colorbar": {
              "outlinewidth": 0,
              "ticks": ""
             }
            },
            "type": "scattercarpet"
           }
          ],
          "scattergeo": [
           {
            "marker": {
             "colorbar": {
              "outlinewidth": 0,
              "ticks": ""
             }
            },
            "type": "scattergeo"
           }
          ],
          "scattergl": [
           {
            "marker": {
             "colorbar": {
              "outlinewidth": 0,
              "ticks": ""
             }
            },
            "type": "scattergl"
           }
          ],
          "scattermapbox": [
           {
            "marker": {
             "colorbar": {
              "outlinewidth": 0,
              "ticks": ""
             }
            },
            "type": "scattermapbox"
           }
          ],
          "scatterpolar": [
           {
            "marker": {
             "colorbar": {
              "outlinewidth": 0,
              "ticks": ""
             }
            },
            "type": "scatterpolar"
           }
          ],
          "scatterpolargl": [
           {
            "marker": {
             "colorbar": {
              "outlinewidth": 0,
              "ticks": ""
             }
            },
            "type": "scatterpolargl"
           }
          ],
          "scatterternary": [
           {
            "marker": {
             "colorbar": {
              "outlinewidth": 0,
              "ticks": ""
             }
            },
            "type": "scatterternary"
           }
          ],
          "surface": [
           {
            "colorbar": {
             "outlinewidth": 0,
             "ticks": ""
            },
            "colorscale": [
             [
              0,
              "#0d0887"
             ],
             [
              0.1111111111111111,
              "#46039f"
             ],
             [
              0.2222222222222222,
              "#7201a8"
             ],
             [
              0.3333333333333333,
              "#9c179e"
             ],
             [
              0.4444444444444444,
              "#bd3786"
             ],
             [
              0.5555555555555556,
              "#d8576b"
             ],
             [
              0.6666666666666666,
              "#ed7953"
             ],
             [
              0.7777777777777778,
              "#fb9f3a"
             ],
             [
              0.8888888888888888,
              "#fdca26"
             ],
             [
              1,
              "#f0f921"
             ]
            ],
            "type": "surface"
           }
          ],
          "table": [
           {
            "cells": {
             "fill": {
              "color": "#EBF0F8"
             },
             "line": {
              "color": "white"
             }
            },
            "header": {
             "fill": {
              "color": "#C8D4E3"
             },
             "line": {
              "color": "white"
             }
            },
            "type": "table"
           }
          ]
         },
         "layout": {
          "annotationdefaults": {
           "arrowcolor": "#2a3f5f",
           "arrowhead": 0,
           "arrowwidth": 1
          },
          "autotypenumbers": "strict",
          "coloraxis": {
           "colorbar": {
            "outlinewidth": 0,
            "ticks": ""
           }
          },
          "colorscale": {
           "diverging": [
            [
             0,
             "#8e0152"
            ],
            [
             0.1,
             "#c51b7d"
            ],
            [
             0.2,
             "#de77ae"
            ],
            [
             0.3,
             "#f1b6da"
            ],
            [
             0.4,
             "#fde0ef"
            ],
            [
             0.5,
             "#f7f7f7"
            ],
            [
             0.6,
             "#e6f5d0"
            ],
            [
             0.7,
             "#b8e186"
            ],
            [
             0.8,
             "#7fbc41"
            ],
            [
             0.9,
             "#4d9221"
            ],
            [
             1,
             "#276419"
            ]
           ],
           "sequential": [
            [
             0,
             "#0d0887"
            ],
            [
             0.1111111111111111,
             "#46039f"
            ],
            [
             0.2222222222222222,
             "#7201a8"
            ],
            [
             0.3333333333333333,
             "#9c179e"
            ],
            [
             0.4444444444444444,
             "#bd3786"
            ],
            [
             0.5555555555555556,
             "#d8576b"
            ],
            [
             0.6666666666666666,
             "#ed7953"
            ],
            [
             0.7777777777777778,
             "#fb9f3a"
            ],
            [
             0.8888888888888888,
             "#fdca26"
            ],
            [
             1,
             "#f0f921"
            ]
           ],
           "sequentialminus": [
            [
             0,
             "#0d0887"
            ],
            [
             0.1111111111111111,
             "#46039f"
            ],
            [
             0.2222222222222222,
             "#7201a8"
            ],
            [
             0.3333333333333333,
             "#9c179e"
            ],
            [
             0.4444444444444444,
             "#bd3786"
            ],
            [
             0.5555555555555556,
             "#d8576b"
            ],
            [
             0.6666666666666666,
             "#ed7953"
            ],
            [
             0.7777777777777778,
             "#fb9f3a"
            ],
            [
             0.8888888888888888,
             "#fdca26"
            ],
            [
             1,
             "#f0f921"
            ]
           ]
          },
          "colorway": [
           "#636efa",
           "#EF553B",
           "#00cc96",
           "#ab63fa",
           "#FFA15A",
           "#19d3f3",
           "#FF6692",
           "#B6E880",
           "#FF97FF",
           "#FECB52"
          ],
          "font": {
           "color": "#2a3f5f"
          },
          "geo": {
           "bgcolor": "white",
           "lakecolor": "white",
           "landcolor": "#E5ECF6",
           "showlakes": true,
           "showland": true,
           "subunitcolor": "white"
          },
          "hoverlabel": {
           "align": "left"
          },
          "hovermode": "closest",
          "mapbox": {
           "style": "light"
          },
          "paper_bgcolor": "white",
          "plot_bgcolor": "#E5ECF6",
          "polar": {
           "angularaxis": {
            "gridcolor": "white",
            "linecolor": "white",
            "ticks": ""
           },
           "bgcolor": "#E5ECF6",
           "radialaxis": {
            "gridcolor": "white",
            "linecolor": "white",
            "ticks": ""
           }
          },
          "scene": {
           "xaxis": {
            "backgroundcolor": "#E5ECF6",
            "gridcolor": "white",
            "gridwidth": 2,
            "linecolor": "white",
            "showbackground": true,
            "ticks": "",
            "zerolinecolor": "white"
           },
           "yaxis": {
            "backgroundcolor": "#E5ECF6",
            "gridcolor": "white",
            "gridwidth": 2,
            "linecolor": "white",
            "showbackground": true,
            "ticks": "",
            "zerolinecolor": "white"
           },
           "zaxis": {
            "backgroundcolor": "#E5ECF6",
            "gridcolor": "white",
            "gridwidth": 2,
            "linecolor": "white",
            "showbackground": true,
            "ticks": "",
            "zerolinecolor": "white"
           }
          },
          "shapedefaults": {
           "line": {
            "color": "#2a3f5f"
           }
          },
          "ternary": {
           "aaxis": {
            "gridcolor": "white",
            "linecolor": "white",
            "ticks": ""
           },
           "baxis": {
            "gridcolor": "white",
            "linecolor": "white",
            "ticks": ""
           },
           "bgcolor": "#E5ECF6",
           "caxis": {
            "gridcolor": "white",
            "linecolor": "white",
            "ticks": ""
           }
          },
          "title": {
           "x": 0.05
          },
          "xaxis": {
           "automargin": true,
           "gridcolor": "white",
           "linecolor": "white",
           "ticks": "",
           "title": {
            "standoff": 15
           },
           "zerolinecolor": "white",
           "zerolinewidth": 2
          },
          "yaxis": {
           "automargin": true,
           "gridcolor": "white",
           "linecolor": "white",
           "ticks": "",
           "title": {
            "standoff": 15
           },
           "zerolinecolor": "white",
           "zerolinewidth": 2
          }
         }
        },
        "title": {
         "text": "Scatter Plot"
        },
        "xaxis": {
         "title": {
          "text": "X"
         }
        },
        "yaxis": {
         "title": {
          "text": "Y"
         }
        }
       }
      }
     },
     "metadata": {},
     "output_type": "display_data"
    }
   ],
   "source": [
    "fig = go.Figure()\n",
    "fig.add_trace(go.Scatter(x=y_test.index, y=y_test.values, mode='markers', name='test', marker=dict(color='green')))\n",
    "fig.add_trace(go.Scatter(x=result2['sales'].index, y=result2['sales'].values, mode='markers', name='predict', marker=dict(color='red')))\n",
    "fig.update_layout(\n",
    "    title='Scatter Plot',\n",
    "    xaxis_title='X',\n",
    "    yaxis_title='Y',\n",
    "    showlegend=True,\n",
    "    legend=dict(\n",
    "        x=0,\n",
    "        y=1,\n",
    "        traceorder='normal',\n",
    "        font=dict(family='sans-serif', size=12, color='black')\n",
    "    )\n",
    ")"
   ]
  },
  {
   "cell_type": "code",
   "execution_count": 466,
   "metadata": {},
   "outputs": [
    {
     "data": {
      "text/html": [
       "<div>\n",
       "<style scoped>\n",
       "    .dataframe tbody tr th:only-of-type {\n",
       "        vertical-align: middle;\n",
       "    }\n",
       "\n",
       "    .dataframe tbody tr th {\n",
       "        vertical-align: top;\n",
       "    }\n",
       "\n",
       "    .dataframe thead th {\n",
       "        text-align: right;\n",
       "    }\n",
       "</style>\n",
       "<table border=\"1\" class=\"dataframe\">\n",
       "  <thead>\n",
       "    <tr style=\"text-align: right;\">\n",
       "      <th></th>\n",
       "      <th>sales</th>\n",
       "      <th>quantity</th>\n",
       "      <th>discount</th>\n",
       "      <th>profit</th>\n",
       "      <th>shipping_cost</th>\n",
       "    </tr>\n",
       "  </thead>\n",
       "  <tbody>\n",
       "    <tr>\n",
       "      <th>0</th>\n",
       "      <td>3613</td>\n",
       "      <td>77</td>\n",
       "      <td>2.100</td>\n",
       "      <td>163.39000</td>\n",
       "      <td>390.07</td>\n",
       "    </tr>\n",
       "    <tr>\n",
       "      <th>1</th>\n",
       "      <td>867</td>\n",
       "      <td>23</td>\n",
       "      <td>1.600</td>\n",
       "      <td>68.06600</td>\n",
       "      <td>62.85</td>\n",
       "    </tr>\n",
       "    <tr>\n",
       "      <th>2</th>\n",
       "      <td>2914</td>\n",
       "      <td>43</td>\n",
       "      <td>1.002</td>\n",
       "      <td>91.09688</td>\n",
       "      <td>214.62</td>\n",
       "    </tr>\n",
       "  </tbody>\n",
       "</table>\n",
       "</div>"
      ],
      "text/plain": [
       "   sales  quantity  discount     profit  shipping_cost\n",
       "0   3613        77     2.100  163.39000         390.07\n",
       "1    867        23     1.600   68.06600          62.85\n",
       "2   2914        43     1.002   91.09688         214.62"
      ]
     },
     "execution_count": 466,
     "metadata": {},
     "output_type": "execute_result"
    }
   ],
   "source": [
    "df_2 = pd.read_csv(\"./app_build/Q12_2014.csv\")\n",
    "df_2 = df_2.groupby(\"order_date\").sum().reset_index()\n",
    "test_df = df_2.drop(\"order_date\", axis=1)\n",
    "test_df.head(3)"
   ]
  },
  {
   "cell_type": "code",
   "execution_count": 467,
   "metadata": {},
   "outputs": [],
   "source": [
    "test_X = test_df.iloc[:, 1:]\n",
    "y_true = test_df.iloc[:, 0]"
   ]
  },
  {
   "cell_type": "code",
   "execution_count": 468,
   "metadata": {},
   "outputs": [],
   "source": [
    "y_test = model2.predict(test_X)\n",
    "temp = y_true.to_numpy().reshape(-1, 1)"
   ]
  },
  {
   "cell_type": "code",
   "execution_count": 469,
   "metadata": {},
   "outputs": [],
   "source": [
    "df_2[\"order_date\"] = pd.to_datetime(df_2[\"order_date\"]).dt.strftime(\"%d-%b-%Y\")"
   ]
  },
  {
   "cell_type": "code",
   "execution_count": 481,
   "metadata": {},
   "outputs": [
    {
     "data": {
      "application/vnd.plotly.v1+json": {
       "config": {
        "plotlyServerURL": "https://plot.ly"
       },
       "data": [
        {
         "line": {
          "color": "green"
         },
         "mode": "lines",
         "name": "True Sales",
         "type": "scatter",
         "x": [
          "01-Jan-2014",
          "02-Jan-2014",
          "03-Jan-2014",
          "04-Jan-2014",
          "05-Jan-2014",
          "06-Jan-2014",
          "01-Oct-2014",
          "02-Oct-2014",
          "03-Oct-2014",
          "04-Oct-2014",
          "05-Oct-2014",
          "06-Oct-2014",
          "01-Nov-2014",
          "02-Nov-2014",
          "03-Nov-2014",
          "04-Nov-2014",
          "05-Nov-2014",
          "06-Nov-2014",
          "01-Dec-2014",
          "02-Dec-2014",
          "03-Dec-2014",
          "04-Dec-2014",
          "05-Dec-2014",
          "06-Dec-2014",
          "13-Jan-2014",
          "13-Feb-2014",
          "13-Mar-2014",
          "13-Apr-2014",
          "13-May-2014",
          "13-Jun-2014",
          "14-Jan-2014",
          "14-Feb-2014",
          "14-Mar-2014",
          "14-Apr-2014",
          "14-May-2014",
          "14-Jun-2014",
          "15-Jan-2014",
          "15-Feb-2014",
          "15-Mar-2014",
          "15-Apr-2014",
          "15-May-2014",
          "15-Jun-2014",
          "16-Jan-2014",
          "16-Feb-2014",
          "16-Mar-2014",
          "16-Apr-2014",
          "16-May-2014",
          "16-Jun-2014",
          "17-Jan-2014",
          "17-Feb-2014",
          "17-Mar-2014",
          "17-Apr-2014",
          "17-May-2014",
          "17-Jun-2014",
          "18-Jan-2014",
          "18-Feb-2014",
          "18-Mar-2014",
          "18-Apr-2014",
          "18-May-2014",
          "18-Jun-2014",
          "19-Jan-2014",
          "19-Feb-2014",
          "19-Mar-2014",
          "19-Apr-2014",
          "19-May-2014",
          "19-Jun-2014",
          "01-Feb-2014",
          "03-Feb-2014",
          "04-Feb-2014",
          "05-Feb-2014",
          "06-Feb-2014",
          "20-Jan-2014",
          "20-Feb-2014",
          "20-Mar-2014",
          "20-Apr-2014",
          "20-May-2014",
          "20-Jun-2014",
          "21-Jan-2014",
          "21-Feb-2014",
          "21-Mar-2014",
          "21-Apr-2014",
          "21-May-2014",
          "21-Jun-2014",
          "22-Jan-2014",
          "22-Feb-2014",
          "22-Mar-2014",
          "22-Apr-2014",
          "22-May-2014",
          "22-Jun-2014",
          "23-Jan-2014",
          "23-Feb-2014",
          "23-Mar-2014",
          "23-Apr-2014",
          "23-May-2014",
          "23-Jun-2014",
          "24-Jan-2014",
          "24-Feb-2014",
          "24-Mar-2014",
          "24-Apr-2014",
          "24-May-2014",
          "24-Jun-2014",
          "25-Jan-2014",
          "25-Feb-2014",
          "25-Mar-2014",
          "25-Apr-2014",
          "25-May-2014",
          "25-Jun-2014",
          "26-Jan-2014",
          "26-Feb-2014",
          "26-Mar-2014",
          "26-Apr-2014",
          "26-May-2014",
          "26-Jun-2014",
          "27-Jan-2014",
          "27-Feb-2014",
          "27-Mar-2014",
          "27-Apr-2014",
          "27-May-2014",
          "27-Jun-2014",
          "28-Jan-2014",
          "28-Feb-2014",
          "28-Mar-2014",
          "28-Apr-2014",
          "28-May-2014",
          "28-Jun-2014",
          "29-Jan-2014",
          "29-Mar-2014",
          "29-Apr-2014",
          "29-May-2014",
          "29-Jun-2014",
          "01-Mar-2014",
          "02-Mar-2014",
          "03-Mar-2014",
          "04-Mar-2014",
          "05-Mar-2014",
          "06-Mar-2014",
          "30-Jan-2014",
          "30-Mar-2014",
          "30-Apr-2014",
          "30-May-2014",
          "30-Jun-2014",
          "31-Jan-2014",
          "31-Mar-2014",
          "31-May-2014",
          "01-Apr-2014",
          "02-Apr-2014",
          "03-Apr-2014",
          "04-Apr-2014",
          "05-Apr-2014",
          "06-Apr-2014",
          "01-May-2014",
          "02-May-2014",
          "03-May-2014",
          "04-May-2014",
          "05-May-2014",
          "06-May-2014",
          "01-Jun-2014",
          "02-Jun-2014",
          "03-Jun-2014",
          "04-Jun-2014",
          "05-Jun-2014",
          "06-Jun-2014",
          "01-Jul-2014",
          "02-Jul-2014",
          "03-Jul-2014",
          "04-Jul-2014",
          "05-Jul-2014",
          "06-Jul-2014",
          "01-Aug-2014",
          "02-Aug-2014",
          "03-Aug-2014",
          "04-Aug-2014",
          "05-Aug-2014",
          "06-Aug-2014",
          "01-Sep-2014",
          "02-Sep-2014",
          "03-Sep-2014",
          "04-Sep-2014",
          "05-Sep-2014",
          "06-Sep-2014"
         ],
         "y": [
          4046.7178012052736,
          921.3177883644598,
          2185.25344306412,
          12655.443532297419,
          14321.957775060333,
          1976.5050754348572,
          3582.776603089352,
          10669.97058384177,
          5334.049053420487,
          9800.60325082876,
          7574.994334961894,
          17297.980544636106,
          2719.7042490464414,
          13727.515527127372,
          11538.748985205042,
          9460.502789595363,
          920.6215952924222,
          17961.062289502377,
          38.003090015862455,
          10194.787432224735,
          10264.441210201769,
          4090.4940096882865,
          5868.048264585773,
          14265.764499302708,
          5658.746527263177,
          8596.134660443227,
          7449.700898686629,
          1132.1111594533395,
          8926.891663672595,
          11881.755398718082,
          15559.501071034423,
          11824.118016279712,
          16008.367411208319,
          12034.32117173836,
          5917.314980667057,
          7580.038990514091,
          8937.099935010305,
          3222.6451382698633,
          10043.039934629456,
          13109.510464091265,
          18351.571154127254,
          1371.8992904931708,
          11658.193605894146,
          468.36754181335095,
          54.07903031299662,
          16166.926083436343,
          20671.397429268785,
          14908.232373312238,
          12685.924426809175,
          11612.460810186732,
          19874.238219508414,
          14193.29260397169,
          5416.82211191664,
          19341.673787966087,
          7248.588161830124,
          9219.052061828626,
          12188.039590536837,
          5056.242436583146,
          47.4927286300001,
          30316.270114003593,
          82.11528073965022,
          5800.098175855372,
          13068.251129703684,
          2773.773038523513,
          17464.298648401687,
          10717.172244485075,
          4859.113934229892,
          917.7949214431226,
          10876.463279475553,
          8168.4722230189,
          16926.904704288092,
          10664.04896747403,
          6075.94253820129,
          11286.515615630318,
          661.2118007887525,
          12966.392287319853,
          13144.375141096772,
          6796.242274201525,
          6871.530534339239,
          8992.570534925797,
          14172.377222873647,
          10519.80554077176,
          8657.186784967975,
          11906.526590252835,
          2703.369583253318,
          8303.703372775602,
          9441.219658048394,
          9552.212973629952,
          1985.8912229637895,
          6169.362879750793,
          1650.024490124782,
          166.51820946616476,
          8325.525159744371,
          6741.412528181856,
          18354.786798768444,
          9625.964989091153,
          10083.313389031291,
          14742.540564729012,
          10808.341419531118,
          7550.936200379182,
          23951.646332203185,
          6212.960327587516,
          5894.690475732432,
          8343.419568256255,
          6697.3556492553325,
          740.7678590739258,
          12981.182311006003,
          1973.205601676062,
          3694.0853489745928,
          16733.43745954572,
          6554.066891749309,
          13196.757799830442,
          18991.94460573885,
          6053.014427852055,
          9344.703261230155,
          12402.807356201514,
          1692.641130625524,
          13153.06868237752,
          22076.339469873135,
          9605.891760768322,
          10402.840933710031,
          11177.805086156543,
          11995.635068738726,
          11392.012786400486,
          9337.479693567368,
          11567.3265880971,
          2236.046298435174,
          4431.543030825692,
          17000.389994961013,
          1420.1146668449774,
          12501.074259218516,
          4716.026315256997,
          6865.645855039255,
          10291.49098052975,
          3223.397735893814,
          18811.392528348006,
          7635.858692349791,
          448.2568839270282,
          9243.810234549717,
          6530.3970480308035,
          22025.225905060404,
          15044.668955038607,
          13229.505354160852,
          7401.710772999198,
          4701.2845866244315,
          8094.006289151506,
          10842.759438367992,
          3148.2106330037514,
          2718.2687657757356,
          15879.654268521917,
          667.0773776524802,
          5125.696451612136,
          6767.0489688580865,
          2497.8199278694183,
          9550.112854716339,
          12204.36042809004,
          8844.187231572985,
          5807.009693591802,
          9997.396721687102,
          1479.1719356377941,
          4830.199322551689,
          12329.288395186077,
          2523.0662382838464,
          9219.050883543041,
          6048.553410271489,
          11046.222947349284,
          15612.842798736168,
          3727.5858407396854,
          11766.168980502349,
          3585.6223555982365,
          3963.6564341579374,
          6641.3471122609735,
          21638.131554086773,
          3674.643913370575,
          8164.640328936559,
          -5.274249582612356,
          970.9334759964304,
          16834.50762323699,
          14541.054098517385,
          23197.911081973114
         ]
        },
        {
         "line": {
          "color": "red"
         },
         "mode": "lines",
         "name": "Predict Sales",
         "type": "scatter",
         "x": [
          "01-Jan-2014",
          "02-Jan-2014",
          "03-Jan-2014",
          "04-Jan-2014",
          "05-Jan-2014",
          "06-Jan-2014",
          "01-Oct-2014",
          "02-Oct-2014",
          "03-Oct-2014",
          "04-Oct-2014",
          "05-Oct-2014",
          "06-Oct-2014",
          "01-Nov-2014",
          "02-Nov-2014",
          "03-Nov-2014",
          "04-Nov-2014",
          "05-Nov-2014",
          "06-Nov-2014",
          "01-Dec-2014",
          "02-Dec-2014",
          "03-Dec-2014",
          "04-Dec-2014",
          "05-Dec-2014",
          "06-Dec-2014",
          "13-Jan-2014",
          "13-Feb-2014",
          "13-Mar-2014",
          "13-Apr-2014",
          "13-May-2014",
          "13-Jun-2014",
          "14-Jan-2014",
          "14-Feb-2014",
          "14-Mar-2014",
          "14-Apr-2014",
          "14-May-2014",
          "14-Jun-2014",
          "15-Jan-2014",
          "15-Feb-2014",
          "15-Mar-2014",
          "15-Apr-2014",
          "15-May-2014",
          "15-Jun-2014",
          "16-Jan-2014",
          "16-Feb-2014",
          "16-Mar-2014",
          "16-Apr-2014",
          "16-May-2014",
          "16-Jun-2014",
          "17-Jan-2014",
          "17-Feb-2014",
          "17-Mar-2014",
          "17-Apr-2014",
          "17-May-2014",
          "17-Jun-2014",
          "18-Jan-2014",
          "18-Feb-2014",
          "18-Mar-2014",
          "18-Apr-2014",
          "18-May-2014",
          "18-Jun-2014",
          "19-Jan-2014",
          "19-Feb-2014",
          "19-Mar-2014",
          "19-Apr-2014",
          "19-May-2014",
          "19-Jun-2014",
          "01-Feb-2014",
          "03-Feb-2014",
          "04-Feb-2014",
          "05-Feb-2014",
          "06-Feb-2014",
          "20-Jan-2014",
          "20-Feb-2014",
          "20-Mar-2014",
          "20-Apr-2014",
          "20-May-2014",
          "20-Jun-2014",
          "21-Jan-2014",
          "21-Feb-2014",
          "21-Mar-2014",
          "21-Apr-2014",
          "21-May-2014",
          "21-Jun-2014",
          "22-Jan-2014",
          "22-Feb-2014",
          "22-Mar-2014",
          "22-Apr-2014",
          "22-May-2014",
          "22-Jun-2014",
          "23-Jan-2014",
          "23-Feb-2014",
          "23-Mar-2014",
          "23-Apr-2014",
          "23-May-2014",
          "23-Jun-2014",
          "24-Jan-2014",
          "24-Feb-2014",
          "24-Mar-2014",
          "24-Apr-2014",
          "24-May-2014",
          "24-Jun-2014",
          "25-Jan-2014",
          "25-Feb-2014",
          "25-Mar-2014",
          "25-Apr-2014",
          "25-May-2014",
          "25-Jun-2014",
          "26-Jan-2014",
          "26-Feb-2014",
          "26-Mar-2014",
          "26-Apr-2014",
          "26-May-2014",
          "26-Jun-2014",
          "27-Jan-2014",
          "27-Feb-2014",
          "27-Mar-2014",
          "27-Apr-2014",
          "27-May-2014",
          "27-Jun-2014",
          "28-Jan-2014",
          "28-Feb-2014",
          "28-Mar-2014",
          "28-Apr-2014",
          "28-May-2014",
          "28-Jun-2014",
          "29-Jan-2014",
          "29-Mar-2014",
          "29-Apr-2014",
          "29-May-2014",
          "29-Jun-2014",
          "01-Mar-2014",
          "02-Mar-2014",
          "03-Mar-2014",
          "04-Mar-2014",
          "05-Mar-2014",
          "06-Mar-2014",
          "30-Jan-2014",
          "30-Mar-2014",
          "30-Apr-2014",
          "30-May-2014",
          "30-Jun-2014",
          "31-Jan-2014",
          "31-Mar-2014",
          "31-May-2014",
          "01-Apr-2014",
          "02-Apr-2014",
          "03-Apr-2014",
          "04-Apr-2014",
          "05-Apr-2014",
          "06-Apr-2014",
          "01-May-2014",
          "02-May-2014",
          "03-May-2014",
          "04-May-2014",
          "05-May-2014",
          "06-May-2014",
          "01-Jun-2014",
          "02-Jun-2014",
          "03-Jun-2014",
          "04-Jun-2014",
          "05-Jun-2014",
          "06-Jun-2014",
          "01-Jul-2014",
          "02-Jul-2014",
          "03-Jul-2014",
          "04-Jul-2014",
          "05-Jul-2014",
          "06-Jul-2014",
          "01-Aug-2014",
          "02-Aug-2014",
          "03-Aug-2014",
          "04-Aug-2014",
          "05-Aug-2014",
          "06-Aug-2014",
          "01-Sep-2014",
          "02-Sep-2014",
          "03-Sep-2014",
          "04-Sep-2014",
          "05-Sep-2014",
          "06-Sep-2014"
         ],
         "y": [
          3613,
          867,
          2914,
          12109,
          10080,
          2039,
          4202,
          11902,
          5362,
          8512,
          8213,
          18325,
          4428,
          12392,
          12584,
          8920,
          808,
          17145,
          75,
          11211,
          9030,
          5151,
          6459,
          11547,
          5360,
          9615,
          6263,
          1890,
          7719,
          12599,
          17296,
          11483,
          14091,
          12468,
          4904,
          7437,
          6002,
          2606,
          9024,
          11627,
          14366,
          1383,
          11340,
          412,
          69,
          15247,
          21191,
          17993,
          14417,
          10510,
          20494,
          11521,
          6514,
          19979,
          9694,
          9960,
          11184,
          8720,
          161,
          32195,
          194,
          6749,
          12634,
          1881,
          16822,
          12525,
          4169,
          613,
          14935,
          10096,
          15739,
          11622,
          6910,
          9522,
          1075,
          12208,
          12021,
          8762,
          8020,
          9055,
          13646,
          8808,
          6230,
          12946,
          2685,
          8993,
          7247,
          8317,
          1219,
          6713,
          755,
          240,
          7784,
          8352,
          16705,
          9326,
          8064,
          23866,
          10634,
          8061,
          27468,
          7099,
          6741,
          8011,
          5873,
          1212,
          13235,
          2073,
          4576,
          17632,
          5622,
          10349,
          21340,
          5228,
          10046,
          15204,
          1084,
          13567,
          17898,
          8558,
          9771,
          10962,
          13017,
          12133,
          6939,
          11460,
          1732,
          4530,
          16612,
          2438,
          11326,
          4501,
          4706,
          9185,
          2957,
          17698,
          7594,
          252,
          9714,
          6475,
          19409,
          12440,
          13909,
          6480,
          4705,
          8191,
          11929,
          2805,
          2776,
          17541,
          427,
          6321,
          6781,
          1767,
          7531,
          11197,
          10841,
          7087,
          7213,
          1151,
          3320,
          14222,
          6202,
          11014,
          4781,
          11076,
          14739,
          4528,
          13412,
          2331,
          3178,
          7563,
          22266,
          2846,
          9743,
          128,
          882,
          16027,
          14908,
          20003
         ]
        }
       ],
       "layout": {
        "showlegend": true,
        "template": {
         "data": {
          "bar": [
           {
            "error_x": {
             "color": "#2a3f5f"
            },
            "error_y": {
             "color": "#2a3f5f"
            },
            "marker": {
             "line": {
              "color": "#E5ECF6",
              "width": 0.5
             },
             "pattern": {
              "fillmode": "overlay",
              "size": 10,
              "solidity": 0.2
             }
            },
            "type": "bar"
           }
          ],
          "barpolar": [
           {
            "marker": {
             "line": {
              "color": "#E5ECF6",
              "width": 0.5
             },
             "pattern": {
              "fillmode": "overlay",
              "size": 10,
              "solidity": 0.2
             }
            },
            "type": "barpolar"
           }
          ],
          "carpet": [
           {
            "aaxis": {
             "endlinecolor": "#2a3f5f",
             "gridcolor": "white",
             "linecolor": "white",
             "minorgridcolor": "white",
             "startlinecolor": "#2a3f5f"
            },
            "baxis": {
             "endlinecolor": "#2a3f5f",
             "gridcolor": "white",
             "linecolor": "white",
             "minorgridcolor": "white",
             "startlinecolor": "#2a3f5f"
            },
            "type": "carpet"
           }
          ],
          "choropleth": [
           {
            "colorbar": {
             "outlinewidth": 0,
             "ticks": ""
            },
            "type": "choropleth"
           }
          ],
          "contour": [
           {
            "colorbar": {
             "outlinewidth": 0,
             "ticks": ""
            },
            "colorscale": [
             [
              0,
              "#0d0887"
             ],
             [
              0.1111111111111111,
              "#46039f"
             ],
             [
              0.2222222222222222,
              "#7201a8"
             ],
             [
              0.3333333333333333,
              "#9c179e"
             ],
             [
              0.4444444444444444,
              "#bd3786"
             ],
             [
              0.5555555555555556,
              "#d8576b"
             ],
             [
              0.6666666666666666,
              "#ed7953"
             ],
             [
              0.7777777777777778,
              "#fb9f3a"
             ],
             [
              0.8888888888888888,
              "#fdca26"
             ],
             [
              1,
              "#f0f921"
             ]
            ],
            "type": "contour"
           }
          ],
          "contourcarpet": [
           {
            "colorbar": {
             "outlinewidth": 0,
             "ticks": ""
            },
            "type": "contourcarpet"
           }
          ],
          "heatmap": [
           {
            "colorbar": {
             "outlinewidth": 0,
             "ticks": ""
            },
            "colorscale": [
             [
              0,
              "#0d0887"
             ],
             [
              0.1111111111111111,
              "#46039f"
             ],
             [
              0.2222222222222222,
              "#7201a8"
             ],
             [
              0.3333333333333333,
              "#9c179e"
             ],
             [
              0.4444444444444444,
              "#bd3786"
             ],
             [
              0.5555555555555556,
              "#d8576b"
             ],
             [
              0.6666666666666666,
              "#ed7953"
             ],
             [
              0.7777777777777778,
              "#fb9f3a"
             ],
             [
              0.8888888888888888,
              "#fdca26"
             ],
             [
              1,
              "#f0f921"
             ]
            ],
            "type": "heatmap"
           }
          ],
          "heatmapgl": [
           {
            "colorbar": {
             "outlinewidth": 0,
             "ticks": ""
            },
            "colorscale": [
             [
              0,
              "#0d0887"
             ],
             [
              0.1111111111111111,
              "#46039f"
             ],
             [
              0.2222222222222222,
              "#7201a8"
             ],
             [
              0.3333333333333333,
              "#9c179e"
             ],
             [
              0.4444444444444444,
              "#bd3786"
             ],
             [
              0.5555555555555556,
              "#d8576b"
             ],
             [
              0.6666666666666666,
              "#ed7953"
             ],
             [
              0.7777777777777778,
              "#fb9f3a"
             ],
             [
              0.8888888888888888,
              "#fdca26"
             ],
             [
              1,
              "#f0f921"
             ]
            ],
            "type": "heatmapgl"
           }
          ],
          "histogram": [
           {
            "marker": {
             "pattern": {
              "fillmode": "overlay",
              "size": 10,
              "solidity": 0.2
             }
            },
            "type": "histogram"
           }
          ],
          "histogram2d": [
           {
            "colorbar": {
             "outlinewidth": 0,
             "ticks": ""
            },
            "colorscale": [
             [
              0,
              "#0d0887"
             ],
             [
              0.1111111111111111,
              "#46039f"
             ],
             [
              0.2222222222222222,
              "#7201a8"
             ],
             [
              0.3333333333333333,
              "#9c179e"
             ],
             [
              0.4444444444444444,
              "#bd3786"
             ],
             [
              0.5555555555555556,
              "#d8576b"
             ],
             [
              0.6666666666666666,
              "#ed7953"
             ],
             [
              0.7777777777777778,
              "#fb9f3a"
             ],
             [
              0.8888888888888888,
              "#fdca26"
             ],
             [
              1,
              "#f0f921"
             ]
            ],
            "type": "histogram2d"
           }
          ],
          "histogram2dcontour": [
           {
            "colorbar": {
             "outlinewidth": 0,
             "ticks": ""
            },
            "colorscale": [
             [
              0,
              "#0d0887"
             ],
             [
              0.1111111111111111,
              "#46039f"
             ],
             [
              0.2222222222222222,
              "#7201a8"
             ],
             [
              0.3333333333333333,
              "#9c179e"
             ],
             [
              0.4444444444444444,
              "#bd3786"
             ],
             [
              0.5555555555555556,
              "#d8576b"
             ],
             [
              0.6666666666666666,
              "#ed7953"
             ],
             [
              0.7777777777777778,
              "#fb9f3a"
             ],
             [
              0.8888888888888888,
              "#fdca26"
             ],
             [
              1,
              "#f0f921"
             ]
            ],
            "type": "histogram2dcontour"
           }
          ],
          "mesh3d": [
           {
            "colorbar": {
             "outlinewidth": 0,
             "ticks": ""
            },
            "type": "mesh3d"
           }
          ],
          "parcoords": [
           {
            "line": {
             "colorbar": {
              "outlinewidth": 0,
              "ticks": ""
             }
            },
            "type": "parcoords"
           }
          ],
          "pie": [
           {
            "automargin": true,
            "type": "pie"
           }
          ],
          "scatter": [
           {
            "fillpattern": {
             "fillmode": "overlay",
             "size": 10,
             "solidity": 0.2
            },
            "type": "scatter"
           }
          ],
          "scatter3d": [
           {
            "line": {
             "colorbar": {
              "outlinewidth": 0,
              "ticks": ""
             }
            },
            "marker": {
             "colorbar": {
              "outlinewidth": 0,
              "ticks": ""
             }
            },
            "type": "scatter3d"
           }
          ],
          "scattercarpet": [
           {
            "marker": {
             "colorbar": {
              "outlinewidth": 0,
              "ticks": ""
             }
            },
            "type": "scattercarpet"
           }
          ],
          "scattergeo": [
           {
            "marker": {
             "colorbar": {
              "outlinewidth": 0,
              "ticks": ""
             }
            },
            "type": "scattergeo"
           }
          ],
          "scattergl": [
           {
            "marker": {
             "colorbar": {
              "outlinewidth": 0,
              "ticks": ""
             }
            },
            "type": "scattergl"
           }
          ],
          "scattermapbox": [
           {
            "marker": {
             "colorbar": {
              "outlinewidth": 0,
              "ticks": ""
             }
            },
            "type": "scattermapbox"
           }
          ],
          "scatterpolar": [
           {
            "marker": {
             "colorbar": {
              "outlinewidth": 0,
              "ticks": ""
             }
            },
            "type": "scatterpolar"
           }
          ],
          "scatterpolargl": [
           {
            "marker": {
             "colorbar": {
              "outlinewidth": 0,
              "ticks": ""
             }
            },
            "type": "scatterpolargl"
           }
          ],
          "scatterternary": [
           {
            "marker": {
             "colorbar": {
              "outlinewidth": 0,
              "ticks": ""
             }
            },
            "type": "scatterternary"
           }
          ],
          "surface": [
           {
            "colorbar": {
             "outlinewidth": 0,
             "ticks": ""
            },
            "colorscale": [
             [
              0,
              "#0d0887"
             ],
             [
              0.1111111111111111,
              "#46039f"
             ],
             [
              0.2222222222222222,
              "#7201a8"
             ],
             [
              0.3333333333333333,
              "#9c179e"
             ],
             [
              0.4444444444444444,
              "#bd3786"
             ],
             [
              0.5555555555555556,
              "#d8576b"
             ],
             [
              0.6666666666666666,
              "#ed7953"
             ],
             [
              0.7777777777777778,
              "#fb9f3a"
             ],
             [
              0.8888888888888888,
              "#fdca26"
             ],
             [
              1,
              "#f0f921"
             ]
            ],
            "type": "surface"
           }
          ],
          "table": [
           {
            "cells": {
             "fill": {
              "color": "#EBF0F8"
             },
             "line": {
              "color": "white"
             }
            },
            "header": {
             "fill": {
              "color": "#C8D4E3"
             },
             "line": {
              "color": "white"
             }
            },
            "type": "table"
           }
          ]
         },
         "layout": {
          "annotationdefaults": {
           "arrowcolor": "#2a3f5f",
           "arrowhead": 0,
           "arrowwidth": 1
          },
          "autotypenumbers": "strict",
          "coloraxis": {
           "colorbar": {
            "outlinewidth": 0,
            "ticks": ""
           }
          },
          "colorscale": {
           "diverging": [
            [
             0,
             "#8e0152"
            ],
            [
             0.1,
             "#c51b7d"
            ],
            [
             0.2,
             "#de77ae"
            ],
            [
             0.3,
             "#f1b6da"
            ],
            [
             0.4,
             "#fde0ef"
            ],
            [
             0.5,
             "#f7f7f7"
            ],
            [
             0.6,
             "#e6f5d0"
            ],
            [
             0.7,
             "#b8e186"
            ],
            [
             0.8,
             "#7fbc41"
            ],
            [
             0.9,
             "#4d9221"
            ],
            [
             1,
             "#276419"
            ]
           ],
           "sequential": [
            [
             0,
             "#0d0887"
            ],
            [
             0.1111111111111111,
             "#46039f"
            ],
            [
             0.2222222222222222,
             "#7201a8"
            ],
            [
             0.3333333333333333,
             "#9c179e"
            ],
            [
             0.4444444444444444,
             "#bd3786"
            ],
            [
             0.5555555555555556,
             "#d8576b"
            ],
            [
             0.6666666666666666,
             "#ed7953"
            ],
            [
             0.7777777777777778,
             "#fb9f3a"
            ],
            [
             0.8888888888888888,
             "#fdca26"
            ],
            [
             1,
             "#f0f921"
            ]
           ],
           "sequentialminus": [
            [
             0,
             "#0d0887"
            ],
            [
             0.1111111111111111,
             "#46039f"
            ],
            [
             0.2222222222222222,
             "#7201a8"
            ],
            [
             0.3333333333333333,
             "#9c179e"
            ],
            [
             0.4444444444444444,
             "#bd3786"
            ],
            [
             0.5555555555555556,
             "#d8576b"
            ],
            [
             0.6666666666666666,
             "#ed7953"
            ],
            [
             0.7777777777777778,
             "#fb9f3a"
            ],
            [
             0.8888888888888888,
             "#fdca26"
            ],
            [
             1,
             "#f0f921"
            ]
           ]
          },
          "colorway": [
           "#636efa",
           "#EF553B",
           "#00cc96",
           "#ab63fa",
           "#FFA15A",
           "#19d3f3",
           "#FF6692",
           "#B6E880",
           "#FF97FF",
           "#FECB52"
          ],
          "font": {
           "color": "#2a3f5f"
          },
          "geo": {
           "bgcolor": "white",
           "lakecolor": "white",
           "landcolor": "#E5ECF6",
           "showlakes": true,
           "showland": true,
           "subunitcolor": "white"
          },
          "hoverlabel": {
           "align": "left"
          },
          "hovermode": "closest",
          "mapbox": {
           "style": "light"
          },
          "paper_bgcolor": "white",
          "plot_bgcolor": "#E5ECF6",
          "polar": {
           "angularaxis": {
            "gridcolor": "white",
            "linecolor": "white",
            "ticks": ""
           },
           "bgcolor": "#E5ECF6",
           "radialaxis": {
            "gridcolor": "white",
            "linecolor": "white",
            "ticks": ""
           }
          },
          "scene": {
           "xaxis": {
            "backgroundcolor": "#E5ECF6",
            "gridcolor": "white",
            "gridwidth": 2,
            "linecolor": "white",
            "showbackground": true,
            "ticks": "",
            "zerolinecolor": "white"
           },
           "yaxis": {
            "backgroundcolor": "#E5ECF6",
            "gridcolor": "white",
            "gridwidth": 2,
            "linecolor": "white",
            "showbackground": true,
            "ticks": "",
            "zerolinecolor": "white"
           },
           "zaxis": {
            "backgroundcolor": "#E5ECF6",
            "gridcolor": "white",
            "gridwidth": 2,
            "linecolor": "white",
            "showbackground": true,
            "ticks": "",
            "zerolinecolor": "white"
           }
          },
          "shapedefaults": {
           "line": {
            "color": "#2a3f5f"
           }
          },
          "ternary": {
           "aaxis": {
            "gridcolor": "white",
            "linecolor": "white",
            "ticks": ""
           },
           "baxis": {
            "gridcolor": "white",
            "linecolor": "white",
            "ticks": ""
           },
           "bgcolor": "#E5ECF6",
           "caxis": {
            "gridcolor": "white",
            "linecolor": "white",
            "ticks": ""
           }
          },
          "title": {
           "x": 0.05
          },
          "xaxis": {
           "automargin": true,
           "gridcolor": "white",
           "linecolor": "white",
           "ticks": "",
           "title": {
            "standoff": 15
           },
           "zerolinecolor": "white",
           "zerolinewidth": 2
          },
          "yaxis": {
           "automargin": true,
           "gridcolor": "white",
           "linecolor": "white",
           "ticks": "",
           "title": {
            "standoff": 15
           },
           "zerolinecolor": "white",
           "zerolinewidth": 2
          }
         }
        },
        "title": {
         "text": "Sales prediction vs true values in Q1 and Q2 in 2014"
        },
        "xaxis": {
         "title": {
          "text": "Date"
         }
        },
        "yaxis": {
         "title": {
          "text": "Total sales"
         }
        }
       }
      }
     },
     "metadata": {},
     "output_type": "display_data"
    }
   ],
   "source": [
    "fig = go.Figure()\n",
    "fig.add_trace(go.Scatter(x=list(df_2[\"order_date\"].values), y=y_test, mode='lines', name='True Sales', line=dict(color='green')))\n",
    "fig.add_trace(go.Scatter(x=list(df_2[\"order_date\"].values), y=temp[:, 0], mode='lines', name='Predict Sales', line=dict(color='red')))\n",
    "fig.update_layout(\n",
    "    title='Sales prediction vs true values in Q1 and Q2 in 2014',\n",
    "    xaxis_title='Date',\n",
    "    yaxis_title='Total sales',\n",
    "    showlegend=True\n",
    ")"
   ]
  },
  {
   "cell_type": "code",
   "execution_count": 471,
   "metadata": {},
   "outputs": [
    {
     "data": {
      "text/plain": [
       "0.9276783652618676"
      ]
     },
     "execution_count": 471,
     "metadata": {},
     "output_type": "execute_result"
    }
   ],
   "source": [
    "metrics.r2_score(y_true.to_numpy(), y_test)"
   ]
  },
  {
   "attachments": {},
   "cell_type": "markdown",
   "metadata": {},
   "source": [
    "---"
   ]
  },
  {
   "cell_type": "code",
   "execution_count": 472,
   "metadata": {},
   "outputs": [],
   "source": [
    "def model_rmse(y_test, y_pred):\n",
    "    return np.sqrt(np.mean((y_test.ravel() - y_pred.ravel())**2))\n",
    "\n",
    "def train_each_feature_cross_validation(train, fold = 5):\n",
    "    feature = {k: 0 for k in train.columns if k != 'sales'}\n",
    "\n",
    "    for train_split, test_split in KFold(n_splits=fold, shuffle=True).split(train):\n",
    "        for column in feature.keys():\n",
    "            feature_train = np.array(train.iloc[train_split].loc[:,[column]])\n",
    "            label_train = np.array(train.iloc[train_split].loc[:,['sales']])\n",
    "\n",
    "            feature_test = np.array(train.iloc[test_split].loc[:,[column]])\n",
    "            label_test = np.array(train.iloc[test_split].loc[:,['sales']])\n",
    "                \n",
    "            model = lr().fit(feature_train, label_train)\n",
    "            pred = model.predict(feature_test)\n",
    "            rmse = model_rmse(label_test, pred)\n",
    "\n",
    "            feature[column] += rmse\n",
    "\n",
    "    return {k: v/fold for k, v in feature.items()}"
   ]
  },
  {
   "cell_type": "code",
   "execution_count": 473,
   "metadata": {},
   "outputs": [
    {
     "name": "stdout",
     "output_type": "stream",
     "text": [
      "The best feature in the dataset (most correlated feature to label): shipping_cost\n"
     ]
    }
   ],
   "source": [
    "features = train_each_feature_cross_validation(pd.concat([X_train, y_train], axis=1))\n",
    "best_feature = min(features, key=features.get)\n",
    "print('The best feature in the dataset (most correlated feature to label):', best_feature)"
   ]
  },
  {
   "cell_type": "code",
   "execution_count": 482,
   "metadata": {},
   "outputs": [
    {
     "data": {
      "application/vnd.plotly.v1+json": {
       "config": {
        "plotlyServerURL": "https://plot.ly"
       },
       "data": [
        {
         "hovertemplate": "shipping_cost=%{marker.color}<br>sales=%{y}<extra></extra>",
         "legendgroup": "",
         "marker": {
          "color": [
           64.67,
           342.16999999999996,
           1328.16,
           376.48999999999995,
           1209.5599999999997,
           448.61,
           783.6699999999998,
           829.1099999999999,
           153.95,
           1927.9900000000005,
           1552.56,
           24.1,
           1060.5,
           253.16000000000003,
           337.93,
           1778.9000000000003,
           997.0600000000001,
           34.39,
           617.91,
           1422.8099999999993,
           95.05,
           875.6600000000001,
           818.1500000000001,
           471.4200000000001,
           20.849999999999998,
           875.5300000000002,
           80.05,
           719.0599999999998,
           1294.7199999999993,
           1230.57,
           57.72,
           801.7899999999998,
           2494.959999999998,
           1072.6,
           224.93999999999997,
           169.81,
           184.53,
           911.4500000000002,
           871.6200000000001,
           367.33000000000004,
           231.09,
           1440.8899999999994,
           841.5600000000001,
           2035.93,
           42.6,
           248.06,
           16.62,
           91.86999999999999,
           1330.92,
           229.72000000000006,
           71.44000000000001,
           289.44000000000005,
           615.2800000000003,
           306.50999999999993,
           314.25000000000006,
           953.9799999999999,
           1072.72,
           60.690000000000005,
           0.23,
           16.46,
           686.76,
           575.19,
           1263.3800000000008,
           312.8,
           61.089999999999996,
           765.4299999999998,
           1810.640000000001,
           450.45,
           1651.3600000000004,
           707.4900000000004,
           160.14000000000001,
           333.2199999999999,
           295.65999999999997,
           204.92000000000002,
           1780.8000000000009,
           504.79,
           6.63,
           732.57,
           1213.0800000000004,
           2124.819999999998,
           839.4400000000002,
           742.41,
           63.25,
           647.5100000000001,
           661.5900000000001,
           319.15999999999997,
           994.56,
           289.28,
           822.71,
           2745.659999999999,
           282.8,
           508.62,
           1281.2500000000002,
           79.89,
           536.61,
           71.61999999999999,
           63.980000000000004,
           461.08000000000015,
           1099.8199999999997,
           142.45999999999998,
           1890.809999999999,
           954.56,
           14.440000000000001,
           2430.399999999999,
           1505.2800000000004,
           1317.19,
           981.3700000000003,
           531.1099999999999,
           513.2499999999999,
           667.7100000000002,
           785.48,
           458.14000000000004,
           591.08,
           1229.2899999999993,
           781.99,
           617.3000000000002,
           66.55,
           536.2099999999999,
           722.8600000000001,
           228.32999999999996,
           481.06999999999994,
           549.61,
           694.8600000000002,
           251.42999999999998,
           191.91000000000005,
           2255.9400000000014,
           119.08999999999999,
           199.71000000000004,
           526.0700000000002,
           328.78999999999996,
           333.64,
           545.31,
           2.73,
           533.53,
           1054.3600000000001,
           1384.5600000000006,
           473.64,
           571.6200000000001,
           1212.9100000000003,
           176.42,
           349.7400000000001,
           40.21,
           354.22999999999996,
           640.3999999999999,
           133.62,
           937.1399999999999,
           515.0799999999999,
           1338.5399999999997,
           1056.23,
           1567.3400000000004,
           1132.1500000000003,
           1303.51,
           640.4599999999999,
           503.33000000000004,
           301.17999999999995,
           564.7600000000001,
           403.87000000000006,
           1758.1699999999998,
           177.14000000000004,
           1035.72,
           1861.2599999999989,
           30.010000000000005,
           411.25999999999993,
           155.51000000000002,
           54.47,
           180.36999999999998,
           593.6499999999999,
           20.62,
           763.8000000000001,
           2479.1100000000006,
           1193.32,
           861.2000000000003,
           547.3600000000002,
           1954.4500000000007,
           330.62,
           543.43,
           652.5899999999998,
           1022.84,
           802.39,
           611.9500000000002,
           129.76000000000002,
           970.0499999999998,
           940.1500000000002,
           47.629999999999995,
           1789.57,
           476.89000000000004,
           47.64,
           696.38,
           1176.7599999999995,
           167.84,
           1165.2699999999998,
           338.30000000000007,
           131.37999999999997,
           928.13,
           1480.3200000000002,
           1828.7099999999996,
           717.8000000000001,
           55.60000000000001,
           1115.47,
           524.11,
           609.3299999999997,
           88.94,
           846.75,
           814.2300000000002,
           1138.2499999999995,
           1160.5600000000004,
           473.9700000000001,
           729.8799999999998,
           1980.25,
           414.44000000000005,
           398.53999999999996,
           968.9200000000001,
           393.67999999999995,
           1794.2999999999995,
           850.14,
           661.99,
           956.59,
           1229.3199999999997,
           11.09,
           1074.2400000000002,
           1687.6200000000001,
           175.53,
           562.33,
           493.0299999999999,
           679.3500000000001,
           962.85,
           2.55,
           1632.03,
           182.70999999999995,
           392.3899999999999,
           2617.43,
           496.0699999999998,
           292.3099999999999,
           317.7900000000001,
           406.7799999999999,
           299.1700000000001,
           564.7300000000001,
           521.84,
           500.22,
           1592.9599999999998,
           295.7,
           1023.1100000000002,
           931.1299999999997,
           254.41,
           913.88,
           367.4899999999999,
           118.17999999999999,
           395.48,
           953.4,
           313.61,
           217.34000000000003,
           1716.1499999999996,
           1677.57,
           1076.2799999999997,
           1334.0900000000004,
           873.5000000000001,
           812.42,
           17.14,
           47.31,
           479.51000000000005,
           994.31,
           1523.8600000000001,
           1092.1599999999992,
           212.09000000000003,
           611.5000000000001,
           1333.1399999999999,
           266.95,
           1175.7299999999998,
           629.05,
           15.13,
           221.70999999999995,
           555.4300000000001,
           451.50000000000006,
           1242.6799999999998,
           584.5500000000001,
           41.5,
           778.5699999999999,
           1269.4900000000005,
           671.9399999999998,
           1004.3000000000003,
           893.0499999999998,
           465.1000000000001,
           632.5999999999999,
           381.8700000000001,
           1634.49,
           797.0799999999999,
           1037.3700000000001,
           1995.21,
           45.7,
           1186.77,
           1659.8500000000006,
           105.38999999999999,
           1383.5400000000004,
           323.48999999999995,
           652.01,
           928.8399999999999,
           276.3,
           172.80000000000004,
           1357.1999999999994,
           1289.3000000000004,
           1016.65,
           1497.2699999999995,
           334.11000000000007,
           2489.0800000000013,
           485.8400000000001,
           123.02,
           45.49,
           537.3700000000001,
           1247.9199999999996,
           1116.5500000000002,
           1075.7299999999996,
           433.16999999999996,
           2407.150000000001,
           1213.1000000000004,
           2187.1400000000003,
           1472.35,
           122.65999999999998,
           1158.2100000000005,
           470.62000000000006,
           1202.1599999999996,
           1406.6200000000003,
           694.9799999999999,
           390.4300000000001,
           1330.2,
           1179.82,
           2147.460000000001,
           1544.0400000000002,
           475.4299999999999,
           2876.4200000000014,
           951.5300000000003,
           1316.56,
           145.06,
           1704.2600000000004,
           441.48,
           1033.3700000000001,
           1836.12,
           606.2799999999997,
           2591.4500000000016,
           650.0600000000002,
           34.77,
           762.2099999999999,
           654.95,
           314.22999999999996,
           1176.0400000000002,
           1743.8700000000003,
           550.3000000000001,
           1005.8599999999996,
           1482.73,
           6.66,
           1558.7700000000002,
           2499.320000000001,
           1039.4299999999998,
           882.52,
           338.79,
           332.89000000000004,
           928.87,
           2348.4500000000007,
           1.02,
           1507.0799999999992,
           155.95,
           797.4300000000002,
           1188.4599999999998,
           683.8799999999997,
           1000.42,
           1192.04,
           1591.7000000000003,
           912.1600000000001,
           1078.6799999999998,
           991.61,
           1296.9599999999996,
           692.7299999999999,
           51.239999999999995,
           819.5299999999999,
           1402.07,
           39.160000000000004,
           679.2300000000001,
           297.43000000000006,
           140.94000000000005,
           1121.1699999999996,
           1035.0900000000001,
           29.35,
           594.77,
           802.2699999999998,
           1794.09,
           1366.8099999999997,
           1189.6,
           1387.4899999999989,
           812.2799999999999,
           102.55,
           21.59,
           565.19,
           765.8599999999997,
           2908.1699999999996,
           951.7999999999998,
           703.4899999999999,
           1624.27,
           574.8199999999999,
           17.47,
           1838.79,
           525.8100000000002,
           575.6199999999999,
           2331.7,
           361.41,
           593.57,
           2340.42,
           1082.2899999999997,
           65.4,
           1213.9299999999998,
           1387.8800000000008,
           2231.3399999999992,
           2198.3399999999997,
           724.7700000000002,
           626.6800000000003,
           599.54,
           896.24,
           29.650000000000002,
           1569.9699999999991,
           1064.6000000000001,
           1618.179999999999,
           1438.7199999999998,
           837.0700000000006,
           806.1200000000002,
           2504.51,
           189.49999999999997,
           911.7000000000004,
           3.18,
           3.26,
           528.8299999999999,
           233.67000000000007,
           563.28,
           1246.5799999999997,
           237.61,
           1040.6199999999997,
           364.64,
           885.71,
           20.85,
           351.89,
           652.5200000000001,
           1287.3200000000002,
           2504.5600000000004,
           257.81,
           1398.3400000000004,
           335.65000000000003,
           297.68000000000006,
           753.3500000000001,
           1520.9399999999994,
           627.6199999999999,
           1524.0700000000004,
           1684.2699999999995,
           1397.88,
           866.0399999999997,
           120.16,
           27.93,
           2930.6499999999996,
           1947.64,
           1280.1200000000003,
           2319.9300000000007,
           871.3299999999999,
           863.29,
           237.02999999999997,
           257.33000000000004,
           706.2099999999999,
           558.16,
           832.9700000000004,
           1049.4500000000003,
           650.9000000000001,
           907.2900000000001,
           545.17,
           1204.9199999999998,
           76.30000000000001,
           432.19,
           663.5700000000002,
           1003.1299999999998,
           486.9100000000001,
           998.2799999999997,
           1714.5700000000008,
           605.1099999999999,
           383.23,
           264.71,
           1128.2600000000002,
           1120.78,
           2522.7600000000007,
           1681.7599999999993,
           1580.17,
           1632.7199999999998,
           5.66,
           1197.6699999999994,
           1053.9900000000005,
           1158.4899999999996,
           987.7499999999999,
           1424.0599999999997,
           605.2799999999997,
           606.0800000000002,
           311.71,
           722.2500000000001,
           1147.4500000000005,
           689.1,
           372.2399999999999,
           257.53,
           645.9300000000003,
           443.51000000000005,
           328.3999999999999,
           49.6,
           655.3400000000003,
           26.23,
           1212.8599999999994,
           900.9099999999997,
           868.6000000000001,
           936.6300000000001,
           1333.9600000000005,
           165.82000000000005,
           2.14,
           1301.5700000000006,
           928.8300000000002,
           702.25,
           1764.92,
           1191.1100000000004,
           1103.92,
           202.1,
           840.6100000000001,
           1440,
           1390.1200000000003,
           1018.3099999999998,
           1401.6899999999994,
           2161.06,
           1306.2099999999996,
           1308.1499999999999,
           107.02000000000001,
           45.24,
           845.7499999999998,
           543.1699999999997,
           840.9800000000001,
           149.03999999999996,
           269.14,
           157.40999999999997,
           1342.2099999999996,
           390.6,
           651.9100000000001,
           1217.95,
           990.67,
           166.09999999999997,
           666.7199999999999,
           1846.7200000000005,
           461.02000000000004,
           1606.6999999999994,
           125.39,
           440.3800000000001,
           1181.1499999999999,
           1024.6600000000003,
           1377.9800000000002,
           1602.0100000000002,
           2126.89,
           547.0499999999998,
           152.85999999999999,
           1683.76,
           187.73999999999998,
           341.98,
           1806.039999999999,
           1155.4299999999998,
           1508.100000000001,
           1295.3700000000003,
           1301.190000000001,
           123.59,
           1560.8999999999996,
           306.35999999999996,
           471.81000000000006,
           368.32000000000005,
           63.47,
           152.16000000000003,
           380.13,
           63.39000000000001,
           6.9,
           426.83,
           1001.1400000000001,
           632.8499999999999,
           1092.9,
           1164.6500000000003,
           1497.28,
           117.91999999999999,
           2880.36,
           31.73,
           1144.0500000000002,
           733.2299999999999,
           1022.8600000000001,
           1000.7700000000002,
           627.1700000000002,
           293.9000000000001,
           1210.9799999999998,
           1723.8599999999992,
           733.43,
           1145.3300000000006,
           2066.6200000000003,
           1209.77,
           582.6999999999999,
           296.6199999999999,
           2791.630000000001,
           1633.2300000000002,
           1146.8700000000003,
           160.35999999999996,
           435.93999999999994,
           869.2999999999998,
           313.8,
           497.4899999999999,
           975.5100000000001,
           674.5400000000001,
           830.3999999999997,
           656.0200000000001,
           894.3400000000004,
           1130.3999999999999,
           846.9500000000004,
           448.36999999999995,
           303.75999999999993,
           615.3299999999998,
           1776.5100000000011,
           2072.9999999999995,
           477.14000000000004,
           814.44,
           509.5700000000002,
           906.51,
           652.4399999999998,
           4.52,
           86.02000000000001,
           1829.2799999999995,
           637.4299999999998,
           774.0399999999998,
           428.0799999999999,
           1497.0200000000004,
           1271.4299999999998,
           23.93,
           1255.3500000000001,
           1024.98,
           3395.4500000000003,
           327.2300000000001,
           289.90999999999997,
           431.3299999999999,
           12.23,
           20.05,
           672.16,
           155.75,
           1535.7400000000005,
           1027.4999999999998,
           268.10999999999996,
           1151.2399999999996,
           421.51000000000005,
           402.5200000000001,
           50.440000000000005,
           76.23,
           3.74,
           1969.88,
           1036.44,
           565.6600000000001,
           144.79,
           673.4199999999997,
           1002.1400000000002,
           2.1,
           1351.4599999999998,
           1739.19,
           497.05,
           2283.909999999999,
           857.0100000000003,
           885.3299999999998,
           64.87,
           1074.2899999999997,
           836.8200000000003,
           2693.940000000001,
           950.1499999999999,
           2399.04,
           1870.8800000000003,
           313.15,
           310.39000000000004,
           270.8,
           263.0199999999999,
           389.58000000000004,
           1125.5,
           925.0799999999999,
           430.1899999999999,
           836.5199999999999,
           488.70000000000005,
           166.88000000000002,
           19.45,
           346.9000000000001,
           941.83,
           1530.9799999999998,
           1037.9299999999998,
           1255.49,
           706.7400000000001,
           917.04,
           166.28999999999994,
           1581.61,
           1206.5700000000004,
           1644.1200000000001,
           1585.1600000000003,
           3081.5199999999995,
           568.6,
           366.46,
           48.660000000000004,
           100.75,
           1868.7999999999997,
           684.3999999999996,
           2534.7299999999987,
           2066.9300000000007,
           2548.200000000002,
           709.96,
           152.97,
           926.3199999999999,
           424.04,
           418.6799999999999,
           603.01,
           1059.9899999999998,
           507.5400000000001,
           453.1500000000001,
           489.65,
           134.33000000000004,
           1337.6500000000003,
           502.08000000000015,
           1121.2100000000003,
           1552.2399999999993,
           1031.2699999999998,
           1244.02,
           739.8100000000001,
           146.86999999999995,
           11.32,
           496.74,
           774.5299999999997,
           1203.0899999999995,
           1472.4299999999996,
           1293.839999999999,
           1765.9999999999998,
           671.5399999999998,
           65.33,
           970.8000000000002,
           483.37,
           1562.7699999999998,
           886.1500000000004,
           1263.8899999999999,
           992.57,
           427.2899999999999,
           363.48,
           179.48999999999998,
           678.5099999999998,
           225.12999999999997,
           247.55999999999997,
           573.9200000000002,
           365.24,
           615.88,
           383.8700000000001,
           842.7500000000005,
           458.29,
           240.79000000000002,
           15.74,
           1398.85,
           993.1999999999998,
           1964.6299999999992,
           1078.01,
           378.70999999999987,
           377.48,
           1329.88,
           389.4800000000001,
           808.9800000000001,
           2621.3099999999977,
           739.6099999999999,
           761.11,
           9.48,
           444.25999999999993,
           560.9800000000005,
           1723.4600000000003,
           1706.28,
           800.4799999999997,
           1265.0400000000002,
           1156.35,
           596.0500000000001,
           296.30000000000007,
           206.81000000000006,
           816.9000000000002,
           667.0800000000002,
           696.5299999999999,
           625.7099999999999,
           277.73999999999995,
           502.27000000000004,
           471.93000000000006,
           888.4599999999999,
           42.53,
           244.92,
           891.7300000000001,
           724.31,
           1482.8300000000002,
           541.71,
           396.6099999999999,
           641.3199999999999,
           174.96,
           437.4,
           978.6300000000002,
           858.1999999999999,
           303.3499999999999,
           1104.7599999999998,
           927.7199999999998,
           2835.9199999999996,
           14.1,
           424.36000000000007,
           945.1899999999997,
           1464.5100000000004,
           1263.4600000000003,
           1427.97,
           960.3100000000002,
           1114.7699999999995,
           101.39,
           1842.3200000000002,
           591.2400000000002,
           223.57999999999998,
           260.06,
           567.0299999999999,
           337.77000000000004,
           338.21,
           214.31000000000003,
           32.82,
           14.94,
           496.14000000000004,
           516.56,
           1082.77,
           1441.4799999999998,
           1720.8500000000004,
           507.05000000000007,
           32.949999999999996,
           1763.5100000000004,
           14.330000000000002,
           554.5300000000001,
           492.11999999999995,
           549.9599999999999,
           1914.3200000000004,
           1764.8899999999996,
           331.0300000000001,
           1418.179999999999,
           1284.8200000000002,
           249.52,
           950.8200000000005,
           592.3100000000001,
           1106.2300000000002,
           715.1299999999999,
           837.8199999999999,
           804.1399999999998,
           1401.0300000000007,
           1461.1299999999999,
           102.01000000000002,
           433.99,
           550.3600000000001,
           635.01,
           937.9200000000001,
           497.83000000000004,
           471.43999999999994,
           764.9899999999998,
           638.67,
           1103.9700000000003,
           824.81,
           218.31,
           2004.2300000000005,
           535.73,
           585.3799999999998,
           1526.3499999999997,
           2850.76,
           319.3299999999999,
           686.7000000000002,
           1836.6499999999999,
           869.1100000000002,
           461.68,
           44.89,
           407.19,
           866.2199999999998,
           2092.43,
           488.02000000000004,
           2084.0699999999997,
           783.5299999999999,
           1872.9299999999994,
           35.83,
           1972.71,
           43.9,
           2170.38,
           1184.5199999999993,
           433.5899999999999,
           455.49999999999994,
           105.13000000000001,
           477.87999999999994,
           584.4999999999999,
           76.89,
           965.3499999999996,
           727.0600000000001,
           277.86000000000007,
           607.73,
           1417.6799999999998,
           350.37999999999994,
           270.81999999999994,
           89.81000000000002,
           254.9,
           987.0900000000003,
           1362.0800000000006,
           673.3100000000001,
           393.43,
           1512.98,
           525.4200000000001,
           244.81000000000003,
           874.1699999999998,
           871.37,
           1164.0000000000005,
           1277.2099999999996,
           775.5599999999996,
           441.9400000000001,
           396.66,
           608.79,
           576.4300000000001,
           1851.0399999999995,
           1502.8,
           2711.899999999999,
           3459.759999999998,
           184.65999999999994,
           526.5100000000002,
           64.09,
           54.7,
           612.19,
           2065.689999999999,
           2.96,
           701.5600000000003,
           821.1699999999998,
           854.6400000000003,
           493.5600000000001,
           168.66,
           701.1200000000001,
           0.82,
           1008.9200000000002,
           700.8199999999999,
           983.7799999999999,
           1581.4000000000005,
           958.91,
           377.61999999999995,
           76.1,
           728.0100000000001,
           1041.5999999999997,
           2392.0800000000004,
           1342.3799999999994,
           726.7099999999998,
           1680.8500000000006,
           1852.9200000000003,
           320.6000000000001,
           160.65,
           20.69,
           1124.2199999999998,
           1821.7300000000002,
           2414.7900000000004,
           1418.4499999999996,
           1097.03,
           98.02,
           1228.0900000000001,
           2574.069999999999,
           569.32,
           250.86999999999995,
           214.17999999999995,
           369.43999999999994,
           511.3299999999999,
           317.4600000000001,
           331.26,
           491.35,
           146.55999999999997,
           1358.18,
           1744.5200000000007,
           697.9299999999998,
           427.11000000000007,
           2806.3099999999986,
           353.24,
           133.68,
           100.74000000000001,
           1795.71,
           1213.32,
           1110.26,
           1291.5900000000004,
           616.99,
           919.28,
           27.340000000000003,
           966.3900000000002,
           1036.0200000000002,
           1753.3200000000006,
           3245.46,
           2708.1300000000015,
           1291.4999999999995,
           354.1000000000002,
           53.98,
           55.84,
           1475.8399999999997,
           84.78999999999999,
           292.4099999999999,
           762.1899999999999,
           1349.3600000000004,
           292.92999999999995,
           79.3,
           754.2699999999998,
           485.8100000000002,
           1542.37,
           749.2700000000002,
           1383.9600000000003,
           522.3599999999999,
           299.28999999999996,
           3.24,
           900.0600000000001,
           723.1099999999999,
           1471.4899999999993,
           984.6500000000003,
           1233.4699999999998,
           1141,
           138.33,
           916.96,
           812.4100000000001,
           1515.57,
           734.6200000000002,
           1193.0700000000004,
           1420.4699999999996,
           1114.2600000000002,
           138.36999999999998,
           44.14000000000001,
           89.39999999999999,
           328.44,
           643.1800000000002,
           694.6200000000001,
           650.1800000000002,
           580.85,
           250.61999999999998,
           550.45,
           1051.5700000000002,
           1054.3,
           1174.7699999999995,
           1052.25,
           646.9799999999999,
           384.76,
           294.65999999999997,
           436.69999999999993,
           594.8100000000001,
           941.93,
           1224.7999999999997,
           485.86999999999995,
           675.7099999999998,
           761.0100000000004,
           41.779999999999994,
           1924.3800000000015,
           14.85,
           1161.2299999999998,
           1869.7400000000002,
           1098.1599999999996,
           1022.6399999999999,
           697.65,
           654.5800000000002,
           343.8000000000001,
           1158.4999999999995,
           436.96,
           117.78000000000002,
           740.26,
           1049.7899999999997,
           322.52000000000004,
           51.989999999999995,
           806.1,
           1540.4700000000005,
           1856.830000000001,
           99.54,
           1565.4999999999998,
           533.5600000000001,
           484.6399999999999,
           1787.1000000000001,
           1711.7199999999996,
           1271.019999999999,
           1001.77,
           1066.6400000000008,
           829.29,
           1385.8999999999999,
           1624.8600000000004
          ],
          "coloraxis": "coloraxis",
          "symbol": "circle"
         },
         "mode": "markers",
         "name": "",
         "showlegend": false,
         "type": "scattergl",
         "x": [
          64.67,
          342.16999999999996,
          1328.16,
          376.48999999999995,
          1209.5599999999997,
          448.61,
          783.6699999999998,
          829.1099999999999,
          153.95,
          1927.9900000000005,
          1552.56,
          24.1,
          1060.5,
          253.16000000000003,
          337.93,
          1778.9000000000003,
          997.0600000000001,
          34.39,
          617.91,
          1422.8099999999993,
          95.05,
          875.6600000000001,
          818.1500000000001,
          471.4200000000001,
          20.849999999999998,
          875.5300000000002,
          80.05,
          719.0599999999998,
          1294.7199999999993,
          1230.57,
          57.72,
          801.7899999999998,
          2494.959999999998,
          1072.6,
          224.93999999999997,
          169.81,
          184.53,
          911.4500000000002,
          871.6200000000001,
          367.33000000000004,
          231.09,
          1440.8899999999994,
          841.5600000000001,
          2035.93,
          42.6,
          248.06,
          16.62,
          91.86999999999999,
          1330.92,
          229.72000000000006,
          71.44000000000001,
          289.44000000000005,
          615.2800000000003,
          306.50999999999993,
          314.25000000000006,
          953.9799999999999,
          1072.72,
          60.690000000000005,
          0.23,
          16.46,
          686.76,
          575.19,
          1263.3800000000008,
          312.8,
          61.089999999999996,
          765.4299999999998,
          1810.640000000001,
          450.45,
          1651.3600000000004,
          707.4900000000004,
          160.14000000000001,
          333.2199999999999,
          295.65999999999997,
          204.92000000000002,
          1780.8000000000009,
          504.79,
          6.63,
          732.57,
          1213.0800000000004,
          2124.819999999998,
          839.4400000000002,
          742.41,
          63.25,
          647.5100000000001,
          661.5900000000001,
          319.15999999999997,
          994.56,
          289.28,
          822.71,
          2745.659999999999,
          282.8,
          508.62,
          1281.2500000000002,
          79.89,
          536.61,
          71.61999999999999,
          63.980000000000004,
          461.08000000000015,
          1099.8199999999997,
          142.45999999999998,
          1890.809999999999,
          954.56,
          14.440000000000001,
          2430.399999999999,
          1505.2800000000004,
          1317.19,
          981.3700000000003,
          531.1099999999999,
          513.2499999999999,
          667.7100000000002,
          785.48,
          458.14000000000004,
          591.08,
          1229.2899999999993,
          781.99,
          617.3000000000002,
          66.55,
          536.2099999999999,
          722.8600000000001,
          228.32999999999996,
          481.06999999999994,
          549.61,
          694.8600000000002,
          251.42999999999998,
          191.91000000000005,
          2255.9400000000014,
          119.08999999999999,
          199.71000000000004,
          526.0700000000002,
          328.78999999999996,
          333.64,
          545.31,
          2.73,
          533.53,
          1054.3600000000001,
          1384.5600000000006,
          473.64,
          571.6200000000001,
          1212.9100000000003,
          176.42,
          349.7400000000001,
          40.21,
          354.22999999999996,
          640.3999999999999,
          133.62,
          937.1399999999999,
          515.0799999999999,
          1338.5399999999997,
          1056.23,
          1567.3400000000004,
          1132.1500000000003,
          1303.51,
          640.4599999999999,
          503.33000000000004,
          301.17999999999995,
          564.7600000000001,
          403.87000000000006,
          1758.1699999999998,
          177.14000000000004,
          1035.72,
          1861.2599999999989,
          30.010000000000005,
          411.25999999999993,
          155.51000000000002,
          54.47,
          180.36999999999998,
          593.6499999999999,
          20.62,
          763.8000000000001,
          2479.1100000000006,
          1193.32,
          861.2000000000003,
          547.3600000000002,
          1954.4500000000007,
          330.62,
          543.43,
          652.5899999999998,
          1022.84,
          802.39,
          611.9500000000002,
          129.76000000000002,
          970.0499999999998,
          940.1500000000002,
          47.629999999999995,
          1789.57,
          476.89000000000004,
          47.64,
          696.38,
          1176.7599999999995,
          167.84,
          1165.2699999999998,
          338.30000000000007,
          131.37999999999997,
          928.13,
          1480.3200000000002,
          1828.7099999999996,
          717.8000000000001,
          55.60000000000001,
          1115.47,
          524.11,
          609.3299999999997,
          88.94,
          846.75,
          814.2300000000002,
          1138.2499999999995,
          1160.5600000000004,
          473.9700000000001,
          729.8799999999998,
          1980.25,
          414.44000000000005,
          398.53999999999996,
          968.9200000000001,
          393.67999999999995,
          1794.2999999999995,
          850.14,
          661.99,
          956.59,
          1229.3199999999997,
          11.09,
          1074.2400000000002,
          1687.6200000000001,
          175.53,
          562.33,
          493.0299999999999,
          679.3500000000001,
          962.85,
          2.55,
          1632.03,
          182.70999999999995,
          392.3899999999999,
          2617.43,
          496.0699999999998,
          292.3099999999999,
          317.7900000000001,
          406.7799999999999,
          299.1700000000001,
          564.7300000000001,
          521.84,
          500.22,
          1592.9599999999998,
          295.7,
          1023.1100000000002,
          931.1299999999997,
          254.41,
          913.88,
          367.4899999999999,
          118.17999999999999,
          395.48,
          953.4,
          313.61,
          217.34000000000003,
          1716.1499999999996,
          1677.57,
          1076.2799999999997,
          1334.0900000000004,
          873.5000000000001,
          812.42,
          17.14,
          47.31,
          479.51000000000005,
          994.31,
          1523.8600000000001,
          1092.1599999999992,
          212.09000000000003,
          611.5000000000001,
          1333.1399999999999,
          266.95,
          1175.7299999999998,
          629.05,
          15.13,
          221.70999999999995,
          555.4300000000001,
          451.50000000000006,
          1242.6799999999998,
          584.5500000000001,
          41.5,
          778.5699999999999,
          1269.4900000000005,
          671.9399999999998,
          1004.3000000000003,
          893.0499999999998,
          465.1000000000001,
          632.5999999999999,
          381.8700000000001,
          1634.49,
          797.0799999999999,
          1037.3700000000001,
          1995.21,
          45.7,
          1186.77,
          1659.8500000000006,
          105.38999999999999,
          1383.5400000000004,
          323.48999999999995,
          652.01,
          928.8399999999999,
          276.3,
          172.80000000000004,
          1357.1999999999994,
          1289.3000000000004,
          1016.65,
          1497.2699999999995,
          334.11000000000007,
          2489.0800000000013,
          485.8400000000001,
          123.02,
          45.49,
          537.3700000000001,
          1247.9199999999996,
          1116.5500000000002,
          1075.7299999999996,
          433.16999999999996,
          2407.150000000001,
          1213.1000000000004,
          2187.1400000000003,
          1472.35,
          122.65999999999998,
          1158.2100000000005,
          470.62000000000006,
          1202.1599999999996,
          1406.6200000000003,
          694.9799999999999,
          390.4300000000001,
          1330.2,
          1179.82,
          2147.460000000001,
          1544.0400000000002,
          475.4299999999999,
          2876.4200000000014,
          951.5300000000003,
          1316.56,
          145.06,
          1704.2600000000004,
          441.48,
          1033.3700000000001,
          1836.12,
          606.2799999999997,
          2591.4500000000016,
          650.0600000000002,
          34.77,
          762.2099999999999,
          654.95,
          314.22999999999996,
          1176.0400000000002,
          1743.8700000000003,
          550.3000000000001,
          1005.8599999999996,
          1482.73,
          6.66,
          1558.7700000000002,
          2499.320000000001,
          1039.4299999999998,
          882.52,
          338.79,
          332.89000000000004,
          928.87,
          2348.4500000000007,
          1.02,
          1507.0799999999992,
          155.95,
          797.4300000000002,
          1188.4599999999998,
          683.8799999999997,
          1000.42,
          1192.04,
          1591.7000000000003,
          912.1600000000001,
          1078.6799999999998,
          991.61,
          1296.9599999999996,
          692.7299999999999,
          51.239999999999995,
          819.5299999999999,
          1402.07,
          39.160000000000004,
          679.2300000000001,
          297.43000000000006,
          140.94000000000005,
          1121.1699999999996,
          1035.0900000000001,
          29.35,
          594.77,
          802.2699999999998,
          1794.09,
          1366.8099999999997,
          1189.6,
          1387.4899999999989,
          812.2799999999999,
          102.55,
          21.59,
          565.19,
          765.8599999999997,
          2908.1699999999996,
          951.7999999999998,
          703.4899999999999,
          1624.27,
          574.8199999999999,
          17.47,
          1838.79,
          525.8100000000002,
          575.6199999999999,
          2331.7,
          361.41,
          593.57,
          2340.42,
          1082.2899999999997,
          65.4,
          1213.9299999999998,
          1387.8800000000008,
          2231.3399999999992,
          2198.3399999999997,
          724.7700000000002,
          626.6800000000003,
          599.54,
          896.24,
          29.650000000000002,
          1569.9699999999991,
          1064.6000000000001,
          1618.179999999999,
          1438.7199999999998,
          837.0700000000006,
          806.1200000000002,
          2504.51,
          189.49999999999997,
          911.7000000000004,
          3.18,
          3.26,
          528.8299999999999,
          233.67000000000007,
          563.28,
          1246.5799999999997,
          237.61,
          1040.6199999999997,
          364.64,
          885.71,
          20.85,
          351.89,
          652.5200000000001,
          1287.3200000000002,
          2504.5600000000004,
          257.81,
          1398.3400000000004,
          335.65000000000003,
          297.68000000000006,
          753.3500000000001,
          1520.9399999999994,
          627.6199999999999,
          1524.0700000000004,
          1684.2699999999995,
          1397.88,
          866.0399999999997,
          120.16,
          27.93,
          2930.6499999999996,
          1947.64,
          1280.1200000000003,
          2319.9300000000007,
          871.3299999999999,
          863.29,
          237.02999999999997,
          257.33000000000004,
          706.2099999999999,
          558.16,
          832.9700000000004,
          1049.4500000000003,
          650.9000000000001,
          907.2900000000001,
          545.17,
          1204.9199999999998,
          76.30000000000001,
          432.19,
          663.5700000000002,
          1003.1299999999998,
          486.9100000000001,
          998.2799999999997,
          1714.5700000000008,
          605.1099999999999,
          383.23,
          264.71,
          1128.2600000000002,
          1120.78,
          2522.7600000000007,
          1681.7599999999993,
          1580.17,
          1632.7199999999998,
          5.66,
          1197.6699999999994,
          1053.9900000000005,
          1158.4899999999996,
          987.7499999999999,
          1424.0599999999997,
          605.2799999999997,
          606.0800000000002,
          311.71,
          722.2500000000001,
          1147.4500000000005,
          689.1,
          372.2399999999999,
          257.53,
          645.9300000000003,
          443.51000000000005,
          328.3999999999999,
          49.6,
          655.3400000000003,
          26.23,
          1212.8599999999994,
          900.9099999999997,
          868.6000000000001,
          936.6300000000001,
          1333.9600000000005,
          165.82000000000005,
          2.14,
          1301.5700000000006,
          928.8300000000002,
          702.25,
          1764.92,
          1191.1100000000004,
          1103.92,
          202.1,
          840.6100000000001,
          1440,
          1390.1200000000003,
          1018.3099999999998,
          1401.6899999999994,
          2161.06,
          1306.2099999999996,
          1308.1499999999999,
          107.02000000000001,
          45.24,
          845.7499999999998,
          543.1699999999997,
          840.9800000000001,
          149.03999999999996,
          269.14,
          157.40999999999997,
          1342.2099999999996,
          390.6,
          651.9100000000001,
          1217.95,
          990.67,
          166.09999999999997,
          666.7199999999999,
          1846.7200000000005,
          461.02000000000004,
          1606.6999999999994,
          125.39,
          440.3800000000001,
          1181.1499999999999,
          1024.6600000000003,
          1377.9800000000002,
          1602.0100000000002,
          2126.89,
          547.0499999999998,
          152.85999999999999,
          1683.76,
          187.73999999999998,
          341.98,
          1806.039999999999,
          1155.4299999999998,
          1508.100000000001,
          1295.3700000000003,
          1301.190000000001,
          123.59,
          1560.8999999999996,
          306.35999999999996,
          471.81000000000006,
          368.32000000000005,
          63.47,
          152.16000000000003,
          380.13,
          63.39000000000001,
          6.9,
          426.83,
          1001.1400000000001,
          632.8499999999999,
          1092.9,
          1164.6500000000003,
          1497.28,
          117.91999999999999,
          2880.36,
          31.73,
          1144.0500000000002,
          733.2299999999999,
          1022.8600000000001,
          1000.7700000000002,
          627.1700000000002,
          293.9000000000001,
          1210.9799999999998,
          1723.8599999999992,
          733.43,
          1145.3300000000006,
          2066.6200000000003,
          1209.77,
          582.6999999999999,
          296.6199999999999,
          2791.630000000001,
          1633.2300000000002,
          1146.8700000000003,
          160.35999999999996,
          435.93999999999994,
          869.2999999999998,
          313.8,
          497.4899999999999,
          975.5100000000001,
          674.5400000000001,
          830.3999999999997,
          656.0200000000001,
          894.3400000000004,
          1130.3999999999999,
          846.9500000000004,
          448.36999999999995,
          303.75999999999993,
          615.3299999999998,
          1776.5100000000011,
          2072.9999999999995,
          477.14000000000004,
          814.44,
          509.5700000000002,
          906.51,
          652.4399999999998,
          4.52,
          86.02000000000001,
          1829.2799999999995,
          637.4299999999998,
          774.0399999999998,
          428.0799999999999,
          1497.0200000000004,
          1271.4299999999998,
          23.93,
          1255.3500000000001,
          1024.98,
          3395.4500000000003,
          327.2300000000001,
          289.90999999999997,
          431.3299999999999,
          12.23,
          20.05,
          672.16,
          155.75,
          1535.7400000000005,
          1027.4999999999998,
          268.10999999999996,
          1151.2399999999996,
          421.51000000000005,
          402.5200000000001,
          50.440000000000005,
          76.23,
          3.74,
          1969.88,
          1036.44,
          565.6600000000001,
          144.79,
          673.4199999999997,
          1002.1400000000002,
          2.1,
          1351.4599999999998,
          1739.19,
          497.05,
          2283.909999999999,
          857.0100000000003,
          885.3299999999998,
          64.87,
          1074.2899999999997,
          836.8200000000003,
          2693.940000000001,
          950.1499999999999,
          2399.04,
          1870.8800000000003,
          313.15,
          310.39000000000004,
          270.8,
          263.0199999999999,
          389.58000000000004,
          1125.5,
          925.0799999999999,
          430.1899999999999,
          836.5199999999999,
          488.70000000000005,
          166.88000000000002,
          19.45,
          346.9000000000001,
          941.83,
          1530.9799999999998,
          1037.9299999999998,
          1255.49,
          706.7400000000001,
          917.04,
          166.28999999999994,
          1581.61,
          1206.5700000000004,
          1644.1200000000001,
          1585.1600000000003,
          3081.5199999999995,
          568.6,
          366.46,
          48.660000000000004,
          100.75,
          1868.7999999999997,
          684.3999999999996,
          2534.7299999999987,
          2066.9300000000007,
          2548.200000000002,
          709.96,
          152.97,
          926.3199999999999,
          424.04,
          418.6799999999999,
          603.01,
          1059.9899999999998,
          507.5400000000001,
          453.1500000000001,
          489.65,
          134.33000000000004,
          1337.6500000000003,
          502.08000000000015,
          1121.2100000000003,
          1552.2399999999993,
          1031.2699999999998,
          1244.02,
          739.8100000000001,
          146.86999999999995,
          11.32,
          496.74,
          774.5299999999997,
          1203.0899999999995,
          1472.4299999999996,
          1293.839999999999,
          1765.9999999999998,
          671.5399999999998,
          65.33,
          970.8000000000002,
          483.37,
          1562.7699999999998,
          886.1500000000004,
          1263.8899999999999,
          992.57,
          427.2899999999999,
          363.48,
          179.48999999999998,
          678.5099999999998,
          225.12999999999997,
          247.55999999999997,
          573.9200000000002,
          365.24,
          615.88,
          383.8700000000001,
          842.7500000000005,
          458.29,
          240.79000000000002,
          15.74,
          1398.85,
          993.1999999999998,
          1964.6299999999992,
          1078.01,
          378.70999999999987,
          377.48,
          1329.88,
          389.4800000000001,
          808.9800000000001,
          2621.3099999999977,
          739.6099999999999,
          761.11,
          9.48,
          444.25999999999993,
          560.9800000000005,
          1723.4600000000003,
          1706.28,
          800.4799999999997,
          1265.0400000000002,
          1156.35,
          596.0500000000001,
          296.30000000000007,
          206.81000000000006,
          816.9000000000002,
          667.0800000000002,
          696.5299999999999,
          625.7099999999999,
          277.73999999999995,
          502.27000000000004,
          471.93000000000006,
          888.4599999999999,
          42.53,
          244.92,
          891.7300000000001,
          724.31,
          1482.8300000000002,
          541.71,
          396.6099999999999,
          641.3199999999999,
          174.96,
          437.4,
          978.6300000000002,
          858.1999999999999,
          303.3499999999999,
          1104.7599999999998,
          927.7199999999998,
          2835.9199999999996,
          14.1,
          424.36000000000007,
          945.1899999999997,
          1464.5100000000004,
          1263.4600000000003,
          1427.97,
          960.3100000000002,
          1114.7699999999995,
          101.39,
          1842.3200000000002,
          591.2400000000002,
          223.57999999999998,
          260.06,
          567.0299999999999,
          337.77000000000004,
          338.21,
          214.31000000000003,
          32.82,
          14.94,
          496.14000000000004,
          516.56,
          1082.77,
          1441.4799999999998,
          1720.8500000000004,
          507.05000000000007,
          32.949999999999996,
          1763.5100000000004,
          14.330000000000002,
          554.5300000000001,
          492.11999999999995,
          549.9599999999999,
          1914.3200000000004,
          1764.8899999999996,
          331.0300000000001,
          1418.179999999999,
          1284.8200000000002,
          249.52,
          950.8200000000005,
          592.3100000000001,
          1106.2300000000002,
          715.1299999999999,
          837.8199999999999,
          804.1399999999998,
          1401.0300000000007,
          1461.1299999999999,
          102.01000000000002,
          433.99,
          550.3600000000001,
          635.01,
          937.9200000000001,
          497.83000000000004,
          471.43999999999994,
          764.9899999999998,
          638.67,
          1103.9700000000003,
          824.81,
          218.31,
          2004.2300000000005,
          535.73,
          585.3799999999998,
          1526.3499999999997,
          2850.76,
          319.3299999999999,
          686.7000000000002,
          1836.6499999999999,
          869.1100000000002,
          461.68,
          44.89,
          407.19,
          866.2199999999998,
          2092.43,
          488.02000000000004,
          2084.0699999999997,
          783.5299999999999,
          1872.9299999999994,
          35.83,
          1972.71,
          43.9,
          2170.38,
          1184.5199999999993,
          433.5899999999999,
          455.49999999999994,
          105.13000000000001,
          477.87999999999994,
          584.4999999999999,
          76.89,
          965.3499999999996,
          727.0600000000001,
          277.86000000000007,
          607.73,
          1417.6799999999998,
          350.37999999999994,
          270.81999999999994,
          89.81000000000002,
          254.9,
          987.0900000000003,
          1362.0800000000006,
          673.3100000000001,
          393.43,
          1512.98,
          525.4200000000001,
          244.81000000000003,
          874.1699999999998,
          871.37,
          1164.0000000000005,
          1277.2099999999996,
          775.5599999999996,
          441.9400000000001,
          396.66,
          608.79,
          576.4300000000001,
          1851.0399999999995,
          1502.8,
          2711.899999999999,
          3459.759999999998,
          184.65999999999994,
          526.5100000000002,
          64.09,
          54.7,
          612.19,
          2065.689999999999,
          2.96,
          701.5600000000003,
          821.1699999999998,
          854.6400000000003,
          493.5600000000001,
          168.66,
          701.1200000000001,
          0.82,
          1008.9200000000002,
          700.8199999999999,
          983.7799999999999,
          1581.4000000000005,
          958.91,
          377.61999999999995,
          76.1,
          728.0100000000001,
          1041.5999999999997,
          2392.0800000000004,
          1342.3799999999994,
          726.7099999999998,
          1680.8500000000006,
          1852.9200000000003,
          320.6000000000001,
          160.65,
          20.69,
          1124.2199999999998,
          1821.7300000000002,
          2414.7900000000004,
          1418.4499999999996,
          1097.03,
          98.02,
          1228.0900000000001,
          2574.069999999999,
          569.32,
          250.86999999999995,
          214.17999999999995,
          369.43999999999994,
          511.3299999999999,
          317.4600000000001,
          331.26,
          491.35,
          146.55999999999997,
          1358.18,
          1744.5200000000007,
          697.9299999999998,
          427.11000000000007,
          2806.3099999999986,
          353.24,
          133.68,
          100.74000000000001,
          1795.71,
          1213.32,
          1110.26,
          1291.5900000000004,
          616.99,
          919.28,
          27.340000000000003,
          966.3900000000002,
          1036.0200000000002,
          1753.3200000000006,
          3245.46,
          2708.1300000000015,
          1291.4999999999995,
          354.1000000000002,
          53.98,
          55.84,
          1475.8399999999997,
          84.78999999999999,
          292.4099999999999,
          762.1899999999999,
          1349.3600000000004,
          292.92999999999995,
          79.3,
          754.2699999999998,
          485.8100000000002,
          1542.37,
          749.2700000000002,
          1383.9600000000003,
          522.3599999999999,
          299.28999999999996,
          3.24,
          900.0600000000001,
          723.1099999999999,
          1471.4899999999993,
          984.6500000000003,
          1233.4699999999998,
          1141,
          138.33,
          916.96,
          812.4100000000001,
          1515.57,
          734.6200000000002,
          1193.0700000000004,
          1420.4699999999996,
          1114.2600000000002,
          138.36999999999998,
          44.14000000000001,
          89.39999999999999,
          328.44,
          643.1800000000002,
          694.6200000000001,
          650.1800000000002,
          580.85,
          250.61999999999998,
          550.45,
          1051.5700000000002,
          1054.3,
          1174.7699999999995,
          1052.25,
          646.9799999999999,
          384.76,
          294.65999999999997,
          436.69999999999993,
          594.8100000000001,
          941.93,
          1224.7999999999997,
          485.86999999999995,
          675.7099999999998,
          761.0100000000004,
          41.779999999999994,
          1924.3800000000015,
          14.85,
          1161.2299999999998,
          1869.7400000000002,
          1098.1599999999996,
          1022.6399999999999,
          697.65,
          654.5800000000002,
          343.8000000000001,
          1158.4999999999995,
          436.96,
          117.78000000000002,
          740.26,
          1049.7899999999997,
          322.52000000000004,
          51.989999999999995,
          806.1,
          1540.4700000000005,
          1856.830000000001,
          99.54,
          1565.4999999999998,
          533.5600000000001,
          484.6399999999999,
          1787.1000000000001,
          1711.7199999999996,
          1271.019999999999,
          1001.77,
          1066.6400000000008,
          829.29,
          1385.8999999999999,
          1624.8600000000004
         ],
         "xaxis": "x",
         "y": [
          808,
          2457,
          12567,
          2586,
          11481,
          3844,
          6767,
          7252,
          1625,
          18668,
          14118,
          314,
          7712,
          4147,
          8923,
          9275,
          12518,
          389,
          5344,
          14364,
          597,
          8691,
          7295,
          4502,
          366,
          9480,
          879,
          5259,
          11351,
          10667,
          814,
          8660,
          19275,
          9014,
          2809,
          1866,
          1244,
          5725,
          7513,
          1926,
          1984,
          13621,
          8180,
          18652,
          615,
          3664,
          221,
          835,
          10265,
          2998,
          1139,
          3725,
          5709,
          4149,
          2596,
          10387,
          10389,
          623,
          3,
          135,
          4674,
          5966,
          10266,
          3772,
          1072,
          10297,
          17180,
          1556,
          12458,
          7122,
          1799,
          3866,
          3438,
          1982,
          16748,
          4856,
          38,
          6336,
          11287,
          13235,
          10247,
          6295,
          1008,
          9873,
          6802,
          2502,
          9530,
          3385,
          8099,
          36833,
          3842,
          4290,
          13339,
          815,
          4579,
          723,
          367,
          5018,
          10245,
          2022,
          13282,
          11579,
          250,
          12158,
          14316,
          6793,
          11863,
          4108,
          5828,
          5474,
          13153,
          3269,
          7858,
          10175,
          5848,
          6454,
          1008,
          2933,
          4548,
          2821,
          3161,
          5228,
          7410,
          1368,
          2025,
          24404,
          797,
          2631,
          2870,
          4637,
          4012,
          5519,
          38,
          5228,
          8970,
          14073,
          4660,
          4234,
          10225,
          1657,
          3913,
          511,
          3650,
          9045,
          2542,
          12389,
          5592,
          14903,
          11953,
          15574,
          10008,
          11631,
          10723,
          4606,
          2317,
          6167,
          4706,
          17672,
          2086,
          6723,
          18487,
          282,
          3450,
          959,
          626,
          2208,
          5684,
          178,
          6683,
          20851,
          11087,
          9911,
          5843,
          22904,
          2618,
          4977,
          2904,
          10825,
          7133,
          9368,
          1388,
          10732,
          8739,
          820,
          16797,
          5662,
          397,
          8252,
          9765,
          1395,
          11515,
          3104,
          2078,
          9362,
          16412,
          12278,
          6985,
          545,
          8731,
          5918,
          7147,
          1148,
          8815,
          8492,
          7338,
          15368,
          4669,
          5125,
          11699,
          3699,
          4020,
          8466,
          6396,
          11202,
          7109,
          4382,
          9292,
          13642,
          96,
          10643,
          11723,
          2177,
          2321,
          4857,
          10823,
          9395,
          34,
          8978,
          2770,
          5036,
          28560,
          4078,
          3599,
          4529,
          3457,
          3254,
          6782,
          3935,
          5110,
          12670,
          3305,
          8867,
          12353,
          2456,
          6297,
          3683,
          1170,
          3484,
          8661,
          3240,
          2586,
          15656,
          15475,
          9466,
          15566,
          8743,
          8259,
          204,
          382,
          5854,
          10523,
          13403,
          9035,
          1507,
          7064,
          11845,
          1546,
          12187,
          8383,
          157,
          4086,
          3762,
          3612,
          11957,
          5472,
          693,
          6632,
          10978,
          11422,
          7408,
          9368,
          3303,
          6597,
          5680,
          11490,
          8286,
          9507,
          15741,
          365,
          7365,
          20912,
          1365,
          11612,
          11259,
          7286,
          10219,
          1995,
          1712,
          10954,
          9885,
          12376,
          11095,
          3216,
          15643,
          5791,
          1204,
          445,
          5293,
          10908,
          11975,
          9432,
          4221,
          22434,
          26326,
          19734,
          16270,
          1414,
          15415,
          3972,
          7506,
          18446,
          6050,
          3409,
          14181,
          12946,
          13805,
          17448,
          5795,
          18218,
          8916,
          8886,
          1606,
          19052,
          5128,
          6756,
          17986,
          10811,
          15751,
          6785,
          99,
          8926,
          6952,
          3029,
          6347,
          10820,
          5713,
          12374,
          14408,
          73,
          16334,
          20783,
          12467,
          8287,
          3655,
          2498,
          9007,
          20570,
          52,
          12674,
          2432,
          7627,
          8290,
          7410,
          6649,
          9334,
          9789,
          7429,
          11565,
          8767,
          16837,
          6511,
          1058,
          9903,
          13704,
          383,
          4551,
          5124,
          2424,
          10100,
          6237,
          450,
          5903,
          9095,
          15471,
          14510,
          10235,
          12885,
          7619,
          997,
          636,
          6464,
          8156,
          21924,
          10177,
          4810,
          16155,
          5394,
          480,
          16261,
          4944,
          8822,
          18504,
          3486,
          6438,
          23932,
          11004,
          944,
          12805,
          11739,
          19650,
          18100,
          7544,
          6534,
          5184,
          8453,
          437,
          15276,
          10503,
          18111,
          17036,
          4576,
          8936,
          18006,
          2585,
          7107,
          46,
          130,
          4972,
          3512,
          4670,
          11327,
          3052,
          10058,
          3540,
          6774,
          312,
          3522,
          6576,
          9580,
          18579,
          1939,
          8230,
          2028,
          2603,
          5724,
          15314,
          6395,
          13355,
          12952,
          9799,
          6027,
          1156,
          346,
          25619,
          19744,
          14356,
          16507,
          9431,
          6281,
          2040,
          2585,
          4604,
          4814,
          5786,
          6628,
          5569,
          11488,
          6252,
          9263,
          1176,
          4543,
          6950,
          10355,
          4947,
          6869,
          17452,
          3034,
          3906,
          2440,
          14006,
          9337,
          17719,
          15245,
          20744,
          14453,
          99,
          9139,
          12537,
          10204,
          10065,
          14350,
          5519,
          4575,
          2281,
          7603,
          10347,
          5439,
          3597,
          1826,
          7148,
          6027,
          1728,
          493,
          6554,
          194,
          10568,
          8747,
          6110,
          6560,
          13957,
          934,
          27,
          10981,
          6932,
          6844,
          18850,
          10738,
          9841,
          1842,
          8230,
          15016,
          17730,
          10495,
          15133,
          20258,
          15082,
          11396,
          1385,
          150,
          8371,
          4987,
          9334,
          1260,
          3845,
          1161,
          13262,
          3828,
          4041,
          14554,
          7756,
          1569,
          8160,
          14930,
          4010,
          13217,
          1241,
          3626,
          7017,
          10727,
          13433,
          16140,
          19201,
          5409,
          1262,
          20816,
          1364,
          4260,
          14030,
          8007,
          16250,
          7729,
          14193,
          2137,
          23020,
          2310,
          6565,
          3971,
          631,
          1518,
          4614,
          540,
          35,
          5029,
          13407,
          3524,
          8386,
          8984,
          14496,
          1087,
          20471,
          354,
          4969,
          5670,
          6625,
          9296,
          3206,
          2467,
          16870,
          16185,
          5984,
          14585,
          14107,
          14063,
          6544,
          3740,
          13733,
          13439,
          13432,
          932,
          4540,
          7588,
          2303,
          5538,
          12447,
          30115,
          7050,
          5907,
          8079,
          7220,
          9238,
          5272,
          2136,
          5519,
          14120,
          20793,
          5443,
          6273,
          4891,
          9053,
          6422,
          24,
          750,
          17580,
          6126,
          8291,
          5184,
          12940,
          13519,
          178,
          12479,
          7511,
          33937,
          2054,
          3370,
          5774,
          156,
          176,
          7331,
          972,
          11463,
          8509,
          2860,
          7688,
          5935,
          3039,
          856,
          833,
          58,
          15132,
          10298,
          4767,
          1636,
          7929,
          10154,
          34,
          13952,
          16206,
          5123,
          21464,
          8884,
          11177,
          962,
          9876,
          7552,
          24525,
          10806,
          22427,
          15153,
          2288,
          3578,
          2253,
          2678,
          4249,
          17841,
          8829,
          4138,
          6559,
          5388,
          1291,
          169,
          4217,
          8529,
          13716,
          10391,
          7977,
          7689,
          7854,
          3032,
          17934,
          11056,
          13651,
          17703,
          23851,
          7524,
          4863,
          412,
          976,
          16071,
          5284,
          21879,
          20079,
          22233,
          8486,
          1383,
          11124,
          4484,
          4678,
          4172,
          10680,
          4298,
          4665,
          4703,
          1608,
          10646,
          6140,
          10405,
          8720,
          11011,
          11389,
          6104,
          1753,
          90,
          2996,
          6852,
          14647,
          9811,
          14296,
          14393,
          7272,
          155,
          10369,
          5409,
          12839,
          9797,
          13003,
          10488,
          3498,
          3563,
          1494,
          6087,
          2648,
          2872,
          8366,
          3879,
          5869,
          2699,
          7064,
          6674,
          2691,
          226,
          9832,
          9610,
          19197,
          11805,
          3666,
          3077,
          14719,
          5181,
          9685,
          20914,
          9068,
          5307,
          164,
          4954,
          6704,
          14937,
          9526,
          7021,
          15233,
          12809,
          5546,
          2334,
          2163,
          9670,
          5145,
          4355,
          4380,
          1928,
          5068,
          3938,
          9345,
          772,
          2670,
          8134,
          6533,
          8570,
          4887,
          3134,
          5457,
          2962,
          3861,
          8516,
          8699,
          3313,
          10803,
          10335,
          23864,
          414,
          4633,
          8751,
          15582,
          8507,
          13102,
          6811,
          10613,
          606,
          15339,
          3983,
          3226,
          2210,
          5867,
          3960,
          1362,
          1816,
          193,
          166,
          3334,
          3658,
          10474,
          9346,
          22701,
          5390,
          331,
          24121,
          102,
          5629,
          4492,
          5166,
          19845,
          15629,
          4394,
          15319,
          14082,
          4550,
          11083,
          3728,
          10786,
          7938,
          3372,
          9786,
          15732,
          15831,
          1192,
          3514,
          8422,
          3394,
          3308,
          5847,
          3266,
          6930,
          5026,
          9520,
          9209,
          3046,
          12592,
          3840,
          5899,
          15916,
          22754,
          12337,
          6363,
          15506,
          9631,
          2598,
          375,
          6373,
          9277,
          18284,
          4803,
          17692,
          7383,
          18120,
          385,
          16206,
          539,
          21570,
          11340,
          5422,
          3415,
          1177,
          4104,
          5316,
          856,
          8996,
          3762,
          2087,
          5789,
          10915,
          5965,
          2946,
          1365,
          1269,
          9252,
          12470,
          7918,
          4226,
          11300,
          8122,
          2259,
          9248,
          8480,
          10444,
          17361,
          8069,
          5814,
          2370,
          6403,
          6164,
          20901,
          14836,
          16946,
          36434,
          2166,
          9423,
          1291,
          625,
          7572,
          15506,
          30,
          7167,
          8678,
          8437,
          6085,
          2222,
          5867,
          11,
          11795,
          6653,
          9845,
          17976,
          9804,
          4140,
          979,
          5397,
          10459,
          21352,
          15353,
          11330,
          11987,
          17293,
          7346,
          1591,
          303,
          10680,
          14318,
          15141,
          15328,
          10282,
          1208,
          7629,
          12538,
          2418,
          3049,
          1923,
          4261,
          4451,
          3556,
          3912,
          7615,
          2104,
          9207,
          17001,
          7197,
          4775,
          16550,
          3211,
          1349,
          717,
          16824,
          11950,
          11437,
          14806,
          7037,
          5778,
          273,
          8589,
          9289,
          13773,
          29928,
          18803,
          14817,
          3553,
          910,
          876,
          9020,
          1041,
          2951,
          7351,
          10830,
          3070,
          428,
          3899,
          9659,
          14582,
          8333,
          12080,
          5628,
          1916,
          43,
          7272,
          7615,
          15276,
          9015,
          11747,
          7434,
          998,
          5023,
          6812,
          12816,
          8444,
          10124,
          15183,
          10908,
          1869,
          426,
          455,
          3631,
          6867,
          5762,
          3310,
          4670,
          1493,
          5723,
          10622,
          8638,
          5712,
          12985,
          5300,
          3536,
          4605,
          4205,
          5248,
          5762,
          8906,
          7039,
          8131,
          6034,
          669,
          17000,
          134,
          12018,
          13944,
          6168,
          9339,
          7110,
          6702,
          4825,
          14291,
          7643,
          1246,
          7800,
          7747,
          3553,
          367,
          8410,
          17060,
          15938,
          476,
          6719,
          6624,
          5279,
          14606,
          9424,
          7905,
          7438,
          9273,
          7741,
          10667,
          14179
         ],
         "yaxis": "y"
        }
       ],
       "layout": {
        "coloraxis": {
         "colorbar": {
          "title": {
           "text": "shipping_cost"
          }
         },
         "colorscale": [
          [
           0,
           "#0d0887"
          ],
          [
           0.1111111111111111,
           "#46039f"
          ],
          [
           0.2222222222222222,
           "#7201a8"
          ],
          [
           0.3333333333333333,
           "#9c179e"
          ],
          [
           0.4444444444444444,
           "#bd3786"
          ],
          [
           0.5555555555555556,
           "#d8576b"
          ],
          [
           0.6666666666666666,
           "#ed7953"
          ],
          [
           0.7777777777777778,
           "#fb9f3a"
          ],
          [
           0.8888888888888888,
           "#fdca26"
          ],
          [
           1,
           "#f0f921"
          ]
         ]
        },
        "legend": {
         "tracegroupgap": 0
        },
        "margin": {
         "t": 60
        },
        "template": {
         "data": {
          "bar": [
           {
            "error_x": {
             "color": "#2a3f5f"
            },
            "error_y": {
             "color": "#2a3f5f"
            },
            "marker": {
             "line": {
              "color": "#E5ECF6",
              "width": 0.5
             },
             "pattern": {
              "fillmode": "overlay",
              "size": 10,
              "solidity": 0.2
             }
            },
            "type": "bar"
           }
          ],
          "barpolar": [
           {
            "marker": {
             "line": {
              "color": "#E5ECF6",
              "width": 0.5
             },
             "pattern": {
              "fillmode": "overlay",
              "size": 10,
              "solidity": 0.2
             }
            },
            "type": "barpolar"
           }
          ],
          "carpet": [
           {
            "aaxis": {
             "endlinecolor": "#2a3f5f",
             "gridcolor": "white",
             "linecolor": "white",
             "minorgridcolor": "white",
             "startlinecolor": "#2a3f5f"
            },
            "baxis": {
             "endlinecolor": "#2a3f5f",
             "gridcolor": "white",
             "linecolor": "white",
             "minorgridcolor": "white",
             "startlinecolor": "#2a3f5f"
            },
            "type": "carpet"
           }
          ],
          "choropleth": [
           {
            "colorbar": {
             "outlinewidth": 0,
             "ticks": ""
            },
            "type": "choropleth"
           }
          ],
          "contour": [
           {
            "colorbar": {
             "outlinewidth": 0,
             "ticks": ""
            },
            "colorscale": [
             [
              0,
              "#0d0887"
             ],
             [
              0.1111111111111111,
              "#46039f"
             ],
             [
              0.2222222222222222,
              "#7201a8"
             ],
             [
              0.3333333333333333,
              "#9c179e"
             ],
             [
              0.4444444444444444,
              "#bd3786"
             ],
             [
              0.5555555555555556,
              "#d8576b"
             ],
             [
              0.6666666666666666,
              "#ed7953"
             ],
             [
              0.7777777777777778,
              "#fb9f3a"
             ],
             [
              0.8888888888888888,
              "#fdca26"
             ],
             [
              1,
              "#f0f921"
             ]
            ],
            "type": "contour"
           }
          ],
          "contourcarpet": [
           {
            "colorbar": {
             "outlinewidth": 0,
             "ticks": ""
            },
            "type": "contourcarpet"
           }
          ],
          "heatmap": [
           {
            "colorbar": {
             "outlinewidth": 0,
             "ticks": ""
            },
            "colorscale": [
             [
              0,
              "#0d0887"
             ],
             [
              0.1111111111111111,
              "#46039f"
             ],
             [
              0.2222222222222222,
              "#7201a8"
             ],
             [
              0.3333333333333333,
              "#9c179e"
             ],
             [
              0.4444444444444444,
              "#bd3786"
             ],
             [
              0.5555555555555556,
              "#d8576b"
             ],
             [
              0.6666666666666666,
              "#ed7953"
             ],
             [
              0.7777777777777778,
              "#fb9f3a"
             ],
             [
              0.8888888888888888,
              "#fdca26"
             ],
             [
              1,
              "#f0f921"
             ]
            ],
            "type": "heatmap"
           }
          ],
          "heatmapgl": [
           {
            "colorbar": {
             "outlinewidth": 0,
             "ticks": ""
            },
            "colorscale": [
             [
              0,
              "#0d0887"
             ],
             [
              0.1111111111111111,
              "#46039f"
             ],
             [
              0.2222222222222222,
              "#7201a8"
             ],
             [
              0.3333333333333333,
              "#9c179e"
             ],
             [
              0.4444444444444444,
              "#bd3786"
             ],
             [
              0.5555555555555556,
              "#d8576b"
             ],
             [
              0.6666666666666666,
              "#ed7953"
             ],
             [
              0.7777777777777778,
              "#fb9f3a"
             ],
             [
              0.8888888888888888,
              "#fdca26"
             ],
             [
              1,
              "#f0f921"
             ]
            ],
            "type": "heatmapgl"
           }
          ],
          "histogram": [
           {
            "marker": {
             "pattern": {
              "fillmode": "overlay",
              "size": 10,
              "solidity": 0.2
             }
            },
            "type": "histogram"
           }
          ],
          "histogram2d": [
           {
            "colorbar": {
             "outlinewidth": 0,
             "ticks": ""
            },
            "colorscale": [
             [
              0,
              "#0d0887"
             ],
             [
              0.1111111111111111,
              "#46039f"
             ],
             [
              0.2222222222222222,
              "#7201a8"
             ],
             [
              0.3333333333333333,
              "#9c179e"
             ],
             [
              0.4444444444444444,
              "#bd3786"
             ],
             [
              0.5555555555555556,
              "#d8576b"
             ],
             [
              0.6666666666666666,
              "#ed7953"
             ],
             [
              0.7777777777777778,
              "#fb9f3a"
             ],
             [
              0.8888888888888888,
              "#fdca26"
             ],
             [
              1,
              "#f0f921"
             ]
            ],
            "type": "histogram2d"
           }
          ],
          "histogram2dcontour": [
           {
            "colorbar": {
             "outlinewidth": 0,
             "ticks": ""
            },
            "colorscale": [
             [
              0,
              "#0d0887"
             ],
             [
              0.1111111111111111,
              "#46039f"
             ],
             [
              0.2222222222222222,
              "#7201a8"
             ],
             [
              0.3333333333333333,
              "#9c179e"
             ],
             [
              0.4444444444444444,
              "#bd3786"
             ],
             [
              0.5555555555555556,
              "#d8576b"
             ],
             [
              0.6666666666666666,
              "#ed7953"
             ],
             [
              0.7777777777777778,
              "#fb9f3a"
             ],
             [
              0.8888888888888888,
              "#fdca26"
             ],
             [
              1,
              "#f0f921"
             ]
            ],
            "type": "histogram2dcontour"
           }
          ],
          "mesh3d": [
           {
            "colorbar": {
             "outlinewidth": 0,
             "ticks": ""
            },
            "type": "mesh3d"
           }
          ],
          "parcoords": [
           {
            "line": {
             "colorbar": {
              "outlinewidth": 0,
              "ticks": ""
             }
            },
            "type": "parcoords"
           }
          ],
          "pie": [
           {
            "automargin": true,
            "type": "pie"
           }
          ],
          "scatter": [
           {
            "fillpattern": {
             "fillmode": "overlay",
             "size": 10,
             "solidity": 0.2
            },
            "type": "scatter"
           }
          ],
          "scatter3d": [
           {
            "line": {
             "colorbar": {
              "outlinewidth": 0,
              "ticks": ""
             }
            },
            "marker": {
             "colorbar": {
              "outlinewidth": 0,
              "ticks": ""
             }
            },
            "type": "scatter3d"
           }
          ],
          "scattercarpet": [
           {
            "marker": {
             "colorbar": {
              "outlinewidth": 0,
              "ticks": ""
             }
            },
            "type": "scattercarpet"
           }
          ],
          "scattergeo": [
           {
            "marker": {
             "colorbar": {
              "outlinewidth": 0,
              "ticks": ""
             }
            },
            "type": "scattergeo"
           }
          ],
          "scattergl": [
           {
            "marker": {
             "colorbar": {
              "outlinewidth": 0,
              "ticks": ""
             }
            },
            "type": "scattergl"
           }
          ],
          "scattermapbox": [
           {
            "marker": {
             "colorbar": {
              "outlinewidth": 0,
              "ticks": ""
             }
            },
            "type": "scattermapbox"
           }
          ],
          "scatterpolar": [
           {
            "marker": {
             "colorbar": {
              "outlinewidth": 0,
              "ticks": ""
             }
            },
            "type": "scatterpolar"
           }
          ],
          "scatterpolargl": [
           {
            "marker": {
             "colorbar": {
              "outlinewidth": 0,
              "ticks": ""
             }
            },
            "type": "scatterpolargl"
           }
          ],
          "scatterternary": [
           {
            "marker": {
             "colorbar": {
              "outlinewidth": 0,
              "ticks": ""
             }
            },
            "type": "scatterternary"
           }
          ],
          "surface": [
           {
            "colorbar": {
             "outlinewidth": 0,
             "ticks": ""
            },
            "colorscale": [
             [
              0,
              "#0d0887"
             ],
             [
              0.1111111111111111,
              "#46039f"
             ],
             [
              0.2222222222222222,
              "#7201a8"
             ],
             [
              0.3333333333333333,
              "#9c179e"
             ],
             [
              0.4444444444444444,
              "#bd3786"
             ],
             [
              0.5555555555555556,
              "#d8576b"
             ],
             [
              0.6666666666666666,
              "#ed7953"
             ],
             [
              0.7777777777777778,
              "#fb9f3a"
             ],
             [
              0.8888888888888888,
              "#fdca26"
             ],
             [
              1,
              "#f0f921"
             ]
            ],
            "type": "surface"
           }
          ],
          "table": [
           {
            "cells": {
             "fill": {
              "color": "#EBF0F8"
             },
             "line": {
              "color": "white"
             }
            },
            "header": {
             "fill": {
              "color": "#C8D4E3"
             },
             "line": {
              "color": "white"
             }
            },
            "type": "table"
           }
          ]
         },
         "layout": {
          "annotationdefaults": {
           "arrowcolor": "#2a3f5f",
           "arrowhead": 0,
           "arrowwidth": 1
          },
          "autotypenumbers": "strict",
          "coloraxis": {
           "colorbar": {
            "outlinewidth": 0,
            "ticks": ""
           }
          },
          "colorscale": {
           "diverging": [
            [
             0,
             "#8e0152"
            ],
            [
             0.1,
             "#c51b7d"
            ],
            [
             0.2,
             "#de77ae"
            ],
            [
             0.3,
             "#f1b6da"
            ],
            [
             0.4,
             "#fde0ef"
            ],
            [
             0.5,
             "#f7f7f7"
            ],
            [
             0.6,
             "#e6f5d0"
            ],
            [
             0.7,
             "#b8e186"
            ],
            [
             0.8,
             "#7fbc41"
            ],
            [
             0.9,
             "#4d9221"
            ],
            [
             1,
             "#276419"
            ]
           ],
           "sequential": [
            [
             0,
             "#0d0887"
            ],
            [
             0.1111111111111111,
             "#46039f"
            ],
            [
             0.2222222222222222,
             "#7201a8"
            ],
            [
             0.3333333333333333,
             "#9c179e"
            ],
            [
             0.4444444444444444,
             "#bd3786"
            ],
            [
             0.5555555555555556,
             "#d8576b"
            ],
            [
             0.6666666666666666,
             "#ed7953"
            ],
            [
             0.7777777777777778,
             "#fb9f3a"
            ],
            [
             0.8888888888888888,
             "#fdca26"
            ],
            [
             1,
             "#f0f921"
            ]
           ],
           "sequentialminus": [
            [
             0,
             "#0d0887"
            ],
            [
             0.1111111111111111,
             "#46039f"
            ],
            [
             0.2222222222222222,
             "#7201a8"
            ],
            [
             0.3333333333333333,
             "#9c179e"
            ],
            [
             0.4444444444444444,
             "#bd3786"
            ],
            [
             0.5555555555555556,
             "#d8576b"
            ],
            [
             0.6666666666666666,
             "#ed7953"
            ],
            [
             0.7777777777777778,
             "#fb9f3a"
            ],
            [
             0.8888888888888888,
             "#fdca26"
            ],
            [
             1,
             "#f0f921"
            ]
           ]
          },
          "colorway": [
           "#636efa",
           "#EF553B",
           "#00cc96",
           "#ab63fa",
           "#FFA15A",
           "#19d3f3",
           "#FF6692",
           "#B6E880",
           "#FF97FF",
           "#FECB52"
          ],
          "font": {
           "color": "#2a3f5f"
          },
          "geo": {
           "bgcolor": "white",
           "lakecolor": "white",
           "landcolor": "#E5ECF6",
           "showlakes": true,
           "showland": true,
           "subunitcolor": "white"
          },
          "hoverlabel": {
           "align": "left"
          },
          "hovermode": "closest",
          "mapbox": {
           "style": "light"
          },
          "paper_bgcolor": "white",
          "plot_bgcolor": "#E5ECF6",
          "polar": {
           "angularaxis": {
            "gridcolor": "white",
            "linecolor": "white",
            "ticks": ""
           },
           "bgcolor": "#E5ECF6",
           "radialaxis": {
            "gridcolor": "white",
            "linecolor": "white",
            "ticks": ""
           }
          },
          "scene": {
           "xaxis": {
            "backgroundcolor": "#E5ECF6",
            "gridcolor": "white",
            "gridwidth": 2,
            "linecolor": "white",
            "showbackground": true,
            "ticks": "",
            "zerolinecolor": "white"
           },
           "yaxis": {
            "backgroundcolor": "#E5ECF6",
            "gridcolor": "white",
            "gridwidth": 2,
            "linecolor": "white",
            "showbackground": true,
            "ticks": "",
            "zerolinecolor": "white"
           },
           "zaxis": {
            "backgroundcolor": "#E5ECF6",
            "gridcolor": "white",
            "gridwidth": 2,
            "linecolor": "white",
            "showbackground": true,
            "ticks": "",
            "zerolinecolor": "white"
           }
          },
          "shapedefaults": {
           "line": {
            "color": "#2a3f5f"
           }
          },
          "ternary": {
           "aaxis": {
            "gridcolor": "white",
            "linecolor": "white",
            "ticks": ""
           },
           "baxis": {
            "gridcolor": "white",
            "linecolor": "white",
            "ticks": ""
           },
           "bgcolor": "#E5ECF6",
           "caxis": {
            "gridcolor": "white",
            "linecolor": "white",
            "ticks": ""
           }
          },
          "title": {
           "x": 0.05
          },
          "xaxis": {
           "automargin": true,
           "gridcolor": "white",
           "linecolor": "white",
           "ticks": "",
           "title": {
            "standoff": 15
           },
           "zerolinecolor": "white",
           "zerolinewidth": 2
          },
          "yaxis": {
           "automargin": true,
           "gridcolor": "white",
           "linecolor": "white",
           "ticks": "",
           "title": {
            "standoff": 15
           },
           "zerolinecolor": "white",
           "zerolinewidth": 2
          }
         }
        },
        "title": {
         "text": "Correlation between best feature and label"
        },
        "xaxis": {
         "anchor": "y",
         "domain": [
          0,
          1
         ],
         "title": {
          "text": "shipping_cost"
         },
         "type": "log"
        },
        "yaxis": {
         "anchor": "x",
         "domain": [
          0,
          1
         ],
         "title": {
          "text": "sales"
         },
         "type": "log"
        }
       }
      }
     },
     "metadata": {},
     "output_type": "display_data"
    }
   ],
   "source": [
    "fig = px.scatter(linear_df, x=linear_df[best_feature], y=linear_df['sales'], color=linear_df[best_feature])\n",
    "fig.update_layout(xaxis_type='log', yaxis_type='log', title=\"Correlation between best feature and label\")"
   ]
  },
  {
   "cell_type": "code",
   "execution_count": 483,
   "metadata": {},
   "outputs": [
    {
     "data": {
      "application/vnd.plotly.v1+json": {
       "config": {
        "plotlyServerURL": "https://plot.ly"
       },
       "data": [
        {
         "coloraxis": "coloraxis",
         "hovertemplate": "x: %{x}<br>y: %{y}<br>color: %{z}<extra></extra>",
         "name": "0",
         "texttemplate": "%{z}",
         "type": "heatmap",
         "x": [
          "sales",
          "quantity",
          "discount",
          "profit",
          "shipping_cost"
         ],
         "xaxis": "x",
         "y": [
          "sales",
          "quantity",
          "discount",
          "profit",
          "shipping_cost"
         ],
         "yaxis": "y",
         "z": [
          [
           1,
           0.9003164133269917,
           0.7018750763943543,
           0.639668997101287,
           0.9473267248381336
          ],
          [
           0.9003164133269917,
           1,
           0.8255738030305928,
           0.5332230405882186,
           0.8767916619552825
          ],
          [
           0.7018750763943543,
           0.8255738030305928,
           1,
           0.21750422251903553,
           0.6933399217813234
          ],
          [
           0.639668997101287,
           0.5332230405882186,
           0.21750422251903553,
           1,
           0.6065593840209813
          ],
          [
           0.9473267248381336,
           0.8767916619552825,
           0.6933399217813234,
           0.6065593840209813,
           1
          ]
         ]
        }
       ],
       "layout": {
        "coloraxis": {
         "colorscale": [
          [
           0,
           "rgb(165,0,38)"
          ],
          [
           0.1,
           "rgb(215,48,39)"
          ],
          [
           0.2,
           "rgb(244,109,67)"
          ],
          [
           0.3,
           "rgb(253,174,97)"
          ],
          [
           0.4,
           "rgb(254,224,144)"
          ],
          [
           0.5,
           "rgb(255,255,191)"
          ],
          [
           0.6,
           "rgb(224,243,248)"
          ],
          [
           0.7,
           "rgb(171,217,233)"
          ],
          [
           0.8,
           "rgb(116,173,209)"
          ],
          [
           0.9,
           "rgb(69,117,180)"
          ],
          [
           1,
           "rgb(49,54,149)"
          ]
         ]
        },
        "template": {
         "data": {
          "bar": [
           {
            "error_x": {
             "color": "#2a3f5f"
            },
            "error_y": {
             "color": "#2a3f5f"
            },
            "marker": {
             "line": {
              "color": "#E5ECF6",
              "width": 0.5
             },
             "pattern": {
              "fillmode": "overlay",
              "size": 10,
              "solidity": 0.2
             }
            },
            "type": "bar"
           }
          ],
          "barpolar": [
           {
            "marker": {
             "line": {
              "color": "#E5ECF6",
              "width": 0.5
             },
             "pattern": {
              "fillmode": "overlay",
              "size": 10,
              "solidity": 0.2
             }
            },
            "type": "barpolar"
           }
          ],
          "carpet": [
           {
            "aaxis": {
             "endlinecolor": "#2a3f5f",
             "gridcolor": "white",
             "linecolor": "white",
             "minorgridcolor": "white",
             "startlinecolor": "#2a3f5f"
            },
            "baxis": {
             "endlinecolor": "#2a3f5f",
             "gridcolor": "white",
             "linecolor": "white",
             "minorgridcolor": "white",
             "startlinecolor": "#2a3f5f"
            },
            "type": "carpet"
           }
          ],
          "choropleth": [
           {
            "colorbar": {
             "outlinewidth": 0,
             "ticks": ""
            },
            "type": "choropleth"
           }
          ],
          "contour": [
           {
            "colorbar": {
             "outlinewidth": 0,
             "ticks": ""
            },
            "colorscale": [
             [
              0,
              "#0d0887"
             ],
             [
              0.1111111111111111,
              "#46039f"
             ],
             [
              0.2222222222222222,
              "#7201a8"
             ],
             [
              0.3333333333333333,
              "#9c179e"
             ],
             [
              0.4444444444444444,
              "#bd3786"
             ],
             [
              0.5555555555555556,
              "#d8576b"
             ],
             [
              0.6666666666666666,
              "#ed7953"
             ],
             [
              0.7777777777777778,
              "#fb9f3a"
             ],
             [
              0.8888888888888888,
              "#fdca26"
             ],
             [
              1,
              "#f0f921"
             ]
            ],
            "type": "contour"
           }
          ],
          "contourcarpet": [
           {
            "colorbar": {
             "outlinewidth": 0,
             "ticks": ""
            },
            "type": "contourcarpet"
           }
          ],
          "heatmap": [
           {
            "colorbar": {
             "outlinewidth": 0,
             "ticks": ""
            },
            "colorscale": [
             [
              0,
              "#0d0887"
             ],
             [
              0.1111111111111111,
              "#46039f"
             ],
             [
              0.2222222222222222,
              "#7201a8"
             ],
             [
              0.3333333333333333,
              "#9c179e"
             ],
             [
              0.4444444444444444,
              "#bd3786"
             ],
             [
              0.5555555555555556,
              "#d8576b"
             ],
             [
              0.6666666666666666,
              "#ed7953"
             ],
             [
              0.7777777777777778,
              "#fb9f3a"
             ],
             [
              0.8888888888888888,
              "#fdca26"
             ],
             [
              1,
              "#f0f921"
             ]
            ],
            "type": "heatmap"
           }
          ],
          "heatmapgl": [
           {
            "colorbar": {
             "outlinewidth": 0,
             "ticks": ""
            },
            "colorscale": [
             [
              0,
              "#0d0887"
             ],
             [
              0.1111111111111111,
              "#46039f"
             ],
             [
              0.2222222222222222,
              "#7201a8"
             ],
             [
              0.3333333333333333,
              "#9c179e"
             ],
             [
              0.4444444444444444,
              "#bd3786"
             ],
             [
              0.5555555555555556,
              "#d8576b"
             ],
             [
              0.6666666666666666,
              "#ed7953"
             ],
             [
              0.7777777777777778,
              "#fb9f3a"
             ],
             [
              0.8888888888888888,
              "#fdca26"
             ],
             [
              1,
              "#f0f921"
             ]
            ],
            "type": "heatmapgl"
           }
          ],
          "histogram": [
           {
            "marker": {
             "pattern": {
              "fillmode": "overlay",
              "size": 10,
              "solidity": 0.2
             }
            },
            "type": "histogram"
           }
          ],
          "histogram2d": [
           {
            "colorbar": {
             "outlinewidth": 0,
             "ticks": ""
            },
            "colorscale": [
             [
              0,
              "#0d0887"
             ],
             [
              0.1111111111111111,
              "#46039f"
             ],
             [
              0.2222222222222222,
              "#7201a8"
             ],
             [
              0.3333333333333333,
              "#9c179e"
             ],
             [
              0.4444444444444444,
              "#bd3786"
             ],
             [
              0.5555555555555556,
              "#d8576b"
             ],
             [
              0.6666666666666666,
              "#ed7953"
             ],
             [
              0.7777777777777778,
              "#fb9f3a"
             ],
             [
              0.8888888888888888,
              "#fdca26"
             ],
             [
              1,
              "#f0f921"
             ]
            ],
            "type": "histogram2d"
           }
          ],
          "histogram2dcontour": [
           {
            "colorbar": {
             "outlinewidth": 0,
             "ticks": ""
            },
            "colorscale": [
             [
              0,
              "#0d0887"
             ],
             [
              0.1111111111111111,
              "#46039f"
             ],
             [
              0.2222222222222222,
              "#7201a8"
             ],
             [
              0.3333333333333333,
              "#9c179e"
             ],
             [
              0.4444444444444444,
              "#bd3786"
             ],
             [
              0.5555555555555556,
              "#d8576b"
             ],
             [
              0.6666666666666666,
              "#ed7953"
             ],
             [
              0.7777777777777778,
              "#fb9f3a"
             ],
             [
              0.8888888888888888,
              "#fdca26"
             ],
             [
              1,
              "#f0f921"
             ]
            ],
            "type": "histogram2dcontour"
           }
          ],
          "mesh3d": [
           {
            "colorbar": {
             "outlinewidth": 0,
             "ticks": ""
            },
            "type": "mesh3d"
           }
          ],
          "parcoords": [
           {
            "line": {
             "colorbar": {
              "outlinewidth": 0,
              "ticks": ""
             }
            },
            "type": "parcoords"
           }
          ],
          "pie": [
           {
            "automargin": true,
            "type": "pie"
           }
          ],
          "scatter": [
           {
            "fillpattern": {
             "fillmode": "overlay",
             "size": 10,
             "solidity": 0.2
            },
            "type": "scatter"
           }
          ],
          "scatter3d": [
           {
            "line": {
             "colorbar": {
              "outlinewidth": 0,
              "ticks": ""
             }
            },
            "marker": {
             "colorbar": {
              "outlinewidth": 0,
              "ticks": ""
             }
            },
            "type": "scatter3d"
           }
          ],
          "scattercarpet": [
           {
            "marker": {
             "colorbar": {
              "outlinewidth": 0,
              "ticks": ""
             }
            },
            "type": "scattercarpet"
           }
          ],
          "scattergeo": [
           {
            "marker": {
             "colorbar": {
              "outlinewidth": 0,
              "ticks": ""
             }
            },
            "type": "scattergeo"
           }
          ],
          "scattergl": [
           {
            "marker": {
             "colorbar": {
              "outlinewidth": 0,
              "ticks": ""
             }
            },
            "type": "scattergl"
           }
          ],
          "scattermapbox": [
           {
            "marker": {
             "colorbar": {
              "outlinewidth": 0,
              "ticks": ""
             }
            },
            "type": "scattermapbox"
           }
          ],
          "scatterpolar": [
           {
            "marker": {
             "colorbar": {
              "outlinewidth": 0,
              "ticks": ""
             }
            },
            "type": "scatterpolar"
           }
          ],
          "scatterpolargl": [
           {
            "marker": {
             "colorbar": {
              "outlinewidth": 0,
              "ticks": ""
             }
            },
            "type": "scatterpolargl"
           }
          ],
          "scatterternary": [
           {
            "marker": {
             "colorbar": {
              "outlinewidth": 0,
              "ticks": ""
             }
            },
            "type": "scatterternary"
           }
          ],
          "surface": [
           {
            "colorbar": {
             "outlinewidth": 0,
             "ticks": ""
            },
            "colorscale": [
             [
              0,
              "#0d0887"
             ],
             [
              0.1111111111111111,
              "#46039f"
             ],
             [
              0.2222222222222222,
              "#7201a8"
             ],
             [
              0.3333333333333333,
              "#9c179e"
             ],
             [
              0.4444444444444444,
              "#bd3786"
             ],
             [
              0.5555555555555556,
              "#d8576b"
             ],
             [
              0.6666666666666666,
              "#ed7953"
             ],
             [
              0.7777777777777778,
              "#fb9f3a"
             ],
             [
              0.8888888888888888,
              "#fdca26"
             ],
             [
              1,
              "#f0f921"
             ]
            ],
            "type": "surface"
           }
          ],
          "table": [
           {
            "cells": {
             "fill": {
              "color": "#EBF0F8"
             },
             "line": {
              "color": "white"
             }
            },
            "header": {
             "fill": {
              "color": "#C8D4E3"
             },
             "line": {
              "color": "white"
             }
            },
            "type": "table"
           }
          ]
         },
         "layout": {
          "annotationdefaults": {
           "arrowcolor": "#2a3f5f",
           "arrowhead": 0,
           "arrowwidth": 1
          },
          "autotypenumbers": "strict",
          "coloraxis": {
           "colorbar": {
            "outlinewidth": 0,
            "ticks": ""
           }
          },
          "colorscale": {
           "diverging": [
            [
             0,
             "#8e0152"
            ],
            [
             0.1,
             "#c51b7d"
            ],
            [
             0.2,
             "#de77ae"
            ],
            [
             0.3,
             "#f1b6da"
            ],
            [
             0.4,
             "#fde0ef"
            ],
            [
             0.5,
             "#f7f7f7"
            ],
            [
             0.6,
             "#e6f5d0"
            ],
            [
             0.7,
             "#b8e186"
            ],
            [
             0.8,
             "#7fbc41"
            ],
            [
             0.9,
             "#4d9221"
            ],
            [
             1,
             "#276419"
            ]
           ],
           "sequential": [
            [
             0,
             "#0d0887"
            ],
            [
             0.1111111111111111,
             "#46039f"
            ],
            [
             0.2222222222222222,
             "#7201a8"
            ],
            [
             0.3333333333333333,
             "#9c179e"
            ],
            [
             0.4444444444444444,
             "#bd3786"
            ],
            [
             0.5555555555555556,
             "#d8576b"
            ],
            [
             0.6666666666666666,
             "#ed7953"
            ],
            [
             0.7777777777777778,
             "#fb9f3a"
            ],
            [
             0.8888888888888888,
             "#fdca26"
            ],
            [
             1,
             "#f0f921"
            ]
           ],
           "sequentialminus": [
            [
             0,
             "#0d0887"
            ],
            [
             0.1111111111111111,
             "#46039f"
            ],
            [
             0.2222222222222222,
             "#7201a8"
            ],
            [
             0.3333333333333333,
             "#9c179e"
            ],
            [
             0.4444444444444444,
             "#bd3786"
            ],
            [
             0.5555555555555556,
             "#d8576b"
            ],
            [
             0.6666666666666666,
             "#ed7953"
            ],
            [
             0.7777777777777778,
             "#fb9f3a"
            ],
            [
             0.8888888888888888,
             "#fdca26"
            ],
            [
             1,
             "#f0f921"
            ]
           ]
          },
          "colorway": [
           "#636efa",
           "#EF553B",
           "#00cc96",
           "#ab63fa",
           "#FFA15A",
           "#19d3f3",
           "#FF6692",
           "#B6E880",
           "#FF97FF",
           "#FECB52"
          ],
          "font": {
           "color": "#2a3f5f"
          },
          "geo": {
           "bgcolor": "white",
           "lakecolor": "white",
           "landcolor": "#E5ECF6",
           "showlakes": true,
           "showland": true,
           "subunitcolor": "white"
          },
          "hoverlabel": {
           "align": "left"
          },
          "hovermode": "closest",
          "mapbox": {
           "style": "light"
          },
          "paper_bgcolor": "white",
          "plot_bgcolor": "#E5ECF6",
          "polar": {
           "angularaxis": {
            "gridcolor": "white",
            "linecolor": "white",
            "ticks": ""
           },
           "bgcolor": "#E5ECF6",
           "radialaxis": {
            "gridcolor": "white",
            "linecolor": "white",
            "ticks": ""
           }
          },
          "scene": {
           "xaxis": {
            "backgroundcolor": "#E5ECF6",
            "gridcolor": "white",
            "gridwidth": 2,
            "linecolor": "white",
            "showbackground": true,
            "ticks": "",
            "zerolinecolor": "white"
           },
           "yaxis": {
            "backgroundcolor": "#E5ECF6",
            "gridcolor": "white",
            "gridwidth": 2,
            "linecolor": "white",
            "showbackground": true,
            "ticks": "",
            "zerolinecolor": "white"
           },
           "zaxis": {
            "backgroundcolor": "#E5ECF6",
            "gridcolor": "white",
            "gridwidth": 2,
            "linecolor": "white",
            "showbackground": true,
            "ticks": "",
            "zerolinecolor": "white"
           }
          },
          "shapedefaults": {
           "line": {
            "color": "#2a3f5f"
           }
          },
          "ternary": {
           "aaxis": {
            "gridcolor": "white",
            "linecolor": "white",
            "ticks": ""
           },
           "baxis": {
            "gridcolor": "white",
            "linecolor": "white",
            "ticks": ""
           },
           "bgcolor": "#E5ECF6",
           "caxis": {
            "gridcolor": "white",
            "linecolor": "white",
            "ticks": ""
           }
          },
          "title": {
           "x": 0.05
          },
          "xaxis": {
           "automargin": true,
           "gridcolor": "white",
           "linecolor": "white",
           "ticks": "",
           "title": {
            "standoff": 15
           },
           "zerolinecolor": "white",
           "zerolinewidth": 2
          },
          "yaxis": {
           "automargin": true,
           "gridcolor": "white",
           "linecolor": "white",
           "ticks": "",
           "title": {
            "standoff": 15
           },
           "zerolinecolor": "white",
           "zerolinewidth": 2
          }
         }
        },
        "title": {
         "text": "Correlation Heatmap of all features and label"
        },
        "xaxis": {
         "anchor": "y",
         "constrain": "domain",
         "domain": [
          0,
          1
         ],
         "scaleanchor": "y"
        },
        "yaxis": {
         "anchor": "x",
         "autorange": "reversed",
         "constrain": "domain",
         "domain": [
          0,
          1
         ]
        }
       }
      }
     },
     "metadata": {},
     "output_type": "display_data"
    }
   ],
   "source": [
    "correlation_matrix = linear_df.corr(method='spearman')\n",
    "fig = px.imshow(correlation_matrix, text_auto = True, color_continuous_scale = 'RdYlBu', title=\"Correlation Heatmap of all features and label\")\n",
    "fig.show()"
   ]
  },
  {
   "cell_type": "code",
   "execution_count": null,
   "metadata": {},
   "outputs": [],
   "source": []
  }
 ],
 "metadata": {
  "kernelspec": {
   "display_name": "min_ds-env",
   "language": "python",
   "name": "python3"
  },
  "language_info": {
   "codemirror_mode": {
    "name": "ipython",
    "version": 3
   },
   "file_extension": ".py",
   "mimetype": "text/x-python",
   "name": "python",
   "nbconvert_exporter": "python",
   "pygments_lexer": "ipython3",
   "version": "3.8.8"
  },
  "orig_nbformat": 4
 },
 "nbformat": 4,
 "nbformat_minor": 2
}
